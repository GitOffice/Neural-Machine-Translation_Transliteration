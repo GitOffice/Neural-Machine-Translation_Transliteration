{
 "cells": [
  {
   "cell_type": "code",
   "execution_count": 1,
   "metadata": {},
   "outputs": [],
   "source": [
    "%matplotlib inline\n",
    "%reload_ext autoreload\n",
    "%autoreload 2"
   ]
  },
  {
   "cell_type": "markdown",
   "metadata": {},
   "source": [
    "## Translation files"
   ]
  },
  {
   "cell_type": "markdown",
   "metadata": {},
   "source": [
    "Importing fastai.text"
   ]
  },
  {
   "cell_type": "code",
   "execution_count": 2,
   "metadata": {},
   "outputs": [],
   "source": [
    "from fastai.text import *"
   ]
  },
  {
   "cell_type": "markdown",
   "metadata": {},
   "source": [
    "French/English parallel texts from http://www.statmt.org/wmt15/translation-task.html .  It was created by Chris Callison-Burch, who crawled millions of web pages and then used *a set of simple heuristics to transform French URLs onto English URLs (i.e. replacing \"fr\" with \"en\" and about 40 other hand-written rules), and assume that these documents are translations of each other*."
   ]
  },
  {
   "cell_type": "code",
   "execution_count": 3,
   "metadata": {
    "scrolled": true
   },
   "outputs": [],
   "source": [
    "#!ls data/translate/"
   ]
  },
  {
   "cell_type": "markdown",
   "metadata": {},
   "source": [
    "Each line contains a pair of sentences both in french and in english separated by a tabulation (TSV : Tab Separated Values)"
   ]
  },
  {
   "cell_type": "code",
   "execution_count": 3,
   "metadata": {
    "scrolled": false
   },
   "outputs": [
    {
     "name": "stdout",
     "output_type": "stream",
     "text": [
      "Va !\tGo.\r\n",
      "Cours !\tRun!\r\n",
      "Courez !\tRun!\r\n",
      "Ça alors !\tWow!\r\n",
      "Au feu !\tFire!\r\n"
     ]
    }
   ],
   "source": [
    "#!head -n 5 data/en-fr.txt\n",
    "!head -n 5 data/fr-en.txt"
   ]
  },
  {
   "cell_type": "markdown",
   "metadata": {},
   "source": [
    "The data should be found in the file en-fr.txt in the folder data/  \n",
    "data/tmp will contain temporary files"
   ]
  },
  {
   "cell_type": "code",
   "execution_count": 4,
   "metadata": {},
   "outputs": [],
   "source": [
    "PATH = Path('data')\n",
    "TMP_PATH = PATH/'tmp'\n",
    "TMP_PATH.mkdir(exist_ok=True)\n",
    "#fname = PATH/'en-fr.txt'\n",
    "fname = PATH/'fr-en.txt'"
   ]
  },
  {
   "cell_type": "markdown",
   "metadata": {},
   "source": [
    "Reading the file with utf-8 encoding"
   ]
  },
  {
   "cell_type": "code",
   "execution_count": 99,
   "metadata": {},
   "outputs": [],
   "source": [
    "lines = list(open(fname, encoding='utf-8'))\n",
    "#lines = lines[:50] # the first 50 pairs, comment out this line to train on the whole dataset"
   ]
  },
  {
   "cell_type": "code",
   "execution_count": 100,
   "metadata": {},
   "outputs": [
    {
     "data": {
      "text/plain": [
       "149861"
      ]
     },
     "execution_count": 100,
     "metadata": {},
     "output_type": "execute_result"
    }
   ],
   "source": [
    "len(lines)"
   ]
  },
  {
   "cell_type": "code",
   "execution_count": null,
   "metadata": {},
   "outputs": [],
   "source": [
    "#lines = lines[:100]"
   ]
  },
  {
   "cell_type": "code",
   "execution_count": 101,
   "metadata": {},
   "outputs": [
    {
     "data": {
      "text/plain": [
       "100"
      ]
     },
     "execution_count": 101,
     "metadata": {},
     "output_type": "execute_result"
    }
   ],
   "source": [
    "lines = np.random.choice(lines, 100)\n",
    "len(lines)"
   ]
  },
  {
   "cell_type": "code",
   "execution_count": 102,
   "metadata": {},
   "outputs": [
    {
     "data": {
      "text/plain": [
       "array([\"Vous n'êtes pas invitée.\\tYou aren't invited.\\n\", 'Il sauta une classe.\\tHe skipped a year.\\n',\n",
       "       \"On ne peut pas faire entendre raison à Tom.\\tYou can't reason with Tom.\\n\",\n",
       "       \"Je ne voulais pas que vous vous sentiez seul.\\tI didn't want you to feel you were alone.\\n\",\n",
       "       \"Ne laisse pas les enfants monopoliser la télévision.\\tDon't let the children monopolize the television.\\n\"],\n",
       "      dtype='<U637')"
      ]
     },
     "execution_count": 102,
     "metadata": {},
     "output_type": "execute_result"
    }
   ],
   "source": [
    "lines[:5]"
   ]
  },
  {
   "cell_type": "markdown",
   "metadata": {},
   "source": [
    "Separating english and french sentences"
   ]
  },
  {
   "cell_type": "code",
   "execution_count": 110,
   "metadata": {},
   "outputs": [],
   "source": [
    "en = []\n",
    "fr = []\n",
    "for line in lines:\n",
    "    #enSentence, frSentence = line.rstrip().split('\\t') # .rstrip() to remove the trailing \\n in each line\n",
    "    frSentence, enSentence = line.rstrip().split('\\t') # .rstrip() to remove the trailing \\n in each line\n",
    "    en.append(enSentence)\n",
    "    fr.append(frSentence)"
   ]
  },
  {
   "cell_type": "code",
   "execution_count": 111,
   "metadata": {
    "scrolled": true
   },
   "outputs": [
    {
     "data": {
      "text/plain": [
       "[(\"You aren't invited.\", \"Vous n'êtes pas invitée.\"),\n",
       " ('He skipped a year.', 'Il sauta une classe.'),\n",
       " (\"You can't reason with Tom.\", 'On ne peut pas faire entendre raison à Tom.'),\n",
       " (\"I didn't want you to feel you were alone.\",\n",
       "  'Je ne voulais pas que vous vous sentiez seul.'),\n",
       " (\"Don't let the children monopolize the television.\",\n",
       "  'Ne laisse pas les enfants monopoliser la télévision.')]"
      ]
     },
     "execution_count": 111,
     "metadata": {},
     "output_type": "execute_result"
    }
   ],
   "source": [
    "list(zip(en[:5], fr[:5]))"
   ]
  },
  {
   "cell_type": "markdown",
   "metadata": {},
   "source": [
    "Saving the sentences as pickle files (.pkl)"
   ]
  },
  {
   "cell_type": "code",
   "execution_count": 112,
   "metadata": {},
   "outputs": [],
   "source": [
    "pickle.dump(en, (PATH/'en.pkl').open('wb'))\n",
    "pickle.dump(fr, (PATH/'fr.pkl').open('wb'))"
   ]
  },
  {
   "cell_type": "markdown",
   "metadata": {},
   "source": [
    "Loading the sentences, reading them from pickle files  \n",
    "##### Add some logic before all the previous code, if you find the following files: {en,fr}.pkl, load them directly without doing it all over again"
   ]
  },
  {
   "cell_type": "code",
   "execution_count": 113,
   "metadata": {},
   "outputs": [],
   "source": [
    "en = pickle.load((PATH/'en.pkl').open('rb'))\n",
    "fr = pickle.load((PATH/'fr.pkl').open('rb'))"
   ]
  },
  {
   "cell_type": "code",
   "execution_count": 114,
   "metadata": {},
   "outputs": [
    {
     "data": {
      "text/plain": [
       "([(\"You aren't invited.\", \"Vous n'êtes pas invitée.\"),\n",
       "  ('He skipped a year.', 'Il sauta une classe.'),\n",
       "  (\"You can't reason with Tom.\",\n",
       "   'On ne peut pas faire entendre raison à Tom.'),\n",
       "  (\"I didn't want you to feel you were alone.\",\n",
       "   'Je ne voulais pas que vous vous sentiez seul.'),\n",
       "  (\"Don't let the children monopolize the television.\",\n",
       "   'Ne laisse pas les enfants monopoliser la télévision.')],\n",
       " 100)"
      ]
     },
     "execution_count": 114,
     "metadata": {},
     "output_type": "execute_result"
    }
   ],
   "source": [
    "list(zip(en[:5], fr[:5])), len(lines)"
   ]
  },
  {
   "cell_type": "markdown",
   "metadata": {},
   "source": [
    "Tokenizing the english sentences, using fastai and spacy"
   ]
  },
  {
   "cell_type": "code",
   "execution_count": 115,
   "metadata": {},
   "outputs": [],
   "source": [
    "en_tok = Tokenizer.proc_all_mp(partition_by_cores(en))"
   ]
  },
  {
   "cell_type": "code",
   "execution_count": 116,
   "metadata": {},
   "outputs": [
    {
     "data": {
      "text/plain": [
       "[['you', 'are', \"n't\", 'invited', '.'],\n",
       " ['he', 'skipped', 'a', 'year', '.'],\n",
       " ['you', 'ca', \"n't\", 'reason', 'with', 'tom', '.'],\n",
       " ['i', 'did', \"n't\", 'want', 'you', 'to', 'feel', 'you', 'were', 'alone', '.'],\n",
       " ['do',\n",
       "  \"n't\",\n",
       "  'let',\n",
       "  'the',\n",
       "  'children',\n",
       "  'monopolize',\n",
       "  'the',\n",
       "  'television',\n",
       "  '.']]"
      ]
     },
     "execution_count": 116,
     "metadata": {},
     "output_type": "execute_result"
    }
   ],
   "source": [
    "en_tok[:5]"
   ]
  },
  {
   "cell_type": "code",
   "execution_count": 16,
   "metadata": {
    "scrolled": false
   },
   "outputs": [],
   "source": [
    "#!python -m spacy download fr"
   ]
  },
  {
   "cell_type": "markdown",
   "metadata": {},
   "source": [
    "Tokenizing the french sentences, using fastai and spacy"
   ]
  },
  {
   "cell_type": "code",
   "execution_count": 117,
   "metadata": {
    "scrolled": true
   },
   "outputs": [],
   "source": [
    "fr_tok = Tokenizer.proc_all_mp(partition_by_cores(fr), 'fr')"
   ]
  },
  {
   "cell_type": "code",
   "execution_count": 118,
   "metadata": {},
   "outputs": [
    {
     "data": {
      "text/plain": [
       "[['vous', \"n'\", 'êtes', 'pas', 'invitée', '.'],\n",
       " ['il', 'sauta', 'une', 'classe', '.'],\n",
       " ['on', 'ne', 'peut', 'pas', 'faire', 'entendre', 'raison', 'à', 'tom', '.'],\n",
       " ['je', 'ne', 'voulais', 'pas', 'que', 'vous', 'vous', 'sentiez', 'seul', '.'],\n",
       " ['ne',\n",
       "  'laisse',\n",
       "  'pas',\n",
       "  'les',\n",
       "  'enfants',\n",
       "  'monopoliser',\n",
       "  'la',\n",
       "  'télévision',\n",
       "  '.']]"
      ]
     },
     "execution_count": 118,
     "metadata": {},
     "output_type": "execute_result"
    }
   ],
   "source": [
    "fr_tok[:5]"
   ]
  },
  {
   "cell_type": "code",
   "execution_count": 119,
   "metadata": {
    "scrolled": true
   },
   "outputs": [
    {
     "data": {
      "text/plain": [
       "(['you', 'are', \"n't\", 'invited', '.'],\n",
       " ['vous', \"n'\", 'êtes', 'pas', 'invitée', '.'])"
      ]
     },
     "execution_count": 119,
     "metadata": {},
     "output_type": "execute_result"
    }
   ],
   "source": [
    "en_tok[0], fr_tok[0]"
   ]
  },
  {
   "cell_type": "code",
   "execution_count": 141,
   "metadata": {},
   "outputs": [],
   "source": [
    "#np.percentile([len(o) for o in en_tok], 90), np.percentile([len(o) for o in fr_tok], 90)"
   ]
  },
  {
   "cell_type": "code",
   "execution_count": 142,
   "metadata": {},
   "outputs": [],
   "source": [
    "#keep = np.array([len(o)<30 for o in en_tok])"
   ]
  },
  {
   "cell_type": "code",
   "execution_count": 143,
   "metadata": {},
   "outputs": [],
   "source": [
    "#en_tok = np.array(en_tok)[keep]\n",
    "#fr_tok = np.array(fr_tok)[keep]"
   ]
  },
  {
   "cell_type": "markdown",
   "metadata": {},
   "source": [
    "Saving the tokenized sentences as pickle files (.pkl)"
   ]
  },
  {
   "cell_type": "code",
   "execution_count": 120,
   "metadata": {},
   "outputs": [],
   "source": [
    "pickle.dump(en_tok, (PATH/'en_tok.pkl').open('wb'))\n",
    "pickle.dump(fr_tok, (PATH/'fr_tok.pkl').open('wb'))"
   ]
  },
  {
   "cell_type": "markdown",
   "metadata": {},
   "source": [
    "Loading the tokenized sentences, reading them from pickle files"
   ]
  },
  {
   "cell_type": "code",
   "execution_count": 5,
   "metadata": {},
   "outputs": [],
   "source": [
    "en_tok = pickle.load((PATH/'en_tok.pkl').open('rb'))\n",
    "fr_tok = pickle.load((PATH/'fr_tok.pkl').open('rb'))"
   ]
  },
  {
   "cell_type": "markdown",
   "metadata": {},
   "source": [
    "The following function will get as arguments the list of tokenized sentences and their language ID  \n",
    "and returns the sentences converted to IDs, and the mappings ID -> token and token -> ID"
   ]
  },
  {
   "cell_type": "code",
   "execution_count": 6,
   "metadata": {
    "scrolled": true
   },
   "outputs": [],
   "source": [
    "def toks2ids(tok,pre):\n",
    "    \"\"\"\n",
    "        Convert tokens to IDs\n",
    "        tok is the list of tokenized sentences\n",
    "        pre is the name of the language, example: 'fr', 'en', ...\n",
    "    \"\"\"\n",
    "    freq = Counter(p for o in tok for p in o) # puts all tokens in Counter(.)\n",
    "    \n",
    "    # for a token, returns its index, int-to-string\n",
    "    itos = [o for o,c in freq.most_common(40000)] # 40K most common tokens, returns tuples (token, frequency)\n",
    "    itos.insert(0, '_bos_') # begining of sentence\n",
    "    itos.insert(1, '_pad_') # padding\n",
    "    itos.insert(2, '_eos_') # end of sentence\n",
    "    itos.insert(3, '_unk_') # unknown\n",
    "    # itos = [_bos_, _pad_, _eos_, _unk_, token1, token2, ...]\n",
    "    \n",
    "    # reverse mapping: string-to-int\n",
    "    # returns 3 '_unk_' if the token isn't found\n",
    "    stoi = collections.defaultdict(lambda: 3, {v:k for k,v in enumerate(itos)})\n",
    "    # stoi = {_bos_:0, _pad_:1, _eos_:2, _unk_:3, token1:4, token2:5, ...}\n",
    "    \n",
    "    # converts the tokenized sentences: replaces the token by its id using stoi\n",
    "    # notice that we've appended 2 (_eos_) at the end of each sentence\n",
    "    ids = np.array([([stoi[o] for o in p] + [2]) for p in tok])\n",
    "    \n",
    "    # saving the ids to a .npy file\n",
    "    np.save(TMP_PATH/f'{pre}_ids.npy', ids)\n",
    "    \n",
    "    # saving the itos mapping to a .pkl file\n",
    "    pickle.dump(itos, open(TMP_PATH/f'{pre}_itos.pkl', 'wb'))\n",
    "    \n",
    "    return ids, itos, stoi"
   ]
  },
  {
   "cell_type": "code",
   "execution_count": 7,
   "metadata": {},
   "outputs": [],
   "source": [
    "en_ids, en_itos, en_stoi = toks2ids(en_tok,'en')\n",
    "fr_ids, fr_itos, fr_stoi = toks2ids(fr_tok,'fr')"
   ]
  },
  {
   "cell_type": "markdown",
   "metadata": {},
   "source": [
    "The following function will load the mappings (saved from the previous function)  \n",
    "and returns the sentences converted to IDs, and the mappings ID -> token and token -> ID"
   ]
  },
  {
   "cell_type": "code",
   "execution_count": 8,
   "metadata": {},
   "outputs": [],
   "source": [
    "def load_ids(pre):\n",
    "    \"\"\"\n",
    "        load saved IDs\n",
    "        pre is the name of the language, example: 'fr', 'en', ...\n",
    "    \"\"\"\n",
    "    ids = np.load(TMP_PATH/f'{pre}_ids.npy')\n",
    "    itos = pickle.load(open(TMP_PATH/f'{pre}_itos.pkl', 'rb'))\n",
    "    stoi = collections.defaultdict(lambda: 3, {v:k for k,v in enumerate(itos)})\n",
    "    return ids, itos, stoi"
   ]
  },
  {
   "cell_type": "code",
   "execution_count": 9,
   "metadata": {},
   "outputs": [],
   "source": [
    "en_ids, en_itos, en_stoi = load_ids('en')\n",
    "fr_ids, fr_itos, fr_stoi = load_ids('fr')"
   ]
  },
  {
   "cell_type": "markdown",
   "metadata": {},
   "source": [
    "The following is how to use the ID -> token mapping to reconstruct the original tokenized sentence"
   ]
  },
  {
   "cell_type": "code",
   "execution_count": 10,
   "metadata": {},
   "outputs": [
    {
     "data": {
      "text/plain": [
       "(['vous', \"n'\", 'êtes', 'pas', 'invitée', '.', '_eos_'], 368)"
      ]
     },
     "execution_count": 10,
     "metadata": {},
     "output_type": "execute_result"
    }
   ],
   "source": [
    "[fr_itos[o] for o in fr_ids[0]], len(fr_itos)"
   ]
  },
  {
   "cell_type": "code",
   "execution_count": 11,
   "metadata": {},
   "outputs": [
    {
     "data": {
      "text/plain": [
       "(['you', 'are', \"n't\", 'invited', '.', '_eos_'], 304)"
      ]
     },
     "execution_count": 11,
     "metadata": {},
     "output_type": "execute_result"
    }
   ],
   "source": [
    "[en_itos[o] for o in en_ids[0]], len(en_itos)"
   ]
  },
  {
   "cell_type": "code",
   "execution_count": 12,
   "metadata": {},
   "outputs": [
    {
     "data": {
      "text/plain": [
       "array([list([5, 14, 9, 95, 4, 2]), list([15, 96, 11, 97, 4, 2]), list([5, 98, 9, 99, 30, 17, 4, 2]),\n",
       "       list([6, 18, 9, 20, 5, 7, 100, 5, 52, 101, 4, 2]), list([12, 9, 53, 8, 102, 103, 8, 104, 4, 2])],\n",
       "      dtype=object)"
      ]
     },
     "execution_count": 12,
     "metadata": {},
     "output_type": "execute_result"
    }
   ],
   "source": [
    "en_ids[:5]"
   ]
  },
  {
   "cell_type": "markdown",
   "metadata": {},
   "source": [
    "## Word vectors"
   ]
  },
  {
   "cell_type": "markdown",
   "metadata": {},
   "source": [
    "fasttext word vectors available from https://fasttext.cc/docs/en/english-vectors.html"
   ]
  },
  {
   "cell_type": "code",
   "execution_count": 9,
   "metadata": {},
   "outputs": [],
   "source": [
    "# ! pip install git+https://github.com/facebookresearch/fastText.git"
   ]
  },
  {
   "cell_type": "code",
   "execution_count": 13,
   "metadata": {},
   "outputs": [],
   "source": [
    "import fastText as ft"
   ]
  },
  {
   "cell_type": "markdown",
   "metadata": {},
   "source": [
    "To use the fastText library, you'll need to download [fasttext word vectors](https://github.com/facebookresearch/fastText/blob/master/pretrained-vectors.md) for your language (download the 'bin plus text' ones)."
   ]
  },
  {
   "cell_type": "code",
   "execution_count": 14,
   "metadata": {},
   "outputs": [
    {
     "name": "stdout",
     "output_type": "stream",
     "text": [
      "embeddings  en.pkl\tfr-en.txt  fr_tok.pkl  tmp\t    wiki.fr.pkl\r\n",
      "en-fr.txt   en_tok.pkl\tfr.pkl\t   models      wiki.en.pkl\r\n"
     ]
    }
   ],
   "source": [
    "!ls data/"
   ]
  },
  {
   "cell_type": "markdown",
   "metadata": {},
   "source": [
    "Loading the embeddings (word vectors), the embeddings used here are trained on the text corpus of the bible  \n",
    "replace them with other embeddings (wikitext for example) to get better results"
   ]
  },
  {
   "cell_type": "code",
   "execution_count": 15,
   "metadata": {},
   "outputs": [],
   "source": [
    "#en_vecs = ft.load_model(str((PATH/'wiki.en.bin')))\n",
    "en_vecs = ft.load_model(str((PATH/'embeddings/en.bin')))"
   ]
  },
  {
   "cell_type": "code",
   "execution_count": 16,
   "metadata": {},
   "outputs": [],
   "source": [
    "#fr_vecs = ft.load_model(str((PATH/'wiki.fr.bin')))\n",
    "fr_vecs = ft.load_model(str((PATH/'embeddings/fr.bin')))"
   ]
  },
  {
   "cell_type": "markdown",
   "metadata": {},
   "source": [
    "Even, if the word isn't found in the embedding Fasttext, find and returns its unique embedding vector"
   ]
  },
  {
   "cell_type": "code",
   "execution_count": 17,
   "metadata": {},
   "outputs": [
    {
     "data": {
      "text/plain": [
       "(array([-0.42811,  0.00472, -0.55592,  0.23108,  0.25022, -0.24158, -0.45753, -0.35123, -0.33665, -0.10807,\n",
       "        -0.08436, -0.25136, -0.56695, -0.84764, -0.1322 ,  0.14316, -0.48988, -0.327  , -0.20238,  0.10418,\n",
       "         0.64037, -0.52406,  0.37063,  0.08053, -0.22075, -0.3133 , -0.16693,  0.27541, -0.83423,  0.72061,\n",
       "         0.26193, -0.26927,  0.33067, -0.29437, -0.18973,  0.24391,  0.21215, -0.18755,  0.08848, -0.49965,\n",
       "         0.66024,  0.34113,  0.05566, -0.03431, -0.08241,  0.18887,  0.10322,  0.30522,  1.01105,  0.70856,\n",
       "        -0.02141, -0.09663, -0.51842,  0.40998,  0.36047,  0.09259,  0.12745,  0.1713 ,  0.67702,  0.51115,\n",
       "         0.59954,  0.11556,  0.1054 , -0.3921 , -0.13521,  0.14449, -0.54714, -0.13172, -0.06877,  0.21863,\n",
       "        -0.00522,  0.24992, -0.22379, -0.1001 ,  0.02345,  0.55127,  0.0052 , -0.47208,  0.02044, -0.11235,\n",
       "        -0.61071,  0.62704, -0.20642, -0.0206 ,  0.05281, -0.07086, -0.25795, -0.68857,  0.2554 , -0.37531,\n",
       "        -0.41069,  0.25751,  0.08411, -0.02867, -0.11942,  0.22636, -0.36852, -0.11474, -0.1757 , -0.28935],\n",
       "       dtype=float32), 100)"
      ]
     },
     "execution_count": 17,
     "metadata": {},
     "output_type": "execute_result"
    }
   ],
   "source": [
    "emb = en_vecs.get_word_vector('word')\n",
    "emb, len(emb)"
   ]
  },
  {
   "cell_type": "code",
   "execution_count": 18,
   "metadata": {},
   "outputs": [
    {
     "data": {
      "text/plain": [
       "(array([-0.07974,  0.08461,  0.35847,  0.18693,  0.0896 ,  0.41236,  0.03115,  0.32625,  0.28907,  0.14129,\n",
       "        -0.33977, -0.14277,  0.09088,  0.03029, -0.27774,  0.04753, -0.09452,  0.27132, -0.22255,  0.38899,\n",
       "        -0.35074, -0.20456, -0.2683 ,  0.32908,  0.01609, -0.23642, -0.14939,  0.16693,  0.00914, -0.2081 ,\n",
       "         0.52242, -0.14854,  0.08188,  0.51043, -0.37571, -0.14249, -0.16533, -0.23474,  0.20654, -0.31629,\n",
       "        -0.1563 , -0.19745, -0.48685,  0.28842, -0.22111, -0.12055, -0.10207,  0.16942,  0.41112,  0.10763,\n",
       "        -0.00341,  0.6312 , -0.06367, -0.29418, -0.09617, -0.12286,  0.02321,  0.5479 ,  0.12541,  0.66944,\n",
       "        -0.04868,  0.71005,  0.36709, -0.00205,  0.29375,  0.15777,  0.08099,  0.0686 ,  0.15842,  0.1739 ,\n",
       "        -0.32733,  0.24166, -0.19596,  0.30417, -0.26513, -0.22868, -0.31623, -0.30047, -0.15973, -0.61035,\n",
       "         0.49594, -0.15864,  0.234  ,  0.58409,  0.22567,  0.04142, -0.24763,  0.18914, -0.05537, -0.62398,\n",
       "         0.30289, -0.13245, -0.31832,  0.22952, -0.25613,  0.14468, -0.26194,  0.33744,  0.2319 ,  0.62623],\n",
       "       dtype=float32), 100)"
      ]
     },
     "execution_count": 18,
     "metadata": {},
     "output_type": "execute_result"
    }
   ],
   "source": [
    "emb = fr_vecs.get_word_vector('mot')\n",
    "emb, len(emb)"
   ]
  },
  {
   "cell_type": "markdown",
   "metadata": {},
   "source": [
    "A better way than using the following function is to use fr_vecs and en_vecs directly  \n",
    "Using a dictionary will trigger a KeyError if we want to get the embedding vector of a word which is not found"
   ]
  },
  {
   "cell_type": "code",
   "execution_count": null,
   "metadata": {},
   "outputs": [],
   "source": [
    "#def get_vecs(lang, ft_vecs):\n",
    "#    \"\"\"\n",
    "#        Creates a dictionary of {word: word vector} from the fasttext object ft_vecs\n",
    "#        and saving it into a pickle file .pkl\n",
    "#    \"\"\"\n",
    "#    # we can get an error if we want to get the word vector of a word which isn't in this dictionary !\n",
    "#    vecd = {w:ft_vecs.get_word_vector(w) for w in ft_vecs.get_words()}\n",
    "#    \n",
    "#    # saving the vector in a .pkl file\n",
    "#    pickle.dump(vecd, open(PATH/f'wiki.{lang}.pkl','wb'))\n",
    "#    return vecd"
   ]
  },
  {
   "cell_type": "code",
   "execution_count": null,
   "metadata": {},
   "outputs": [],
   "source": [
    "#en_vecd = get_vecs('en', en_vecs)\n",
    "#fr_vecd = get_vecs('fr', fr_vecs)"
   ]
  },
  {
   "cell_type": "code",
   "execution_count": null,
   "metadata": {},
   "outputs": [],
   "source": [
    "#en_vecd = pickle.load(open(PATH/'wiki.en.pkl','rb'))\n",
    "#fr_vecd = pickle.load(open(PATH/'wiki.fr.pkl','rb'))"
   ]
  },
  {
   "cell_type": "code",
   "execution_count": null,
   "metadata": {},
   "outputs": [],
   "source": [
    "#ft_vecs = en_vecs\n",
    "#ft_words = ft_vecs.get_words(include_freq=True)\n",
    "#ft_words[0][:5], ft_words[1][:5]"
   ]
  },
  {
   "cell_type": "code",
   "execution_count": null,
   "metadata": {},
   "outputs": [],
   "source": [
    "#ft_word_dict = {k:v for k,v in zip(*ft_words)}\n",
    "#ft_word_dict"
   ]
  },
  {
   "cell_type": "code",
   "execution_count": null,
   "metadata": {},
   "outputs": [],
   "source": [
    "#ft_words = sorted(ft_word_dict.keys(), key=lambda x: ft_word_dict[x])\n",
    "#ft_words"
   ]
  },
  {
   "cell_type": "code",
   "execution_count": null,
   "metadata": {},
   "outputs": [],
   "source": [
    "#len(ft_words)"
   ]
  },
  {
   "cell_type": "markdown",
   "metadata": {},
   "source": [
    "Using the following functions is a better idea"
   ]
  },
  {
   "cell_type": "code",
   "execution_count": 19,
   "metadata": {},
   "outputs": [],
   "source": [
    "def getFrWordVector(word):\n",
    "    return fr_vecs.get_word_vector(word)"
   ]
  },
  {
   "cell_type": "code",
   "execution_count": 20,
   "metadata": {},
   "outputs": [],
   "source": [
    "def getEnWordVector(word):\n",
    "    return en_vecs.get_word_vector(word)"
   ]
  },
  {
   "cell_type": "code",
   "execution_count": 21,
   "metadata": {},
   "outputs": [
    {
     "data": {
      "text/plain": [
       "(100, 100)"
      ]
     },
     "execution_count": 21,
     "metadata": {},
     "output_type": "execute_result"
    }
   ],
   "source": [
    "dim_en_vec = len(getEnWordVector(','))\n",
    "dim_fr_vec = len(getFrWordVector(','))\n",
    "dim_en_vec, dim_fr_vec"
   ]
  },
  {
   "cell_type": "code",
   "execution_count": 22,
   "metadata": {},
   "outputs": [],
   "source": [
    "#dim_en_vec = len(en_vecd[','] if ',' in en_vecd.keys() else en_vecs.get_word_vector(','))\n",
    "#dim_fr_vec = len(fr_vecd[','] if ',' in fr_vecd.keys() else fr_vecs.get_word_vector(','))\n",
    "#dim_en_vec, dim_fr_vec"
   ]
  },
  {
   "cell_type": "code",
   "execution_count": 23,
   "metadata": {},
   "outputs": [],
   "source": [
    "#en_vecs_np = np.stack(list(en_vecd.values()))\n",
    "#en_vecs_np.mean(), en_vecs_np.std()"
   ]
  },
  {
   "cell_type": "markdown",
   "metadata": {},
   "source": [
    "We need to know the mean and the variance of our word vectors  \n",
    "we can use the following function to do that"
   ]
  },
  {
   "cell_type": "code",
   "execution_count": 22,
   "metadata": {},
   "outputs": [],
   "source": [
    "def getStatistics(fasttextVectors):\n",
    "    vecd = {w:fasttextVectors.get_word_vector(w) for w in fasttextVectors.get_words()}\n",
    "    vecs_np = np.stack(list(vecd.values()))\n",
    "    return vecs_np.mean(), vecs_np.std()"
   ]
  },
  {
   "cell_type": "code",
   "execution_count": 23,
   "metadata": {},
   "outputs": [
    {
     "data": {
      "text/plain": [
       "(0.027238548, 0.30283847)"
      ]
     },
     "execution_count": 23,
     "metadata": {},
     "output_type": "execute_result"
    }
   ],
   "source": [
    "getStatistics(fr_vecs) # (0.027238548, 0.30283847)"
   ]
  },
  {
   "cell_type": "code",
   "execution_count": 24,
   "metadata": {},
   "outputs": [
    {
     "data": {
      "text/plain": [
       "(0.018482028, 0.27999485)"
      ]
     },
     "execution_count": 24,
     "metadata": {},
     "output_type": "execute_result"
    }
   ],
   "source": [
    "getStatistics(en_vecs) # (0.018482028, 0.27999485)"
   ]
  },
  {
   "cell_type": "code",
   "execution_count": 25,
   "metadata": {},
   "outputs": [
    {
     "data": {
      "text/plain": [
       "(10653, 8375)"
      ]
     },
     "execution_count": 25,
     "metadata": {},
     "output_type": "execute_result"
    }
   ],
   "source": [
    "len(fr_vecs.get_words()), len(en_vecs.get_words())"
   ]
  },
  {
   "cell_type": "markdown",
   "metadata": {},
   "source": [
    "Both sets of vectors have rughly the same statistics, about 0 mean and 0.3 standard deviation.  \n",
    "If we multiply the vectors by 0.3, we'll get a new set of vectors (normalized) with mean = 0 and standard deviation = 1"
   ]
  },
  {
   "cell_type": "markdown",
   "metadata": {},
   "source": [
    "## Model data"
   ]
  },
  {
   "cell_type": "markdown",
   "metadata": {},
   "source": [
    "Truncating the data isn't a good idea at all ! we shouldn't alter the data, we have to use as it is !"
   ]
  },
  {
   "cell_type": "code",
   "execution_count": 27,
   "metadata": {},
   "outputs": [],
   "source": [
    "#enlen_90 = int(np.percentile([len(o) for o in en_ids], 99))\n",
    "#frlen_90 = int(np.percentile([len(o) for o in fr_ids], 97))\n",
    "#enlen_90, frlen_90"
   ]
  },
  {
   "cell_type": "code",
   "execution_count": 28,
   "metadata": {},
   "outputs": [],
   "source": [
    "#en_ids_tr = np.array([o[:enlen_90] for o in en_ids])\n",
    "#fr_ids_tr = np.array([o[:frlen_90] for o in fr_ids])\n",
    "#en_ids_tr[:5]"
   ]
  },
  {
   "cell_type": "markdown",
   "metadata": {},
   "source": [
    "The following class is a generic PyTorch dataset, used to prepare the data to be used by PyTorch and fastai"
   ]
  },
  {
   "cell_type": "code",
   "execution_count": 26,
   "metadata": {},
   "outputs": [],
   "source": [
    "class Seq2SeqDataset(Dataset):\n",
    "    def __init__(self, x, y): self.x, self.y = x, y\n",
    "    def __getitem__(self, idx): return A(self.x[idx], self.y[idx])\n",
    "    #def __getitem__(self, idx): yield A(self.x[idx], self.y[idx])\n",
    "    def __len__(self): return len(self.x)"
   ]
  },
  {
   "cell_type": "markdown",
   "metadata": {},
   "source": [
    "Train-Test split: 90% training / 10% testing"
   ]
  },
  {
   "cell_type": "code",
   "execution_count": 27,
   "metadata": {},
   "outputs": [
    {
     "data": {
      "text/plain": [
       "(86, 14)"
      ]
     },
     "execution_count": 27,
     "metadata": {},
     "output_type": "execute_result"
    }
   ],
   "source": [
    "# train-test split\n",
    "#np.random.seed(42)\n",
    "trn_keep = np.random.rand(len(en_ids)) > 0.1\n",
    "en_trn, fr_trn = en_ids[trn_keep], fr_ids[trn_keep]\n",
    "en_val, fr_val = en_ids[~trn_keep], fr_ids[~trn_keep]\n",
    "len(en_trn),len(en_val)"
   ]
  },
  {
   "cell_type": "markdown",
   "metadata": {},
   "source": [
    "Creating the datasets"
   ]
  },
  {
   "cell_type": "code",
   "execution_count": 28,
   "metadata": {},
   "outputs": [],
   "source": [
    "trn_ds = Seq2SeqDataset(fr_trn, en_trn)\n",
    "val_ds = Seq2SeqDataset(fr_val, en_val)\n",
    "\n",
    "#trn_ds = Seq2SeqDataset(en_trn, fr_trn)\n",
    "#val_ds = Seq2SeqDataset(en_val, fr_val)"
   ]
  },
  {
   "cell_type": "markdown",
   "metadata": {},
   "source": [
    "Setting the batch size"
   ]
  },
  {
   "cell_type": "code",
   "execution_count": 29,
   "metadata": {},
   "outputs": [],
   "source": [
    "#bs=125 # batch size\n",
    "bs=1 # batch size"
   ]
  },
  {
   "cell_type": "markdown",
   "metadata": {},
   "source": [
    "**SortishSampler** : Returns an iterator that traverses the data in randomly ordered batches that are approximately the same size. (used for training set)  \n",
    "**SortSampler** : Returns a sorted iterator (used for testing set)  "
   ]
  },
  {
   "cell_type": "code",
   "execution_count": 30,
   "metadata": {},
   "outputs": [],
   "source": [
    "trn_samp = SortishSampler(en_trn, key=lambda x: len(en_trn[x]), bs=bs)\n",
    "val_samp = SortSampler(en_val, key=lambda x: len(en_val[x]))"
   ]
  },
  {
   "cell_type": "code",
   "execution_count": 66,
   "metadata": {},
   "outputs": [],
   "source": [
    "??ModelData"
   ]
  },
  {
   "cell_type": "markdown",
   "metadata": {},
   "source": [
    "**Classifier** → padding in the beginning. Because we want that final token to represent the last word of the movie review.  \n",
    "**Decoder** → padding at the end. As you will see, it actually is going to work out a bit better to have the padding at the end."
   ]
  },
  {
   "cell_type": "code",
   "execution_count": 67,
   "metadata": {},
   "outputs": [],
   "source": [
    "??DataLoader"
   ]
  },
  {
   "cell_type": "code",
   "execution_count": 31,
   "metadata": {},
   "outputs": [],
   "source": [
    "# we don't have any data augmentation tasks, so we can set num_workers to 1\n",
    "# we have to transpose the tensors (why ?!!!)\n",
    "# we use 1 (_pad_) to pad the shortest tensor, so that all the tensors would have the same length\n",
    "#     a tensor must be rectangular\n",
    "# we want our padding to be at the end, not at the start, that's why pre_pad is set to False\n",
    "trn_dl = DataLoader(trn_ds, bs, transpose=True, transpose_y=True, num_workers=1, \n",
    "                    pad_idx=1, pre_pad=False, sampler=trn_samp)\n",
    "\n",
    "# why int(bs*1.6) ?!!!\n",
    "val_dl = DataLoader(val_ds, int(bs*1.6), transpose=True, transpose_y=True, num_workers=1, \n",
    "                    pad_idx=1, pre_pad=False, sampler=val_samp)\n",
    "\n",
    "# PATH is used to save temporary files, models, ...\n",
    "md = ModelData(PATH, trn_dl, val_dl)"
   ]
  },
  {
   "cell_type": "code",
   "execution_count": 32,
   "metadata": {},
   "outputs": [
    {
     "data": {
      "text/plain": [
       "[array([ 7, 18, 43,  6, 97,  4,  2]), array([ 5, 14,  9, 95,  4,  2])]"
      ]
     },
     "execution_count": 32,
     "metadata": {},
     "output_type": "execute_result"
    }
   ],
   "source": [
    "trn_ds[0]"
   ]
  },
  {
   "cell_type": "code",
   "execution_count": 33,
   "metadata": {},
   "outputs": [
    {
     "name": "stdout",
     "output_type": "stream",
     "text": [
      "[\n",
      " 366\n",
      "   5\n",
      "  15\n",
      " 367\n",
      "  55\n",
      "   2\n",
      "[torch.LongTensor of size 6x1]\n",
      ", \n",
      " 302\n",
      "  94\n",
      " 303\n",
      "   4\n",
      "   2\n",
      "[torch.LongTensor of size 5x1]\n",
      "]\n"
     ]
    },
    {
     "data": {
      "text/plain": [
       "[(11, 10), (9, 7), (7, 8), (8, 10), (10, 9)]"
      ]
     },
     "execution_count": 33,
     "metadata": {},
     "output_type": "execute_result"
    }
   ],
   "source": [
    "it = iter(trn_dl)\n",
    "\n",
    "#for i in it:\n",
    "#    print(i)\n",
    "\n",
    "print(next(it))\n",
    "\n",
    "\"\"\"\n",
    "The (1)s are the padding characters _pad_\n",
    "The (2)s at the end are the end-of-sentence tokens _eos_\n",
    "[\n",
    "   45     7    61    46    10   123   125    62    13    20\n",
    "    8    42     5     4    26     8     4     5    28    56\n",
    "   16     4     2     2     5    16     2     2     5     6\n",
    "    4     2    (1)   (1)    2     4    (1)   (1)    2     4\n",
    "    2    (1)   (1)   (1)   (1)    2    (1)   (1)   (1)    2\n",
    "[torch.LongTensor of size 5x10]\n",
    ", \n",
    "   23     6    11    10     6    23    10    11     7    24\n",
    "   22    17    12    16    56    22    12    12    31     5\n",
    "    4     4     4     4     4     4     4     4     4     2\n",
    "    2     2     2     2     2     2     2     2     2    (1)\n",
    "[torch.LongTensor of size 4x10]\n",
    "]\n",
    "\"\"\"\n",
    "\n",
    "its = [next(it) for i in range(5)]\n",
    "[(len(x),len(y)) for x,y in its]"
   ]
  },
  {
   "cell_type": "markdown",
   "metadata": {},
   "source": [
    "## Initial model"
   ]
  },
  {
   "cell_type": "code",
   "execution_count": 71,
   "metadata": {},
   "outputs": [],
   "source": [
    "?nn.Embedding"
   ]
  },
  {
   "cell_type": "markdown",
   "metadata": {},
   "source": [
    "The word vectors have a mean around 0 and a variance around 3, that's why we multiplied the vector by 3  \n",
    "The general rule is : word_vector x variance + mean"
   ]
  },
  {
   "cell_type": "code",
   "execution_count": 72,
   "metadata": {},
   "outputs": [],
   "source": [
    "#def create_emb(vecs, itos, em_sz):\n",
    "#    emb = nn.Embedding(len(itos), em_sz, padding_idx=1) # 1: _pad_, dimension: (vocab size x embedding size)\n",
    "#    wgts = emb.weight.data\n",
    "#    miss = []\n",
    "#    for i,w in enumerate(itos):\n",
    "#        try: wgts[i] = torch.from_numpy(vecs[w]*3)\n",
    "#        except: miss.append(w)\n",
    "#    print(len(miss),miss[5:10])\n",
    "#    return emb"
   ]
  },
  {
   "cell_type": "markdown",
   "metadata": {},
   "source": [
    "To make a vector standard normal (have a mean of 0 and a standard deviation of 1)  \n",
    "\n",
    "$$Y = \\frac{X-\\mu}{\\sigma}$$  \n",
    "\n",
    "$\\mu$ is the mean of X, $\\sigma$ is its standard deviation.  \n",
    "We can create a function to do just that ;)"
   ]
  },
  {
   "cell_type": "code",
   "execution_count": 34,
   "metadata": {},
   "outputs": [],
   "source": [
    "def normalize(vector, mean, standardDeviation):\n",
    "    \"\"\"\n",
    "        This function returns the 'normalized' version of vector\n",
    "        by subtracting the mean than dividing by the standard deviation\n",
    "        Hepler function to be used in the function `create_emb`\n",
    "    \"\"\"\n",
    "    return (vector - mean) / standardDeviation"
   ]
  },
  {
   "cell_type": "markdown",
   "metadata": {},
   "source": [
    "This version uses the fasttext object firectly so no mises ! even if the word doesn't exist in the original embeddings, fasttext will generate its unique embedding vector. I don't want to miss any word ! whatever was its frequency !"
   ]
  },
  {
   "cell_type": "code",
   "execution_count": 32,
   "metadata": {},
   "outputs": [],
   "source": [
    "# ------ old implementation ------\n",
    "#def create_emb(fasttextVectors, itos, em_sz, mean=0, standardDeviation=1): # standardDeviation is 0.3 in our example\n",
    "#    emb = nn.Embedding(len(itos), em_sz, padding_idx=1) # 1: _pad_, dimension: (vocab size x embedding size)\n",
    "#    wgts = emb.weight.data\n",
    "#    #miss = []\n",
    "#    for i,w in enumerate(itos):\n",
    "#        #assert len(fasttextVectors.get_word_vector(w)) == em_sz\n",
    "#        #wgts[i] = torch.from_numpy(fasttextVectors.get_word_vector(w)*standardDeviation)\n",
    "#        wgts[i] = torch.from_numpy(normalize(fasttextVectors.get_word_vector(w), mean, standardDeviation))\n",
    "#        #try: wgts[i] = torch.from_numpy(fasttextVectors.get_word_vector(w)*standardDeviation)\n",
    "#        #except: miss.append(w)\n",
    "#    #print(len(miss))\n",
    "#    return emb"
   ]
  },
  {
   "cell_type": "code",
   "execution_count": 109,
   "metadata": {},
   "outputs": [],
   "source": [
    "#create_emb(en_vecs, en_itos, 100, 0.3)"
   ]
  },
  {
   "cell_type": "code",
   "execution_count": 35,
   "metadata": {},
   "outputs": [],
   "source": [
    "class FasttextVectorsWrapper():\n",
    "    \"\"\"\n",
    "        Adapter for fasttext objects, used to normalize the embedding vectors\n",
    "    \"\"\"\n",
    "    \n",
    "    def __init__(self, fasttextVectors, mean=0, standardDeviation=1):\n",
    "        self.fasttextVectors = fasttextVectors\n",
    "        self.mean = mean\n",
    "        self.standardDeviation = standardDeviation\n",
    "    \n",
    "    def get_word_vector(self, word):\n",
    "        return normalize(\n",
    "            self.fasttextVectors.get_word_vector(word),\n",
    "            self.mean,\n",
    "            self.standardDeviation)"
   ]
  },
  {
   "cell_type": "markdown",
   "metadata": {},
   "source": [
    "```python\n",
    "# getStatistics(fr_vecs) # (0.027238548, 0.30283847)\n",
    "fr_vecs = FasttextVectorsWrapper(fr_vecs, 0.027238548, 0.30283847)\n",
    "\n",
    "# getStatistics(en_vecs) # (0.018482028, 0.27999485)\n",
    "en_vecs = FasttextVectorsWrapper(en_vecs, 0.018482028, 0.27999485)\n",
    "```"
   ]
  },
  {
   "cell_type": "code",
   "execution_count": 36,
   "metadata": {},
   "outputs": [],
   "source": [
    "fr_vecs = FasttextVectorsWrapper(fr_vecs, 0.027238548, 0.30283847)\n",
    "en_vecs = FasttextVectorsWrapper(en_vecs, 0.018482028, 0.27999485)"
   ]
  },
  {
   "cell_type": "code",
   "execution_count": 37,
   "metadata": {},
   "outputs": [],
   "source": [
    "def create_emb(fasttextVectorsWrapped, itos, em_sz):\n",
    "    emb = nn.Embedding(len(itos), em_sz, padding_idx=1) # 1: _pad_, dimension: (vocab size x embedding size)\n",
    "    wgts = emb.weight.data\n",
    "    for i,w in enumerate(itos):\n",
    "        wgts[i] = torch.from_numpy(fasttextVectorsWrapped.get_word_vector(w))\n",
    "    return emb"
   ]
  },
  {
   "cell_type": "code",
   "execution_count": 38,
   "metadata": {},
   "outputs": [
    {
     "data": {
      "text/plain": [
       "Embedding(304, 100, padding_idx=1)"
      ]
     },
     "execution_count": 38,
     "metadata": {},
     "output_type": "execute_result"
    }
   ],
   "source": [
    "create_emb(en_vecs, en_itos, 100)"
   ]
  },
  {
   "cell_type": "code",
   "execution_count": 39,
   "metadata": {},
   "outputs": [],
   "source": [
    "nh, nl = 256, 2"
   ]
  },
  {
   "cell_type": "markdown",
   "metadata": {},
   "source": [
    "xxx_enc are encoder's variables, xxx_dec are decoder's variables  \n",
    "out_xxx is what's going to be at the output of the encoder / decoder"
   ]
  },
  {
   "cell_type": "markdown",
   "metadata": {},
   "source": [
    "the GRU computations  \n",
    "$$\n",
    "        \\begin{array}{ll}\n",
    "        r_t = \\mathrm{sigmoid}(W_{ir} x_t + b_{ir} + W_{hr} h_{(t-1)} + b_{hr}) \\\\\n",
    "        z_t = \\mathrm{sigmoid}(W_{iz} x_t + b_{iz} + W_{hz} h_{(t-1)} + b_{hz}) \\\\\n",
    "        n_t = \\tanh(W_{in} x_t + b_{in} + r_t * (W_{hn} h_{(t-1)}+ b_{hn})) \\\\\n",
    "        h_t = (1 - z_t) * n_t + z_t * h_{(t-1)} \\\\\n",
    "        \\end{array}\n",
    "$$"
   ]
  },
  {
   "cell_type": "code",
   "execution_count": 80,
   "metadata": {},
   "outputs": [],
   "source": [
    "?nn.GRU"
   ]
  },
  {
   "cell_type": "code",
   "execution_count": 82,
   "metadata": {},
   "outputs": [],
   "source": [
    "?torch.stack"
   ]
  },
  {
   "cell_type": "code",
   "execution_count": 84,
   "metadata": {},
   "outputs": [],
   "source": [
    "# Returns a new tensor with a dimension of size one inserted at the specified position.\n",
    "?torch.unsqueeze"
   ]
  },
  {
   "cell_type": "code",
   "execution_count": 40,
   "metadata": {},
   "outputs": [],
   "source": [
    "class Seq2SeqRNN(nn.Module):\n",
    "    \"\"\"\n",
    "    * The embedding layers are used to get the fasttext embedding vector from the token's index in the vocabulary\n",
    "    (we can also fine tune the embeddings, they will become learnable parameters, and train them end to end)\n",
    "    * emb_enc: Embeddings for the encoder\n",
    "    * emb_dec: Embeddings for the decoder\n",
    "    * we can use LSTMs instead of GRUs\n",
    "    * The embedding size of pretrained fasttext vectors is 300\n",
    "    * The embeddings can be learnable: they have the attribute weight which is a Variable containing the attribute\n",
    "        data which is a Tensor\n",
    "    * The embeddings are initially random, we go through our vocabulary, if we find the token, we replace the\n",
    "        random vector by its corresponding fasttext embedding, the random vectors have a standard deviation of1\n",
    "        but our fasttext vectors have a standard deviation of 0.3, that's why we've multiplied by 3\n",
    "    \"\"\"\n",
    "    def __init__(self, vecs_enc, itos_enc, em_sz_enc, vecs_dec, itos_dec, em_sz_dec, nh, out_sl, nl=2):\n",
    "        super().__init__()\n",
    "        self.nl, self.nh, self.out_sl = nl, nh, out_sl\n",
    "        self.emb_enc = create_emb(vecs_enc, itos_enc, em_sz_enc)\n",
    "        \n",
    "        # adding dropout prevent overfitting (add visualization of dropout ? in the presentation and report)\n",
    "        # analogy: died neurons in the brain !\n",
    "        self.emb_enc_drop = nn.Dropout(0.15)\n",
    "        \n",
    "        # the RNN cell (GRU, LSTM)\n",
    "        # the input to the RNN is the size of the embedding\n",
    "        # nh is the number of hidden units\n",
    "        # nl is the number of layers\n",
    "        # 0.25 dropout inside the RNN\n",
    "        self.gru_enc = nn.GRU(em_sz_enc, nh, num_layers=nl, dropout=0.25)\n",
    "        \n",
    "        # transform the hidden output (RNN output) into something to be fed to the decoder\n",
    "        # this is a simple transformation, so it should be a matrix multiplication without adding a bias\n",
    "        # this operation is the reverse of the embedding, and the embedding doesn’t have a bias. (jeremy's answer)\n",
    "        # that's why bias is set to False\n",
    "        self.out_enc = nn.Linear(nh, em_sz_dec, bias=False)\n",
    "        \n",
    "        self.emb_dec = create_emb(vecs_dec, itos_dec, em_sz_dec)\n",
    "        self.gru_dec = nn.GRU(em_sz_dec, em_sz_dec, num_layers=nl, dropout=0.1)\n",
    "        self.out_drop = nn.Dropout(0.35)\n",
    "        self.out = nn.Linear(em_sz_dec, len(itos_dec))\n",
    "        self.out.weight.data = self.emb_dec.weight.data\n",
    "        \n",
    "    def forward(self, inp):\n",
    "        # sl: sentence length, bs: batch size\n",
    "        sl, bs = inp.size()\n",
    "        h = self.initHidden(bs)\n",
    "        \n",
    "        # putting the input into the embedding, then through the dropout\n",
    "        emb = self.emb_enc_drop(self.emb_enc(inp))\n",
    "        \n",
    "        # we put the initial hidden state (zeros) and the embedding to the RNN\n",
    "        # which spits out the final hidden state\n",
    "        enc_out, h = self.gru_enc(emb, h)\n",
    "        \n",
    "        # the final hidden state is passing through the linear layer so that we'll\n",
    "        # have something in the right size to feed to our decoder\n",
    "        h = self.out_enc(h)\n",
    "        \n",
    "        # input ---> embedding ---> hidden vector (h, which is the same as s in the figure shown in the course)\n",
    "        # the hidden vector hopefully will learn to contain all the information about what that sentence\n",
    "        # says and how it says it\n",
    "\n",
    "        # the previous translated word, first it is NULL (vector of zeros) --> _bos_ token\n",
    "        # decoder input, initially zeros (the _bos_ beginning of stream token is 0)\n",
    "        # long because the output should be the indices\n",
    "        dec_inp = V(torch.zeros(bs).long()) # bs is the batch size\n",
    "        \n",
    "        res = []\n",
    "        \n",
    "        # self.out_sl is the length of the largest english sentence, because we're translating into english\n",
    "        # it can't be possibly longer than that (at least in our corpus), it we use it on longer sentences\n",
    "        # this will fail, we can pass in a bigger value\n",
    "        # --> why we don't change it to a while loop (while the token isn't _eos_ or _pad_ ?)\n",
    "        for i in range(self.out_sl):\n",
    "            \n",
    "            # the basic idea is the same: we put the input through the embedding\n",
    "            # adding a unit axis / dimension in the specified position using .unsqueeze(0)\n",
    "            # this embedding use the target embedding vectors, in our example, the english word vectors\n",
    "            # because we're translating from french to english: fr --> en\n",
    "            emb = self.emb_dec(dec_inp).unsqueeze(0)\n",
    "            \n",
    "            # then through the RNN\n",
    "            outp, h = self.gru_dec(emb, h)\n",
    "            \n",
    "            # stick the output of the RNN through the dropout then through a linear layer in order to convert\n",
    "            # that into the correct size for the decoder embedding matrix (to be used in the next iteration\n",
    "            # to predict the next word)\n",
    "            outp = self.out(self.out_drop(outp[0]))\n",
    "            \n",
    "            # append the result to the results list (list of translated words)\n",
    "            # it doesn't have a fixed length ;)\n",
    "            res.append(outp) # we append the probabilities here not the word !\n",
    "            \n",
    "            # outp is a tensor whose length is the number of words in our english (target language) vocabulary\n",
    "            # and it contains the probability for every one of those words that it is that word\n",
    "            \n",
    "            # we have to know what word what to feed in to the next timestamp\n",
    "            \n",
    "            # outp.data.max(1) looks for the highest probability\n",
    "            # max(.) in PyTorch returns 2 things, the maximum value and the argmax\n",
    "            # (the index into the array at which we've found the maximum value)\n",
    "            # and we need the index, that's why there is a [1] after the max (to get the 2nd element)\n",
    "            \n",
    "            # now dec_inp is whatever the highest probability word was\n",
    "            dec_inp = V(outp.data.max(1)[1]) # contains the word index in our vocabulary\n",
    "            \n",
    "            # if it's a 1 (_pad_), that's mean we're done, we reached the end\n",
    "            # else, we continue\n",
    "            if (dec_inp==1).all(): break\n",
    "                \n",
    "            # we keep looping through either until we get to the largest length of a sentence or until\n",
    "            # everything in our mini batch is padding\n",
    "\n",
    "        # at the end, we're going to stack that list up into a single tensor and return it\n",
    "        # now, we can feed this tensor into a loss function\n",
    "        return torch.stack(res)\n",
    "    \n",
    "    # used to initialize the hidden state vector with zeros\n",
    "    def initHidden(self, bs): return V(torch.zeros(self.nl, bs, self.nh))"
   ]
  },
  {
   "cell_type": "markdown",
   "metadata": {},
   "source": [
    "* Normally, a RNN works on a whole sequence at a time but we've got a for loop to go through each part of the sequence separately so we have to add a leading unit access to the start `unsqueeze(0)`  \n",
    "* Predicting what is the $4^{th}$ word of a sentence without knowing the $3^{rd}$ one is hard ! that's why we need to input the last translated (at time $t-1$) word at each time step to predict the next one (at time $t$)\n",
    "* Let's think about one part of the batch / one token, with start with a 0 / \\_bos\\_,  we look up that zero in our embedding matrix to find out what's the vector for the beginning of stream token is, we stick a unit axis on the front to say we have a single sequence, we stick this through our RNN, at first, it will get 2 things: the \\_bos\\_ token and the hidden state which is the output if the encoder and its task now is to figure out what is the $1^{st}$ word."
   ]
  },
  {
   "cell_type": "code",
   "execution_count": 41,
   "metadata": {},
   "outputs": [
    {
     "data": {
      "text/plain": [
       "Variable containing:\n",
       " 0\n",
       " 0\n",
       " 0\n",
       " 0\n",
       " 0\n",
       "[torch.LongTensor of size 5]"
      ]
     },
     "execution_count": 41,
     "metadata": {},
     "output_type": "execute_result"
    }
   ],
   "source": [
    "# suppose we have a batch_size equals to 5, this is how dec_inp would look like at the begining\n",
    "V(torch.zeros(5).long())"
   ]
  },
  {
   "cell_type": "code",
   "execution_count": 42,
   "metadata": {},
   "outputs": [
    {
     "data": {
      "text/plain": [
       "Variable containing:\n",
       " 0  0  0  0  0\n",
       "[torch.LongTensor of size 1x5]"
      ]
     },
     "execution_count": 42,
     "metadata": {},
     "output_type": "execute_result"
    }
   ],
   "source": [
    "# adding a unit axis at the begining (notice how the size changed from 5 to 1x5)\n",
    "V(torch.zeros(5).long()).unsqueeze(0)"
   ]
  },
  {
   "cell_type": "code",
   "execution_count": 43,
   "metadata": {},
   "outputs": [
    {
     "data": {
      "text/plain": [
       "\n",
       " 0.9586  0.0265  0.8499  0.9537  0.8167  0.6053  0.2144  0.9046  0.0376  0.5733\n",
       "[torch.FloatTensor of size 1x10]"
      ]
     },
     "execution_count": 43,
     "metadata": {},
     "output_type": "execute_result"
    }
   ],
   "source": [
    "# for simplicity we'll supose that our vocabulary have 10 words\n",
    "nextWordProbabilities = torch.rand(1,10)\n",
    "nextWordProbabilities"
   ]
  },
  {
   "cell_type": "code",
   "execution_count": 44,
   "metadata": {},
   "outputs": [
    {
     "data": {
      "text/plain": [
       "\n",
       " 0\n",
       "[torch.LongTensor of size 1]"
      ]
     },
     "execution_count": 44,
     "metadata": {},
     "output_type": "execute_result"
    }
   ],
   "source": [
    "nextWordProbabilities.max(1)[1]"
   ]
  },
  {
   "cell_type": "code",
   "execution_count": 45,
   "metadata": {},
   "outputs": [
    {
     "data": {
      "text/plain": [
       "\n",
       "(0 ,.,.) = \n",
       "  0.2579  0.7438  0.0966  0.6420\n",
       "  0.5827  0.1917  0.7428  0.2305\n",
       "  0.0241  0.0927  0.6222  0.9577\n",
       "\n",
       "(1 ,.,.) = \n",
       "  0.2562  0.8452  0.4747  0.4619\n",
       "  0.5867  0.7910  0.7250  0.4064\n",
       "  0.5269  0.1850  0.0392  0.2084\n",
       "[torch.FloatTensor of size 2x3x4]"
      ]
     },
     "execution_count": 45,
     "metadata": {},
     "output_type": "execute_result"
    }
   ],
   "source": [
    "x = torch.rand(2,3,4)\n",
    "x"
   ]
  },
  {
   "cell_type": "code",
   "execution_count": 46,
   "metadata": {},
   "outputs": [
    {
     "data": {
      "text/plain": [
       "(\n",
       "  0.5827  0.7438  0.7428  0.9577\n",
       "  0.5867  0.8452  0.7250  0.4619\n",
       " [torch.FloatTensor of size 2x4], \n",
       "  1  0  1  2\n",
       "  1  0  1  0\n",
       " [torch.LongTensor of size 2x4])"
      ]
     },
     "execution_count": 46,
     "metadata": {},
     "output_type": "execute_result"
    }
   ],
   "source": [
    "x.max(1)"
   ]
  },
  {
   "cell_type": "markdown",
   "metadata": {},
   "source": [
    "## Loss Function\n",
    "the loss function is categorical cross-entropy loss ( https://rdipietro.github.io/friendly-intro-to-cross-entropy-loss/ )  \n",
    "we've got a list of probabilities for each of our classes, the classes are all the words in our English vocab and we have a target which is the correct class, the correct word at this location.  \n",
    "* If the generated sequence length is shorter than the sequence length of the target, we need to add some padding. PyTorch padding function requires a tuple of 6 to pad a rank 3 tensor (sequence length, batch size, by number of words in the vocab). Each pair represents padding before and after that dimension."
   ]
  },
  {
   "cell_type": "code",
   "execution_count": 116,
   "metadata": {},
   "outputs": [],
   "source": [
    "?F.pad\n",
    "#    the dimensions that gets padded begins with the last dimension and moves forward.\n",
    "#    >>> t4d = torch.Tensor(3, 3, 4, 2)\n",
    "#    >>> p3d = (0, 1, 2, 1, 3, 3) # pad by (0, 1), (2, 1), and (3, 3)\n",
    "#    >>> out = F.pad(t4d, p3d, \"constant\", 0)\n",
    "#    >>> print(out.data.size())\n",
    "#    torch.Size([3, 9, 7, 3])\n",
    "#    (3, 3, 4, 2) --> (3, 3 + 3 + 3, 4 + 2 + 1, 2 + 0 + 1) --> (3, 9, 7, 3)"
   ]
  },
  {
   "cell_type": "code",
   "execution_count": 45,
   "metadata": {},
   "outputs": [
    {
     "data": {
      "text/plain": [
       "\n",
       " 0.5208  0.7188  0.1717\n",
       " 0.6729  0.1863  0.1165\n",
       "[torch.FloatTensor of size 2x3]"
      ]
     },
     "execution_count": 45,
     "metadata": {},
     "output_type": "execute_result"
    }
   ],
   "source": [
    "x = torch.rand(2, 3)\n",
    "x"
   ]
  },
  {
   "cell_type": "code",
   "execution_count": 46,
   "metadata": {},
   "outputs": [
    {
     "data": {
      "text/plain": [
       "Variable containing:\n",
       " 0.0000  0.0000  0.0000  0.0000  0.0000  0.0000\n",
       " 0.0000  0.0000  0.0000  0.0000  0.0000  0.0000\n",
       " 0.0000  0.0000  0.0000  0.0000  0.0000  0.0000\n",
       " 0.0000  0.5208  0.7188  0.1717  0.0000  0.0000\n",
       " 0.0000  0.6729  0.1863  0.1165  0.0000  0.0000\n",
       " 0.0000  0.0000  0.0000  0.0000  0.0000  0.0000\n",
       " 0.0000  0.0000  0.0000  0.0000  0.0000  0.0000\n",
       " 0.0000  0.0000  0.0000  0.0000  0.0000  0.0000\n",
       " 0.0000  0.0000  0.0000  0.0000  0.0000  0.0000\n",
       "[torch.FloatTensor of size 9x6]"
      ]
     },
     "execution_count": 46,
     "metadata": {},
     "output_type": "execute_result"
    }
   ],
   "source": [
    "F.pad(x, (1, 2, 3, 4), 'constant', 0)\n",
    "# (2, 3) --> (2 + 3 + 4, 3 + 1 + 2) = (9, 6)"
   ]
  },
  {
   "cell_type": "code",
   "execution_count": 47,
   "metadata": {},
   "outputs": [
    {
     "data": {
      "text/plain": [
       "Variable containing:\n",
       " 0.0000  0.5208  0.7188  0.1717  0.0000  0.0000\n",
       " 0.0000  0.6729  0.1863  0.1165  0.0000  0.0000\n",
       "[torch.FloatTensor of size 2x6]"
      ]
     },
     "execution_count": 47,
     "metadata": {},
     "output_type": "execute_result"
    }
   ],
   "source": [
    "F.pad(x, (1, 2), 'constant', 0)\n",
    "# (2, 3) --> (2, 3 + 1 + 2) = (2, 6)"
   ]
  },
  {
   "cell_type": "code",
   "execution_count": 48,
   "metadata": {},
   "outputs": [
    {
     "data": {
      "text/plain": [
       "Variable containing:\n",
       " 0.0000  0.0000  0.0000\n",
       " 0.5208  0.7188  0.1717\n",
       " 0.6729  0.1863  0.1165\n",
       " 0.0000  0.0000  0.0000\n",
       " 0.0000  0.0000  0.0000\n",
       "[torch.FloatTensor of size 5x3]"
      ]
     },
     "execution_count": 48,
     "metadata": {},
     "output_type": "execute_result"
    }
   ],
   "source": [
    "F.pad(x, (0, 0, 1, 2), 'constant', 0)\n",
    "# (2, 3) --> (2 + 1 + 2, 3 + 0 + 0) = (5, 3)"
   ]
  },
  {
   "cell_type": "code",
   "execution_count": 49,
   "metadata": {},
   "outputs": [
    {
     "data": {
      "text/plain": [
       "\n",
       " 0.5727  0.8534  0.3840\n",
       " 0.2433  0.1825  0.9726\n",
       "[torch.FloatTensor of size 2x3]"
      ]
     },
     "execution_count": 49,
     "metadata": {},
     "output_type": "execute_result"
    }
   ],
   "source": [
    "x = torch.rand(2, 3)\n",
    "x"
   ]
  },
  {
   "cell_type": "code",
   "execution_count": 50,
   "metadata": {},
   "outputs": [
    {
     "data": {
      "text/plain": [
       "\n",
       " 0.5727  0.8534  0.3840  0.2433  0.1825  0.9726\n",
       "[torch.FloatTensor of size 1x6]"
      ]
     },
     "execution_count": 50,
     "metadata": {},
     "output_type": "execute_result"
    }
   ],
   "source": [
    "x.view(1,-1) # flattens out the tensor"
   ]
  },
  {
   "cell_type": "code",
   "execution_count": 51,
   "metadata": {},
   "outputs": [],
   "source": [
    "?F.cross_entropy"
   ]
  },
  {
   "cell_type": "code",
   "execution_count": 47,
   "metadata": {},
   "outputs": [],
   "source": [
    "def seq2seq_loss(input, target):\n",
    "    sl, bs = target.size() # sequence_length x batch_size (target)\n",
    "    sl_in, bs_in, nc = input.size() # sequence_length x batch_size x vocab_size (input)\n",
    "    \n",
    "    # if the input is shorter than the target, add padding at the end (after the last dimension)\n",
    "    if sl > sl_in: input = F.pad(input, (0, 0, 0, 0, 0, sl-sl_in))\n",
    "    # (sl_in x bs x nc) --> (sl_in + sl - sl_in x bs x nc) = (sl x bs x nc)\n",
    "\n",
    "    input = input[:sl]\n",
    "    \n",
    "    # F.cross_entropy expects a rank 2 tensor, but we have sequence length by batch size,\n",
    "    # so let’s just flatten out. That is what view(-1, ...) does.\n",
    "    return F.cross_entropy(input.view(-1,nc), target.view(-1))#, ignore_index=1)"
   ]
  },
  {
   "cell_type": "code",
   "execution_count": 139,
   "metadata": {},
   "outputs": [],
   "source": [
    "??partial"
   ]
  },
  {
   "cell_type": "code",
   "execution_count": 140,
   "metadata": {},
   "outputs": [],
   "source": [
    "?optim.Adam"
   ]
  },
  {
   "cell_type": "code",
   "execution_count": 48,
   "metadata": {},
   "outputs": [],
   "source": [
    "opt_fn = partial(optim.Adam, betas=(0.8, 0.99))"
   ]
  },
  {
   "cell_type": "markdown",
   "metadata": {},
   "source": [
    "The difference between `.cuda()` and `to_gpu()` : `to_gpu` will not put to in the GPU if you do not have one. You can also set `fastai.core.USE_GPU` to `false` to force it to not use GPU that can be handy for debugging.  \n",
    "* We then need something that tells it how to handle learning rate groups so there is a thing called SingleModel that you can pass it to which treats the whole thing as a single learning rate group [1:09:40]. So this is the easiest way to turn a PyTorch module into a fastai model."
   ]
  },
  {
   "cell_type": "code",
   "execution_count": 97,
   "metadata": {},
   "outputs": [],
   "source": [
    "#??SingleModel\n",
    "??BasicModel"
   ]
  },
  {
   "cell_type": "markdown",
   "metadata": {},
   "source": [
    "`SingleModel` is used to turn a PyTorch module into a fastai module and `RNN_Learner` is used to turn a fastai module into a learner.  \n",
    "* We could just call Learner to turn that into a learner, but if we call `RNN_Learner`, it does add in `save_encoder` and `load_encoder` that can be handy sometimes. In this case, we really could have said `Learner` but `RNN_Learner` also works."
   ]
  },
  {
   "cell_type": "markdown",
   "metadata": {},
   "source": [
    "`def __init__(self, vecs_enc, itos_enc, em_sz_enc, vecs_dec, itos_dec, em_sz_dec, nh, out_sl, nl=2):`"
   ]
  },
  {
   "cell_type": "code",
   "execution_count": 49,
   "metadata": {},
   "outputs": [],
   "source": [
    "#enlen_90 = int(np.percentile([len(o) for o in en_ids], 99))\n",
    "def getMaxLenSentence(ids):\n",
    "    return max([len(o) for o in ids])"
   ]
  },
  {
   "cell_type": "code",
   "execution_count": 50,
   "metadata": {
    "scrolled": true
   },
   "outputs": [],
   "source": [
    "#rnn = Seq2SeqRNN(fr_vecd, fr_itos, dim_fr_vec, en_vecd, en_itos, dim_en_vec, nh, enlen_90) # old implementation\n",
    "\n",
    "# length of the longest english sentence in our dataset !\n",
    "maxLenSentence = getMaxLenSentence(en_ids)\n",
    "#maxLenSentence = getMaxLenSentence(fr_ids)\n",
    "rnn = Seq2SeqRNN(fr_vecs, fr_itos, dim_fr_vec, en_vecs, en_itos, dim_en_vec, nh, maxLenSentence) # new implementation\n",
    "#rnn = Seq2SeqRNN(en_vecs, en_itos, dim_en_vec, fr_vecs, fr_itos, dim_fr_vec, nh, maxLenSentence) # new implementation\n",
    "\n",
    "# md is the model data object, containing the train and validation dataloaders\n",
    "learn = RNN_Learner(md, SingleModel(to_gpu(rnn)), opt_fn=opt_fn)\n",
    "\n",
    "# once we have a learner, we give it our loss function\n",
    "learn.crit = seq2seq_loss"
   ]
  },
  {
   "cell_type": "code",
   "execution_count": 51,
   "metadata": {
    "scrolled": true
   },
   "outputs": [],
   "source": [
    "# test jupyter notebook's widgets\n",
    "#from ipywidgets import IntProgress\n",
    "#IntProgress(10,max=100)"
   ]
  },
  {
   "cell_type": "code",
   "execution_count": 52,
   "metadata": {},
   "outputs": [],
   "source": [
    "import fastai"
   ]
  },
  {
   "cell_type": "code",
   "execution_count": 53,
   "metadata": {},
   "outputs": [
    {
     "data": {
      "text/plain": [
       "False"
      ]
     },
     "execution_count": 53,
     "metadata": {},
     "output_type": "execute_result"
    }
   ],
   "source": [
    "fastai.core.USE_GPU"
   ]
  },
  {
   "cell_type": "code",
   "execution_count": 54,
   "metadata": {
    "scrolled": true
   },
   "outputs": [
    {
     "data": {
      "application/vnd.jupyter.widget-view+json": {
       "model_id": "c14021ec09fa4c6d95c4078d8702384c",
       "version_major": 2,
       "version_minor": 0
      },
      "text/plain": [
       "HBox(children=(IntProgress(value=0, description='Epoch', max=1), HTML(value='')))"
      ]
     },
     "metadata": {},
     "output_type": "display_data"
    },
    {
     "name": "stdout",
     "output_type": "stream",
     "text": [
      " 66%|██████▋   | 57/86 [00:25<00:12,  2.28it/s, loss=25.6]"
     ]
    },
    {
     "data": {
      "image/png": "[encoded data removed]",
      "text/plain": [
       "<matplotlib.figure.Figure at 0x7fa7e63bc198>"
      ]
     },
     "metadata": {},
     "output_type": "display_data"
    }
   ],
   "source": [
    "#import pdb; pdb.set_trace()\n",
    "learn.lr_find()\n",
    "learn.sched.plot()"
   ]
  },
  {
   "cell_type": "code",
   "execution_count": 61,
   "metadata": {},
   "outputs": [],
   "source": [
    "?torch.index_select"
   ]
  },
  {
   "cell_type": "code",
   "execution_count": 87,
   "metadata": {
    "scrolled": false
   },
   "outputs": [],
   "source": [
    "# %debug"
   ]
  },
  {
   "cell_type": "code",
   "execution_count": 55,
   "metadata": {},
   "outputs": [],
   "source": [
    "lr=3e-3"
   ]
  },
  {
   "cell_type": "markdown",
   "metadata": {},
   "source": [
    "We can safely ignore the error 'Set changed size during iteration'  \n",
    "http://forums.fast.ai/t/runtimeerror-set-changed-size-during-iteration/7565"
   ]
  },
  {
   "cell_type": "code",
   "execution_count": 57,
   "metadata": {
    "scrolled": true
   },
   "outputs": [
    {
     "data": {
      "application/vnd.jupyter.widget-view+json": {
       "model_id": "0f5530b319364e6aa3fa4ae5d0f61cfe",
       "version_major": 2,
       "version_minor": 0
      },
      "text/plain": [
       "HBox(children=(IntProgress(value=0, description='Epoch', max=12), HTML(value='')))"
      ]
     },
     "metadata": {},
     "output_type": "display_data"
    },
    {
     "name": "stdout",
     "output_type": "stream",
     "text": [
      "epoch      trn_loss   val_loss                            \n",
      "    0      5.570353   5.410881  \n",
      "    1      5.371669   4.897469                            \n",
      "    2      5.023494   5.038763                            \n",
      "    3      4.77653    4.759721                            \n",
      "    4      4.551561   4.860833                            \n",
      "    5      4.397697   4.742536                            \n",
      "    6      4.088735   4.747053                            \n",
      "    7      3.842484   4.598875                            \n",
      "    8      3.65064    4.619178                            \n",
      "    9      3.40026    4.525529                            \n",
      "    10     3.144407   4.471087                            \n",
      "    11     3.020039   4.393691                            \n",
      "\n"
     ]
    },
    {
     "data": {
      "text/plain": [
       "[array([4.39369])]"
      ]
     },
     "execution_count": 57,
     "metadata": {},
     "output_type": "execute_result"
    }
   ],
   "source": [
    "learn.fit(lr, 1, cycle_len=12, use_clr=(20,10))\n",
    "\n",
    "# using try..except to ignore the error\n",
    "# RuntimeError: Set changed size during iteration\n",
    "#try:\n",
    "#    learn.fit(lr, 1, cycle_len=10, use_clr=(20,10))\n",
    "#except RuntimeError:\n",
    "#    print('RuntimeError detected')"
   ]
  },
  {
   "cell_type": "code",
   "execution_count": 58,
   "metadata": {},
   "outputs": [],
   "source": [
    "learn.save('initial')"
   ]
  },
  {
   "cell_type": "code",
   "execution_count": 59,
   "metadata": {},
   "outputs": [],
   "source": [
    "learn.load('initial')"
   ]
  },
  {
   "cell_type": "markdown",
   "metadata": {
    "heading_collapsed": true
   },
   "source": [
    "### Test"
   ]
  },
  {
   "cell_type": "code",
   "execution_count": 60,
   "metadata": {
    "scrolled": false
   },
   "outputs": [
    {
     "name": "stdout",
     "output_type": "stream",
     "text": [
      "tom et mary acceptèrent de travailler ensemble sur le projet . _eos_\n",
      "tom and mary agreed to work together on the project . _eos_\n",
      "tom tom tom tom to to _eos_ _eos_ _eos_ _eos_ _eos_ _eos_ _eos_ _eos_ _eos_ _eos_ _eos_\n",
      "\n",
      "je ne pense pas que tu aies fait ceci par toi-même . _eos_\n",
      "i do n't think you did this by yourself . _eos_\n",
      "i i have you you to to to . _eos_ _eos_ _eos_ _eos_ _eos_ _eos_ _eos_ _eos_\n",
      "\n",
      "peut-être que tom peut t' aider à trouver un travail . _eos_\n",
      "perhaps tom can help you find a job . _eos_\n",
      "you you a a to to to _eos_ _eos_ _eos_ _eos_ _eos_ _eos_ _eos_ _eos_ _eos_ _eos_\n",
      "\n",
      "j' aime prendre un petit déjeuner tardif . _eos_\n",
      "i like to eat a late breakfast . _eos_\n",
      "a a a to to to _eos_ _eos_ _eos_ _eos_ _eos_ _eos_ _eos_ _eos_ _eos_ _eos_ _eos_\n",
      "\n",
      "pourquoi ne discutez - vous pas avec lui ? _eos_\n",
      "why do n't you talk to him ? _eos_\n",
      "do you you you a . _eos_ _eos_ _eos_ _eos_ _eos_ _eos_ _eos_ _eos_ _eos_ _eos_ _eos_\n",
      "\n",
      "ne le ramassez pas . _eos_\n",
      "do n't pick it up . _eos_\n",
      "do the the the . . _eos_ _eos_ _eos_ _eos_ _eos_ _eos_ _eos_ _eos_ _eos_ _eos_ _eos_\n",
      "\n",
      "lui et moi sommes instituteurs . _eos_\n",
      "he and i are teachers . _eos_\n",
      "he he your . _eos_ _eos_ _eos_ _eos_ _eos_ _eos_ _eos_ _eos_ _eos_ _eos_ _eos_ _eos_ _eos_\n",
      "\n",
      "as - tu apporté une arme ? _eos_\n",
      "did you bring a weapon ? _eos_\n",
      "how you you you _eos_ _eos_ _eos_ _eos_ _eos_ _eos_ _eos_ _eos_ _eos_ _eos_ _eos_ _eos_ _eos_\n",
      "\n",
      "ils n' ont pas écouté . _eos_\n",
      "they did n't listen . _eos_\n",
      "you are . _eos_ _eos_ _eos_ _eos_ _eos_ _eos_ _eos_ _eos_ _eos_ _eos_ _eos_ _eos_ _eos_ _eos_\n",
      "\n",
      "vous connaissez la rengaine . _eos_\n",
      "you know the drill . _eos_\n",
      "you you a . _eos_ _eos_ _eos_ _eos_ _eos_ _eos_ _eos_ _eos_ _eos_ _eos_ _eos_ _eos_ _eos_\n",
      "\n",
      "es - tu bientôt prêt ? _eos_\n",
      "are you almost ready ? _eos_\n",
      "why you you you _eos_ _eos_ _eos_ _eos_ _eos_ _eos_ _eos_ _eos_ _eos_ _eos_ _eos_ _eos_ _eos_\n",
      "\n",
      "nous petit-déjeunons . _eos_\n",
      "we are having breakfast . _eos_\n",
      "you are is . _eos_ _eos_ _eos_ _eos_ _eos_ _eos_ _eos_ _eos_ _eos_ _eos_ _eos_ _eos_ _eos_\n",
      "\n",
      "ferme les yeux . _eos_\n",
      "shut your eyes . _eos_\n",
      "the the the the . _eos_ _eos_ _eos_ _eos_ _eos_ _eos_ _eos_ _eos_ _eos_ _eos_ _eos_ _eos_\n",
      "\n",
      "attention aux imitations . _eos_\n",
      "beware of imitations . _eos_\n",
      "you are is . _eos_ _eos_ _eos_ _eos_ _eos_ _eos_ _eos_ _eos_ _eos_ _eos_ _eos_ _eos_ _eos_\n",
      "\n"
     ]
    }
   ],
   "source": [
    "#x,y = next(iter(val_dl))\n",
    "#probs = learn.model(V(x))\n",
    "#preds = to_np(probs.max(2)[1])\n",
    "\n",
    "for x, y in iter(val_dl):\n",
    "    #print(x)\n",
    "    for i in range(x.shape[1]):\n",
    "        # fr -> en\n",
    "        print(' '.join([fr_itos[o] for o in x[:,i] if o != 1]))\n",
    "        print(' '.join([en_itos[o] for o in y[:,i] if o != 1]))\n",
    "        \n",
    "        probs = learn.model(V(x))\n",
    "        preds = to_np(probs.max(2)[1])\n",
    "        print(' '.join([en_itos[o] for o in preds[:,i] if o!=1]))\n",
    "        print()\n",
    "        \n",
    "        # en -> fr\n",
    "        #print(' '.join([en_itos[o] for o in x[:,i] if o != 1]))\n",
    "        #print(' '.join([fr_itos[o] for o in y[:,i] if o != 1]))\n",
    "        \n",
    "        #probs = learn.model(V(x))\n",
    "        #preds = to_np(probs.max(2)[1])\n",
    "        #print(' '.join([fr_itos[o] for o in preds[:,i] if o!=1]))\n",
    "        #print()"
   ]
  },
  {
   "cell_type": "markdown",
   "metadata": {
    "heading_collapsed": true
   },
   "source": [
    "## Bidir"
   ]
  },
  {
   "cell_type": "markdown",
   "metadata": {},
   "source": [
    "When we added `bidirectional=True`, the Linear layer now needs number of hidden times 2 ( i.e. `nh*2` ) to reflect the fact that we have that second direction in our hidden state. Also in initHidden it’s now `self.nl*2`."
   ]
  },
  {
   "cell_type": "code",
   "execution_count": 61,
   "metadata": {
    "hidden": true
   },
   "outputs": [],
   "source": [
    "class Seq2SeqRNN_Bidir(nn.Module):\n",
    "    def __init__(self, vecs_enc, itos_enc, em_sz_enc, vecs_dec, itos_dec, em_sz_dec, nh, out_sl, nl=2):\n",
    "        super().__init__()\n",
    "        self.nl, self.nh, self.out_sl = nl, nh, out_sl\n",
    "        self.emb_enc = create_emb(vecs_enc, itos_enc, em_sz_enc)\n",
    "        \n",
    "        # Bidirectional encoder, adds a 2nd RNN in the opposite direction\n",
    "        self.gru_enc = nn.GRU(em_sz_enc, nh, num_layers=nl, dropout=0.25, bidirectional=True)\n",
    "        \n",
    "        # doubling the number of input neurones in the linear layer\n",
    "        self.out_enc = nn.Linear(nh*2, em_sz_dec, bias=False)\n",
    "        \n",
    "        self.drop_enc = nn.Dropout(0.05)\n",
    "        \n",
    "        self.emb_dec = create_emb(vecs_dec, itos_dec, em_sz_dec)\n",
    "        self.gru_dec = nn.GRU(em_sz_dec, em_sz_dec, num_layers=nl, dropout=0.1)\n",
    "        \n",
    "        self.emb_enc_drop = nn.Dropout(0.15)\n",
    "        self.out_drop = nn.Dropout(0.35)\n",
    "        \n",
    "        self.out = nn.Linear(em_sz_dec, len(itos_dec))\n",
    "        self.out.weight.data = self.emb_dec.weight.data\n",
    "        \n",
    "    def forward(self, inp):\n",
    "        sl,bs = inp.size()\n",
    "        h = self.initHidden(bs)\n",
    "        emb = self.emb_enc_drop(self.emb_enc(inp))\n",
    "        \n",
    "        enc_out, h = self.gru_enc(emb, h)\n",
    "        h = h.view(2,2,bs,-1).permute(0,2,1,3).contiguous().view(2,bs,-1)\n",
    "        h = self.out_enc(self.drop_enc(h))\n",
    "\n",
    "        dec_inp = V(torch.zeros(bs).long())\n",
    "        res = []\n",
    "        for i in range(self.out_sl):\n",
    "            emb = self.emb_dec(dec_inp).unsqueeze(0)\n",
    "            outp, h = self.gru_dec(emb, h)\n",
    "            outp = self.out(self.out_drop(outp[0]))\n",
    "            res.append(outp)\n",
    "            dec_inp = V(outp.data.max(1)[1])\n",
    "            if (dec_inp==1).all(): break\n",
    "        return torch.stack(res)\n",
    "    \n",
    "    # self.nl*2 because bidirectional is set to True\n",
    "    # one hidden state vector for each RNN\n",
    "    def initHidden(self, bs): return V(torch.zeros(self.nl*2, bs, self.nh))"
   ]
  },
  {
   "cell_type": "markdown",
   "metadata": {},
   "source": [
    "Question: Why do you need to set a range to the loop? [1:20:58] Because when we start training, everything is random so `if (dec_inp==1).all(): break` will probably never be true. Later on, it will pretty much always break out eventually but basically we are going to go forever. It’s really important to remember when you are designing an architecture that when you start, the model knows nothing about anything. So you want to make sure if it’s going to do something at least it’s vaguely sensible."
   ]
  },
  {
   "cell_type": "code",
   "execution_count": 62,
   "metadata": {
    "hidden": true
   },
   "outputs": [],
   "source": [
    "#rnn = Seq2SeqRNN_Bidir(fr_vecd, fr_itos, dim_fr_vec, en_vecd, en_itos, dim_en_vec, nh, enlen_90)\n",
    "\n",
    "maxLenSentence = getMaxLenSentence(fr_ids)\n",
    "rnn = Seq2SeqRNN_Bidir(fr_vecs, fr_itos, dim_fr_vec, en_vecs, en_itos, dim_en_vec, nh, maxLenSentence) # new implementation\n",
    "learn = RNN_Learner(md, SingleModel(to_gpu(rnn)), opt_fn=opt_fn)\n",
    "learn.crit = seq2seq_loss"
   ]
  },
  {
   "cell_type": "code",
   "execution_count": 63,
   "metadata": {
    "hidden": true,
    "scrolled": false
   },
   "outputs": [
    {
     "data": {
      "application/vnd.jupyter.widget-view+json": {
       "model_id": "382fc35636f746458205a5041e4d667b",
       "version_major": 2,
       "version_minor": 0
      },
      "text/plain": [
       "HBox(children=(IntProgress(value=0, description='Epoch', max=12), HTML(value='')))"
      ]
     },
     "metadata": {},
     "output_type": "display_data"
    },
    {
     "name": "stdout",
     "output_type": "stream",
     "text": [
      "epoch      trn_loss   val_loss                            \n",
      "    0      5.863043   5.075959  \n",
      "    1      6.044207   5.02854                             \n",
      "    2      5.313451   4.963759                            \n",
      "    3      4.857013   4.650207                            \n",
      "    4      4.390748   4.654443                            \n",
      "    5      4.26524    4.730703                            \n",
      "    6      4.057316   4.539191                            \n",
      "    7      3.739889   4.551198                            \n",
      "    8      3.499628   4.310367                            \n",
      "    9      3.266146   4.364414                            \n",
      "    10     3.021368   4.386462                            \n",
      "    11     2.739096   4.28379                             \n",
      "\n"
     ]
    },
    {
     "data": {
      "text/plain": [
       "[array([4.28379])]"
      ]
     },
     "execution_count": 63,
     "metadata": {},
     "output_type": "execute_result"
    }
   ],
   "source": [
    "learn.fit(lr, 1, cycle_len=12, use_clr=(20,10))"
   ]
  },
  {
   "cell_type": "code",
   "execution_count": 64,
   "metadata": {
    "hidden": true
   },
   "outputs": [],
   "source": [
    "learn.save('bidir')"
   ]
  },
  {
   "cell_type": "markdown",
   "metadata": {},
   "source": [
    "### Test - Bidir"
   ]
  },
  {
   "cell_type": "code",
   "execution_count": 65,
   "metadata": {},
   "outputs": [
    {
     "name": "stdout",
     "output_type": "stream",
     "text": [
      "tom et mary acceptèrent de travailler ensemble sur le projet . _eos_\n",
      "tom and mary agreed to work together on the project . _eos_\n",
      "tom tom too let with with . _eos_ _eos_ _eos_ _eos_ _eos_ _eos_ _eos_ _eos_ _eos_ _eos_ _eos_ _eos_ _eos_ _eos_\n",
      "\n",
      "je ne pense pas que tu aies fait ceci par toi-même . _eos_\n",
      "i do n't think you did this by yourself . _eos_\n",
      "i i do you to to to _eos_ _eos_ _eos_ _eos_ _eos_ _eos_ _eos_ _eos_ _eos_ _eos_ _eos_ _eos_ _eos_ _eos_\n",
      "\n",
      "peut-être que tom peut t' aider à trouver un travail . _eos_\n",
      "perhaps tom can help you find a job . _eos_\n",
      "please please please to you to to to _eos_ _eos_ _eos_ _eos_ _eos_ _eos_ _eos_ _eos_ _eos_ _eos_ _eos_ _eos_ _eos_\n",
      "\n",
      "j' aime prendre un petit déjeuner tardif . _eos_\n",
      "i like to eat a late breakfast . _eos_\n",
      "i a to to to to _eos_ _eos_ _eos_ _eos_ _eos_ _eos_ _eos_ _eos_ _eos_ _eos_ _eos_ _eos_ _eos_ _eos_ _eos_\n",
      "\n",
      "pourquoi ne discutez - vous pas avec lui ? _eos_\n",
      "why do n't you talk to him ? _eos_\n",
      "why do you you you _eos_ _eos_ _eos_ _eos_ _eos_ _eos_ _eos_ _eos_ _eos_ _eos_ _eos_ _eos_ _eos_ _eos_ _eos_ _eos_\n",
      "\n",
      "ne le ramassez pas . _eos_\n",
      "do n't pick it up . _eos_\n",
      "do do . . _eos_ _eos_ _eos_ _eos_ _eos_ _eos_ _eos_ _eos_ _eos_ _eos_ _eos_ _eos_ _eos_ _eos_ _eos_ _eos_ _eos_\n",
      "\n",
      "lui et moi sommes instituteurs . _eos_\n",
      "he and i are teachers . _eos_\n",
      "he the . _eos_ _eos_ _eos_ _eos_ _eos_ _eos_ _eos_ _eos_ _eos_ _eos_ _eos_ _eos_ _eos_ _eos_ _eos_ _eos_ _eos_ _eos_\n",
      "\n",
      "as - tu apporté une arme ? _eos_\n",
      "did you bring a weapon ? _eos_\n",
      "you you you my about _eos_ _eos_ _eos_ _eos_ _eos_ _eos_ _eos_ _eos_ _eos_ _eos_ _eos_ _eos_ _eos_ _eos_ _eos_ _eos_\n",
      "\n",
      "ils n' ont pas écouté . _eos_\n",
      "they did n't listen . _eos_\n",
      "he the . . _eos_ _eos_ _eos_ _eos_ _eos_ _eos_ _eos_ _eos_ _eos_ _eos_ _eos_ _eos_ _eos_ _eos_ _eos_ _eos_ _eos_\n",
      "\n",
      "vous connaissez la rengaine . _eos_\n",
      "you know the drill . _eos_\n",
      "you are the _eos_ _eos_ _eos_ _eos_ _eos_ _eos_ _eos_ _eos_ _eos_ _eos_ _eos_ _eos_ _eos_ _eos_ _eos_ _eos_ _eos_ _eos_\n",
      "\n",
      "es - tu bientôt prêt ? _eos_\n",
      "are you almost ready ? _eos_\n",
      "are you you mention ? _eos_ _eos_ _eos_ _eos_ _eos_ _eos_ _eos_ _eos_ _eos_ _eos_ _eos_ _eos_ _eos_ _eos_ _eos_ _eos_\n",
      "\n",
      "nous petit-déjeunons . _eos_\n",
      "we are having breakfast . _eos_\n",
      "we are _eos_ _eos_ _eos_ _eos_ _eos_ _eos_ _eos_ _eos_ _eos_ _eos_ _eos_ _eos_ _eos_ _eos_ _eos_ _eos_ _eos_ _eos_ _eos_\n",
      "\n",
      "ferme les yeux . _eos_\n",
      "shut your eyes . _eos_\n",
      "the the . _eos_ _eos_ _eos_ _eos_ _eos_ _eos_ _eos_ _eos_ _eos_ _eos_ _eos_ _eos_ _eos_ _eos_ _eos_ _eos_ _eos_ _eos_\n",
      "\n",
      "attention aux imitations . _eos_\n",
      "beware of imitations . _eos_\n",
      "the the is _eos_ _eos_ _eos_ _eos_ _eos_ _eos_ _eos_ _eos_ _eos_ _eos_ _eos_ _eos_ _eos_ _eos_ _eos_ _eos_ _eos_ _eos_\n",
      "\n"
     ]
    }
   ],
   "source": [
    "learn.load('bidir')\n",
    "x,y = next(iter(val_dl))\n",
    "probs = learn.model(V(x))\n",
    "preds = to_np(probs.max(2)[1])\n",
    "\n",
    "#print(x.shape)\n",
    "\n",
    "#for i in range(180,190):\n",
    "#for i in range(1):\n",
    "#    print(' '.join([fr_itos[o] for o in x[:,i] if o != 1]))\n",
    "#    print(' '.join([en_itos[o] for o in y[:,i] if o != 1]))\n",
    "#    print(' '.join([en_itos[o] for o in preds[:,i] if o!=1]))\n",
    "#    print()\n",
    "    \n",
    "for x, y in iter(val_dl):\n",
    "    #print(x)\n",
    "    for i in range(x.shape[1]):\n",
    "        # fr -> en\n",
    "        print(' '.join([fr_itos[o] for o in x[:,i] if o != 1]))\n",
    "        print(' '.join([en_itos[o] for o in y[:,i] if o != 1]))\n",
    "        \n",
    "        probs = learn.model(V(x))\n",
    "        preds = to_np(probs.max(2)[1])\n",
    "        print(' '.join([en_itos[o] for o in preds[:,i] if o!=1]))\n",
    "        print()"
   ]
  },
  {
   "cell_type": "markdown",
   "metadata": {},
   "source": [
    "## Teacher forcing"
   ]
  },
  {
   "cell_type": "markdown",
   "metadata": {},
   "source": [
    "Now let’s talk about teacher forcing. When a model starts learning, it knows nothing about nothing. So when the model starts learning, it is not going to spit out “Er” at the first step, it is going to spit out some random meaningless word because it doesn’t know anything about German or about English or about the idea of language. And it is going to feed it to the next process as an input and be totally unhelpful. That means, early learning is going to be very difficult because it is feeding in an input that is stupid into a model that knows nothing and somehow it’s going to get better. So it is not asking too much eventually it gets there, but it’s definitely not as helpful as we can be. So what if instead of feeding in the thing I predicted just now, what if we instead we feed in the actual correct word was meant to be. We can’t do that at inference time because by definition we don’t know the correct word - it has to translate it. We can’t require the correct translation in order to do translation.  \n",
    "![Seq2seq model][logo]\n",
    "[logo]: https://cdn-images-1.medium.com/max/800/1*DU776SGr1rhYeU7ilIKX9w.png \"Seq2seq model\""
   ]
  },
  {
   "cell_type": "markdown",
   "metadata": {},
   "source": [
    "PyTorch make it easier to implement teacher forcing not like other static graphs frameworks like Tensorflow or Keras.  \n",
    "Below, we're writing our own version of Stepper, instead of re-writting the whole training loop, this class will be responsible for decreasing pr_force after each epoch."
   ]
  },
  {
   "cell_type": "code",
   "execution_count": 66,
   "metadata": {},
   "outputs": [],
   "source": [
    "#class Seq2SeqStepper(Stepper):\n",
    "#    def step(self, xs, y, epoch):\n",
    "#        self.m.pr_force = (10-epoch)*0.1 if epoch<10 else 0\n",
    "#        xtra = []\n",
    "#        output = self.m(*xs, y)\n",
    "#        if isinstance(output,tuple): output,*xtra = output\n",
    "#        self.opt.zero_grad()\n",
    "#        loss = raw_loss = self.crit(output, y)\n",
    "#        if self.reg_fn: loss = self.reg_fn(output, xtra, raw_loss)\n",
    "#        loss.backward()\n",
    "#        if self.clip:   # Gradient clipping\n",
    "#            nn.utils.clip_grad_norm(trainable_params_(self.m), self.clip)\n",
    "#        self.opt.step()\n",
    "#        return raw_loss.data[0]"
   ]
  },
  {
   "cell_type": "code",
   "execution_count": 67,
   "metadata": {},
   "outputs": [],
   "source": [
    "class Seq2SeqStepper(Stepper):\n",
    "    def step(self, xs, y, epoch):\n",
    "        # the following line gradually decreases pr_force after each epoch (for the first 10 epochs)\n",
    "        # after 10 epochs pr_force will be 0\n",
    "        self.m.pr_force = (10-epoch)*0.1 if epoch<10 else 0\n",
    "        return super().step(xs, y, epoch)"
   ]
  },
  {
   "cell_type": "markdown",
   "metadata": {},
   "source": [
    "At the start of training, let’s set pr_force really high so that nearly always it gets the actual correct previous word and so it has a useful input. Then as we trained a bit more, let’s decrease pr_force so that by the end pr_force is zero and it has to learn properly which is fine because it is now actually feeding in sensible inputs most of the time anyway."
   ]
  },
  {
   "cell_type": "code",
   "execution_count": 68,
   "metadata": {},
   "outputs": [],
   "source": [
    "class Seq2SeqRNN_TeacherForcing(nn.Module):\n",
    "    def __init__(self, vecs_enc, itos_enc, em_sz_enc, vecs_dec, itos_dec, em_sz_dec, nh, out_sl, nl=2):\n",
    "        super().__init__()\n",
    "        self.emb_enc = create_emb(vecs_enc, itos_enc, em_sz_enc)\n",
    "        self.nl,self.nh,self.out_sl = nl,nh,out_sl\n",
    "        self.gru_enc = nn.GRU(em_sz_enc, nh, num_layers=nl, dropout=0.25)\n",
    "        self.out_enc = nn.Linear(nh, em_sz_dec, bias=False)\n",
    "        self.emb_dec = create_emb(vecs_dec, itos_dec, em_sz_dec)\n",
    "        self.gru_dec = nn.GRU(em_sz_dec, em_sz_dec, num_layers=nl, dropout=0.1)\n",
    "        self.emb_enc_drop = nn.Dropout(0.15)\n",
    "        self.out_drop = nn.Dropout(0.35)\n",
    "        self.out = nn.Linear(em_sz_dec, len(itos_dec))\n",
    "        self.out.weight.data = self.emb_dec.weight.data\n",
    "        self.pr_force = 1.\n",
    "        \n",
    "    def forward(self, inp, y=None):\n",
    "        sl,bs = inp.size()\n",
    "        h = self.initHidden(bs)\n",
    "        emb = self.emb_enc_drop(self.emb_enc(inp))\n",
    "        enc_out, h = self.gru_enc(emb, h)\n",
    "        h = self.out_enc(h)\n",
    "\n",
    "        dec_inp = V(torch.zeros(bs).long())\n",
    "        res = []\n",
    "        for i in range(self.out_sl):\n",
    "            emb = self.emb_dec(dec_inp).unsqueeze(0)\n",
    "            outp, h = self.gru_dec(emb, h)\n",
    "            outp = self.out(self.out_drop(outp[0]))\n",
    "            res.append(outp)\n",
    "            dec_inp = V(outp.data.max(1)[1])\n",
    "            if (dec_inp==1).all(): break\n",
    "\n",
    "            # pr_force: probability of forcing\n",
    "            # if a random number if less than this probability, ...\n",
    "            if (y is not None) and (random.random()<self.pr_force):\n",
    "                \n",
    "                # if it's longer than the target sentence, we stop\n",
    "                if i>=len(y): break\n",
    "                \n",
    "                # ... we're going to replace the decoder input with the actual correct word\n",
    "                dec_inp = y[i]\n",
    "                \n",
    "        return torch.stack(res)\n",
    "    \n",
    "    def initHidden(self, bs): return V(torch.zeros(self.nl, bs, self.nh))"
   ]
  },
  {
   "cell_type": "code",
   "execution_count": 69,
   "metadata": {},
   "outputs": [],
   "source": [
    "#rnn = Seq2SeqRNN_TeacherForcing(fr_vecd, fr_itos, dim_fr_vec, en_vecd, en_itos, dim_en_vec, nh, enlen_90)\n",
    "\n",
    "maxLenSentence = getMaxLenSentence(fr_ids)\n",
    "rnn = Seq2SeqRNN_TeacherForcing(fr_vecs, fr_itos, dim_fr_vec, en_vecs, en_itos, dim_en_vec, nh, maxLenSentence) # new implementation\n",
    "learn = RNN_Learner(md, SingleModel(to_gpu(rnn)), opt_fn=opt_fn)\n",
    "learn.crit = seq2seq_loss"
   ]
  },
  {
   "cell_type": "code",
   "execution_count": 70,
   "metadata": {},
   "outputs": [
    {
     "data": {
      "application/vnd.jupyter.widget-view+json": {
       "model_id": "4d33afe1e04a4d24b3678aa3b7eb8685",
       "version_major": 2,
       "version_minor": 0
      },
      "text/plain": [
       "HBox(children=(IntProgress(value=0, description='Epoch', max=12), HTML(value='')))"
      ]
     },
     "metadata": {},
     "output_type": "display_data"
    },
    {
     "name": "stdout",
     "output_type": "stream",
     "text": [
      "epoch      trn_loss   val_loss                            \n",
      "    0      5.592833   5.026546  \n",
      "    1      5.415341   5.207315                            \n",
      "    2      5.00852    4.857776                            \n",
      "    3      4.723488   4.760334                            \n",
      "    4      4.55963    4.600816                            \n",
      "    5      4.318899   4.587016                            \n",
      "    6      4.071668   4.615957                            \n",
      "    7      3.780182   4.620639                            \n",
      "    8      3.640652   4.609586                            \n",
      "    9      3.489344   4.552939                            \n",
      "    10     3.226872   4.538654                            \n",
      "    11     3.059119   4.524024                            \n",
      "\n"
     ]
    },
    {
     "data": {
      "text/plain": [
       "[array([4.52402])]"
      ]
     },
     "execution_count": 70,
     "metadata": {},
     "output_type": "execute_result"
    }
   ],
   "source": [
    "# we have to pass in our custom stepper class\n",
    "learn.fit(lr, 1, cycle_len=12, use_clr=(20,10), stepper=Seq2SeqStepper)"
   ]
  },
  {
   "cell_type": "code",
   "execution_count": 71,
   "metadata": {},
   "outputs": [],
   "source": [
    "learn.save('forcing')"
   ]
  },
  {
   "cell_type": "code",
   "execution_count": 72,
   "metadata": {},
   "outputs": [
    {
     "name": "stdout",
     "output_type": "stream",
     "text": [
      "tom et mary acceptèrent de travailler ensemble sur le projet . _eos_\n",
      "tom and mary agreed to work together on the project . _eos_\n",
      "tom is is a to to _eos_ _eos_ _eos_ _eos_ _eos_ _eos_ _eos_ _eos_ _eos_ _eos_ _eos_ _eos_ _eos_ _eos_ _eos_\n",
      "\n",
      "je ne pense pas que tu aies fait ceci par toi-même . _eos_\n",
      "i do n't think you did this by yourself . _eos_\n",
      "i i have you to to to . _eos_ _eos_ _eos_ _eos_ _eos_ _eos_ _eos_ _eos_ _eos_ _eos_ _eos_ _eos_ _eos_\n",
      "\n",
      "peut-être que tom peut t' aider à trouver un travail . _eos_\n",
      "perhaps tom can help you find a job . _eos_\n",
      "you a a a to to to _eos_ _eos_ _eos_ _eos_ _eos_ _eos_ _eos_ _eos_ _eos_ _eos_ _eos_ _eos_ _eos_ _eos_\n",
      "\n",
      "j' aime prendre un petit déjeuner tardif . _eos_\n",
      "i like to eat a late breakfast . _eos_\n",
      "look a a a with . _eos_ _eos_ _eos_ _eos_ _eos_ _eos_ _eos_ _eos_ _eos_ _eos_ _eos_ _eos_ _eos_ _eos_ _eos_\n",
      "\n",
      "pourquoi ne discutez - vous pas avec lui ? _eos_\n",
      "why do n't you talk to him ? _eos_\n",
      "do do you take take . . _eos_ _eos_ _eos_ _eos_ _eos_ _eos_ _eos_ _eos_ _eos_ _eos_ _eos_ _eos_ _eos_ _eos_\n",
      "\n",
      "ne le ramassez pas . _eos_\n",
      "do n't pick it up . _eos_\n",
      "do do the the the . . _eos_ _eos_ _eos_ _eos_ _eos_ _eos_ _eos_ _eos_ _eos_ _eos_ _eos_ _eos_ _eos_ _eos_\n",
      "\n",
      "lui et moi sommes instituteurs . _eos_\n",
      "he and i are teachers . _eos_\n",
      "he is a the . _eos_ _eos_ _eos_ _eos_ _eos_ _eos_ _eos_ _eos_ _eos_ _eos_ _eos_ _eos_ _eos_ _eos_ _eos_ _eos_\n",
      "\n",
      "as - tu apporté une arme ? _eos_\n",
      "did you bring a weapon ? _eos_\n",
      "how you you a _eos_ _eos_ _eos_ _eos_ _eos_ _eos_ _eos_ _eos_ _eos_ _eos_ _eos_ _eos_ _eos_ _eos_ _eos_ _eos_ _eos_\n",
      "\n",
      "ils n' ont pas écouté . _eos_\n",
      "they did n't listen . _eos_\n",
      "do do . . _eos_ _eos_ _eos_ _eos_ _eos_ _eos_ _eos_ _eos_ _eos_ _eos_ _eos_ _eos_ _eos_ _eos_ _eos_ _eos_ _eos_\n",
      "\n",
      "vous connaissez la rengaine . _eos_\n",
      "you know the drill . _eos_\n",
      "you you is . _eos_ _eos_ _eos_ _eos_ _eos_ _eos_ _eos_ _eos_ _eos_ _eos_ _eos_ _eos_ _eos_ _eos_ _eos_ _eos_ _eos_\n",
      "\n",
      "es - tu bientôt prêt ? _eos_\n",
      "are you almost ready ? _eos_\n",
      "why you you you a _eos_ _eos_ _eos_ _eos_ _eos_ _eos_ _eos_ _eos_ _eos_ _eos_ _eos_ _eos_ _eos_ _eos_ _eos_ _eos_\n",
      "\n",
      "nous petit-déjeunons . _eos_\n",
      "we are having breakfast . _eos_\n",
      "we are . . _eos_ _eos_ _eos_ _eos_ _eos_ _eos_ _eos_ _eos_ _eos_ _eos_ _eos_ _eos_ _eos_ _eos_ _eos_ _eos_ _eos_\n",
      "\n",
      "ferme les yeux . _eos_\n",
      "shut your eyes . _eos_\n",
      "the the is the . _eos_ _eos_ _eos_ _eos_ _eos_ _eos_ _eos_ _eos_ _eos_ _eos_ _eos_ _eos_ _eos_ _eos_ _eos_ _eos_\n",
      "\n",
      "attention aux imitations . _eos_\n",
      "beware of imitations . _eos_\n",
      "the the the _eos_ _eos_ _eos_ _eos_ _eos_ _eos_ _eos_ _eos_ _eos_ _eos_ _eos_ _eos_ _eos_ _eos_ _eos_ _eos_ _eos_ _eos_\n",
      "\n"
     ]
    }
   ],
   "source": [
    "for x, y in iter(val_dl):\n",
    "    for i in range(x.shape[1]):\n",
    "        # fr -> en\n",
    "        print(' '.join([fr_itos[o] for o in x[:,i] if o != 1]))\n",
    "        print(' '.join([en_itos[o] for o in y[:,i] if o != 1]))\n",
    "        \n",
    "        probs = learn.model(V(x))\n",
    "        preds = to_np(probs.max(2)[1])\n",
    "        print(' '.join([en_itos[o] for o in preds[:,i] if o!=1]))\n",
    "        print()"
   ]
  },
  {
   "cell_type": "markdown",
   "metadata": {},
   "source": [
    "## Attentional model"
   ]
  },
  {
   "cell_type": "markdown",
   "metadata": {},
   "source": [
    "The basic idea of attention is this — expecting the entirety of the sentence to be summarized into this single hidden vector is asking a lot. It has to know what was said, how it was said, and everything necessary to create the sentence in German. The idea of attention is basically maybe we are asking too much. Particularly because we could use this form of model (below) where we output every step of the loop to not just have a hidden state at the end but to have a hidden state after every single word. Why not try and use that information? It’s already there but so far we’ve just been throwing it away. Not only that but bi-directional, we got two vectors of state every step that we can use. How can we do this?  \n",
    "\n",
    "![multiple output RNN][logo]\n",
    "[logo]: https://cdn-images-1.medium.com/max/800/1*CX45skUFZZO6uHsR8IndzA.png \"multiple output RNN\""
   ]
  },
  {
   "cell_type": "markdown",
   "metadata": {},
   "source": [
    "Let’s say we are translating a word “liebte” right now [1:32:34]. Which of previous 5 pieces of state do we want? We clearly want “love” because it is the word. How about “zu”? We probably need “eat” and “to” and loved” to make sure we have gotten the tense right and know that I actually need this part of the verb and so forth. So depending on which bit we are translating, we would need one or more bits of these various hidden states. In fact, we probably want some weighting of them. In other words, for these five pieces of hidden state, we want a weighted average [1:33:47]. We want it weighted by something that can figure out which bits of the sentence is the most important right now. How do we figure out something like which bits of the sentence are important right now? We create a neural net and we train the neural net to figure it out. When do we train that neural net? End to end. So let’s now train two neural nets [1:34:18]. Well, we’ve already got a bunch — RNN encoder, RNN decoder, a couple of linear layers, what the heck, let’s add another neural net into the mix. This neural net is going to spit out a weight for every one of these states and we will take the weighted average at every step, and it’s just another set of parameters that we learn all at the same time. So that is called “attention”.\n",
    "\n",
    "![attention mechanism][logo]\n",
    "[logo]: https://cdn-images-1.medium.com/max/800/1*fkL30nxS54fKVmyC2jtMrw.png \"attention mechanism\""
   ]
  },
  {
   "cell_type": "markdown",
   "metadata": {},
   "source": [
    "With attention, most of the code is identical. The one major difference is this line: `Xa = (a.unsqueeze(2) * enc_out).sum(0)` . We are going to take a weighted average and the way we are going to do the weighted average is we create a little neural net which we are going to see here:  \n",
    "```python\n",
    "w2h = self.l2(h[-1])\n",
    "u = F.tanh(w1e + w2h)\n",
    "a = F.softmax(u @ self.V, 0)\n",
    "```"
   ]
  },
  {
   "cell_type": "code",
   "execution_count": 73,
   "metadata": {},
   "outputs": [],
   "source": [
    "def rand_t(*sz): return torch.randn(sz)/math.sqrt(sz[0]) # random tensor\n",
    "def rand_p(*sz): return nn.Parameter(rand_t(*sz)) # wrapped up in a Parameter\n",
    "\n",
    "# Parameter is just a PyTorch variable, it's like identical to a variable that it just tells PyTorch\n",
    "# I want you to learn the weights for this."
   ]
  },
  {
   "cell_type": "code",
   "execution_count": 74,
   "metadata": {},
   "outputs": [],
   "source": [
    "class Seq2SeqAttnRNN(nn.Module):\n",
    "    def __init__(self, vecs_enc, itos_enc, em_sz_enc, vecs_dec, itos_dec, em_sz_dec, nh, out_sl, nl=2):\n",
    "        super().__init__()\n",
    "        self.emb_enc = create_emb(vecs_enc, itos_enc, em_sz_enc)\n",
    "        self.nl,self.nh,self.out_sl = nl,nh,out_sl\n",
    "        self.gru_enc = nn.GRU(em_sz_enc, nh, num_layers=nl, dropout=0.25)\n",
    "        self.out_enc = nn.Linear(nh, em_sz_dec, bias=False)\n",
    "        self.emb_dec = create_emb(vecs_dec, itos_dec, em_sz_dec)\n",
    "        self.gru_dec = nn.GRU(em_sz_dec, em_sz_dec, num_layers=nl, dropout=0.1)\n",
    "        self.emb_enc_drop = nn.Dropout(0.15)\n",
    "        self.out_drop = nn.Dropout(0.35)\n",
    "        self.out = nn.Linear(em_sz_dec*2, len(itos_dec))\n",
    "        self.out.weight.data = self.emb_dec.weight.data\n",
    "\n",
    "        # instead of a linear layer, we can even just grab a random matrix if we don't care about bias\n",
    "        self.W1 = rand_p(nh, em_sz_dec)\n",
    "        self.l2 = nn.Linear(em_sz_dec, em_sz_dec)\n",
    "        self.l3 = nn.Linear(em_sz_dec+nh, em_sz_dec)\n",
    "        self.V = rand_p(em_sz_dec)\n",
    "\n",
    "    def forward(self, inp, y=None, ret_attn=False):\n",
    "        sl,bs = inp.size()\n",
    "        h = self.initHidden(bs)\n",
    "        emb = self.emb_enc_drop(self.emb_enc(inp))\n",
    "        \n",
    "        # enc_out is the whole tensor of all of the encoder outputs\n",
    "        # the RNN spits out 2 things:\n",
    "        # list of states after each timestep, and the state at the last timestep\n",
    "        # using Python we can return multiple objects unlike other languages\n",
    "        enc_out, h = self.gru_enc(emb, h)\n",
    "        \n",
    "        # we used the state at the last time step to create the input state for our decoder\n",
    "        h = self.out_enc(h)\n",
    "\n",
    "        dec_inp = V(torch.zeros(bs).long())\n",
    "        res, attns = [], []\n",
    "        w1e = enc_out @ self.W1\n",
    "        for i in range(self.out_sl):\n",
    "            \n",
    "            \"\"\"\n",
    "                We use softmax because the nice thing about softmax is that we want to ensure all\n",
    "                of the weights that we are using add up to 1 and we also expect that one of those\n",
    "                weights should probably be higher than the other ones [1:36:38]. Softmax gives us\n",
    "                the guarantee that they add up to 1 and because it has e^ in it, it tends to\n",
    "                encourage one of the weights to be higher than the other ones.\n",
    "            \"\"\"\n",
    "            \n",
    "            # creating a neural net\n",
    "            \n",
    "            # what's the information we use to decide what word / words we should focus on next\n",
    "            # the only information we have to go on is what the decoder's hidden state is now\n",
    "            \n",
    "            # h[-1] is the last layer's hidden state which is the current hidden state of the decoder\n",
    "            # we stick it into a linear layer\n",
    "            w2h = self.l2(h[-1])\n",
    "            \n",
    "            # then stick it into a non-linear activation\n",
    "            u = F.tanh(w1e + w2h)\n",
    "            \n",
    "            # applying softmax to ensure that all of the weights add up to 1\n",
    "            # and we also kind of expect that one of those weights should\n",
    "            # probably be quite a bit higher than the other ones\n",
    "            \n",
    "            # then we're going to do a matrix multiplication\n",
    "            # (In Python, A @ B is the matrix product, A * B the element-wise product)\n",
    "            # stick it to a softmax\n",
    "            # self.V doesn't have a bias, so, u @ self.V is just a matrix multiplication\n",
    "            a = F.softmax(u @ self.V, 0)\n",
    "            \n",
    "            # linear layer --> nonlinear activation --> matrix multiply = neural net with one hidden layer\n",
    "            \n",
    "            attns.append(a)\n",
    "            \n",
    "            # and we're going to use the softmax output to weight the encoder's outputs\n",
    "            # instead of using only the last encoder output, we're using all of them weighted by the neural net\n",
    "            # we created (attention weights)\n",
    "            Xa = (a.unsqueeze(2) * enc_out).sum(0) # weighted average\n",
    "            \n",
    "            # the idea is not to use the last hidden state h only but all of the encoder states enc_out\n",
    "            # and multiply them by the output of the neural net (which predicts the attention weights)\n",
    "            \n",
    "            # given that the things in this little neural net are learnable weights, hopefully, it's\n",
    "            # going to learn to weight those encoder outputs, those encoder hidden states by something useful\n",
    "            \n",
    "            emb = self.emb_dec(dec_inp)\n",
    "            wgt_enc = self.l3(torch.cat([emb, Xa], 1))\n",
    "            \n",
    "            outp, h = self.gru_dec(wgt_enc.unsqueeze(0), h)\n",
    "            outp = self.out(self.out_drop(outp[0]))\n",
    "            res.append(outp)\n",
    "            dec_inp = V(outp.data.max(1)[1])\n",
    "            if (dec_inp==1).all(): break\n",
    "            \n",
    "            # Here, we have teacher forcing, but it's not bi-directional\n",
    "            if (y is not None) and (random.random()<self.pr_force):\n",
    "                if i>=len(y): break\n",
    "                dec_inp = y[i]\n",
    "\n",
    "        res = torch.stack(res)\n",
    "        if ret_attn: res = res, torch.stack(attns)\n",
    "        return res\n",
    "\n",
    "    def initHidden(self, bs): return V(torch.zeros(self.nl, bs, self.nh))"
   ]
  },
  {
   "cell_type": "markdown",
   "metadata": {},
   "source": [
    "Remember that the loss values are logs, so `e^` to these values is quite a significant change"
   ]
  },
  {
   "cell_type": "code",
   "execution_count": 75,
   "metadata": {},
   "outputs": [],
   "source": [
    "#rnn = Seq2SeqAttnRNN(fr_vecd, fr_itos, dim_fr_vec, en_vecd, en_itos, dim_en_vec, nh, enlen_90)\n",
    "\n",
    "maxLenSentence = getMaxLenSentence(en_ids)\n",
    "rnn = Seq2SeqAttnRNN(fr_vecs, fr_itos, dim_fr_vec, en_vecs, en_itos, dim_en_vec, nh, maxLenSentence) # new implementation\n",
    "learn = RNN_Learner(md, SingleModel(to_gpu(rnn)), opt_fn=opt_fn)\n",
    "learn.crit = seq2seq_loss"
   ]
  },
  {
   "cell_type": "code",
   "execution_count": 76,
   "metadata": {},
   "outputs": [],
   "source": [
    "#lr=2e-3\n",
    "lr=5e-2"
   ]
  },
  {
   "cell_type": "code",
   "execution_count": 77,
   "metadata": {
    "scrolled": false
   },
   "outputs": [
    {
     "data": {
      "application/vnd.jupyter.widget-view+json": {
       "model_id": "1d92b5fa477840f8acd36f6f31caac32",
       "version_major": 2,
       "version_minor": 0
      },
      "text/plain": [
       "HBox(children=(IntProgress(value=0, description='Epoch', max=15), HTML(value='')))"
      ]
     },
     "metadata": {},
     "output_type": "display_data"
    },
    {
     "name": "stdout",
     "output_type": "stream",
     "text": [
      "epoch      trn_loss   val_loss                            \n",
      "    0      19.528716  15.789285 \n",
      "    1      27.617228  19.811899                           \n",
      "    2      25.820983  17.501958                           \n",
      "    3      23.395736  15.900296                           \n",
      "    4      21.87846   17.650807                           \n",
      "    5      18.729571  15.140794                           \n",
      "    6      26.027504  17.623428                           \n",
      "    7      18.98835   13.993108                           \n",
      "    8      15.549684  14.099075                           \n",
      "    9      14.069646  13.516583                           \n",
      "    10     12.506038  13.08138                            \n",
      "    11     11.151686  12.206781                           \n",
      "    12     10.347207  11.840073                           \n",
      "    13     9.598738   10.900506                           \n",
      "    14     8.896447   10.704287                           \n",
      "\n"
     ]
    },
    {
     "data": {
      "text/plain": [
       "[array([10.70429])]"
      ]
     },
     "execution_count": 77,
     "metadata": {},
     "output_type": "execute_result"
    }
   ],
   "source": [
    "learn.fit(lr, 1, cycle_len=15, use_clr=(20,10), stepper=Seq2SeqStepper)"
   ]
  },
  {
   "cell_type": "code",
   "execution_count": 78,
   "metadata": {},
   "outputs": [],
   "source": [
    "learn.save('attn')"
   ]
  },
  {
   "cell_type": "code",
   "execution_count": 79,
   "metadata": {},
   "outputs": [],
   "source": [
    "learn.load('attn')"
   ]
  },
  {
   "cell_type": "markdown",
   "metadata": {
    "heading_collapsed": true
   },
   "source": [
    "### Test"
   ]
  },
  {
   "cell_type": "code",
   "execution_count": 80,
   "metadata": {
    "hidden": true
   },
   "outputs": [],
   "source": [
    "x,y = next(iter(val_dl))\n",
    "probs, attns = learn.model(V(x), ret_attn=True)\n",
    "preds = to_np(probs.max(2)[1])"
   ]
  },
  {
   "cell_type": "code",
   "execution_count": 81,
   "metadata": {},
   "outputs": [
    {
     "data": {
      "text/plain": [
       "1"
      ]
     },
     "execution_count": 81,
     "metadata": {},
     "output_type": "execute_result"
    }
   ],
   "source": [
    "x.shape[1]"
   ]
  },
  {
   "cell_type": "code",
   "execution_count": 82,
   "metadata": {},
   "outputs": [
    {
     "name": "stdout",
     "output_type": "stream",
     "text": [
      "tom et mary acceptèrent de travailler ensemble sur le projet . _eos_\n",
      "tom and mary agreed to work together on the project . _eos_\n",
      "_eos_ _eos_ _eos_ _eos_ _eos_ _eos_ _eos_ _eos_ _eos_ _eos_ _eos_ _eos_ _eos_ _eos_ _eos_ _eos_ _eos_\n",
      "\n",
      "je ne pense pas que tu aies fait ceci par toi-même . _eos_\n",
      "i do n't think you did this by yourself . _eos_\n",
      "_eos_ _eos_ _eos_ _eos_ _eos_ _eos_ _eos_ _eos_ _eos_ _eos_ _eos_ _eos_ _eos_ _eos_ _eos_ _eos_ _eos_\n",
      "\n",
      "peut-être que tom peut t' aider à trouver un travail . _eos_\n",
      "perhaps tom can help you find a job . _eos_\n",
      "_eos_ _eos_ _eos_ _eos_ _eos_ _eos_ _eos_ _eos_ _eos_ _eos_ _eos_ _eos_ _eos_ _eos_ _eos_ _eos_ _eos_\n",
      "\n",
      "j' aime prendre un petit déjeuner tardif . _eos_\n",
      "i like to eat a late breakfast . _eos_\n",
      "_eos_ _eos_ _eos_ _eos_ _eos_ _eos_ _eos_ _eos_ _eos_ _eos_ _eos_ _eos_ _eos_ _eos_ _eos_ _eos_ _eos_\n",
      "\n",
      "pourquoi ne discutez - vous pas avec lui ? _eos_\n",
      "why do n't you talk to him ? _eos_\n",
      "_eos_ _eos_ _eos_ _eos_ _eos_ _eos_ _eos_ _eos_ _eos_ _eos_ _eos_ _eos_ _eos_ _eos_ _eos_ _eos_ _eos_\n",
      "\n",
      "ne le ramassez pas . _eos_\n",
      "do n't pick it up . _eos_\n",
      "_eos_ _eos_ _eos_ _eos_ _eos_ _eos_ _eos_ _eos_ _eos_ _eos_ _eos_ _eos_ _eos_ _eos_ _eos_ _eos_ _eos_\n",
      "\n",
      "lui et moi sommes instituteurs . _eos_\n",
      "he and i are teachers . _eos_\n",
      "_eos_ _eos_ _eos_ _eos_ _eos_ _eos_ _eos_ _eos_ _eos_ _eos_ _eos_ _eos_ _eos_ _eos_ _eos_ _eos_ _eos_\n",
      "\n",
      "as - tu apporté une arme ? _eos_\n",
      "did you bring a weapon ? _eos_\n",
      "_eos_ _eos_ _eos_ _eos_ _eos_ _eos_ _eos_ _eos_ _eos_ _eos_ _eos_ _eos_ _eos_ _eos_ _eos_ _eos_ _eos_\n",
      "\n",
      "ils n' ont pas écouté . _eos_\n",
      "they did n't listen . _eos_\n",
      "_eos_ _eos_ _eos_ _eos_ _eos_ _eos_ _eos_ _eos_ _eos_ _eos_ _eos_ _eos_ _eos_ _eos_ _eos_ _eos_ _eos_\n",
      "\n",
      "vous connaissez la rengaine . _eos_\n",
      "you know the drill . _eos_\n",
      "_eos_ _eos_ _eos_ _eos_ _eos_ _eos_ _eos_ _eos_ _eos_ _eos_ _eos_ _eos_ _eos_ _eos_ _eos_ _eos_ _eos_\n",
      "\n",
      "es - tu bientôt prêt ? _eos_\n",
      "are you almost ready ? _eos_\n",
      "_eos_ _eos_ _eos_ _eos_ _eos_ _eos_ _eos_ _eos_ _eos_ _eos_ _eos_ _eos_ _eos_ _eos_ _eos_ _eos_ _eos_\n",
      "\n",
      "nous petit-déjeunons . _eos_\n",
      "we are having breakfast . _eos_\n",
      "_eos_ _eos_ _eos_ _eos_ _eos_ _eos_ _eos_ _eos_ _eos_ _eos_ _eos_ _eos_ _eos_ _eos_ _eos_ _eos_ _eos_\n",
      "\n",
      "ferme les yeux . _eos_\n",
      "shut your eyes . _eos_\n",
      "_eos_ _eos_ _eos_ _eos_ _eos_ _eos_ _eos_ _eos_ _eos_ _eos_ _eos_ _eos_ _eos_ _eos_ _eos_ _eos_ _eos_\n",
      "\n",
      "attention aux imitations . _eos_\n",
      "beware of imitations . _eos_\n",
      "_eos_ _eos_ _eos_ _eos_ _eos_ _eos_ _eos_ _eos_ _eos_ _eos_ _eos_ _eos_ _eos_ _eos_ _eos_ _eos_ _eos_\n",
      "\n"
     ]
    }
   ],
   "source": [
    "for x,y in iter(val_dl):\n",
    "    #print(x)\n",
    "    for i in range(x.shape[1]):\n",
    "        print(' '.join([fr_itos[o] for o in x[:,i] if o != 1]))\n",
    "        print(' '.join([en_itos[o] for o in y[:,i] if o != 1]))\n",
    "        print(' '.join([en_itos[o] for o in preds[:,i] if o!=1]))\n",
    "        print()"
   ]
  },
  {
   "cell_type": "markdown",
   "metadata": {},
   "source": [
    "### Visualizing attention"
   ]
  },
  {
   "cell_type": "code",
   "execution_count": 83,
   "metadata": {
    "hidden": true
   },
   "outputs": [],
   "source": [
    "#attn = to_np(attns[...,180])\n",
    "attn = to_np(attns)"
   ]
  },
  {
   "cell_type": "code",
   "execution_count": 84,
   "metadata": {
    "hidden": true
   },
   "outputs": [
    {
     "data": {
      "image/png": "[encoded data removed]",
      "text/plain": [
       "<matplotlib.figure.Figure at 0x7fa7e27d6fd0>"
      ]
     },
     "metadata": {},
     "output_type": "display_data"
    }
   ],
   "source": [
    "fig, axes = plt.subplots(3, 3, figsize=(15, 10))\n",
    "for i,ax in enumerate(axes.flat):\n",
    "    ax.plot(attn[i])"
   ]
  },
  {
   "cell_type": "code",
   "execution_count": 85,
   "metadata": {
    "hidden": true
   },
   "outputs": [
    {
     "name": "stdout",
     "output_type": "stream",
     "text": [
      "attention aux imitations . _eos_\n",
      "beware of imitations . _eos_\n",
      "_eos_ _eos_ _eos_ _eos_ _eos_ _eos_ _eos_ _eos_ _eos_ _eos_ _eos_ _eos_ _eos_ _eos_ _eos_ _eos_ _eos_\n",
      "\n"
     ]
    }
   ],
   "source": [
    "#for i in range(180,190):\n",
    "for i in range(x.shape[1]):\n",
    "    print(' '.join([fr_itos[o] for o in x[:,i] if o != 1]))\n",
    "    print(' '.join([en_itos[o] for o in y[:,i] if o != 1]))\n",
    "    print(' '.join([en_itos[o] for o in preds[:,i] if o!=1]))\n",
    "    print()"
   ]
  },
  {
   "cell_type": "markdown",
   "metadata": {},
   "source": [
    "Not bad. It’s still not perfect but quite a few of them are correct and again considering that we are asking it to learn about the very idea of language for two different languages and how to translate them between the two, and grammar, and vocabulary, and we only have 50,000 sentences and a lot of the words only appear once, I would say this is actually pretty amazing."
   ]
  },
  {
   "cell_type": "markdown",
   "metadata": {},
   "source": [
    "End-to-end learning means you throw in everything you can into one loss function and the gradients of all the different parameters point in a direction that says “hey, you know if you had put more weight over there, it would have been better.”"
   ]
  },
  {
   "cell_type": "markdown",
   "metadata": {},
   "source": [
    "## All"
   ]
  },
  {
   "cell_type": "code",
   "execution_count": 89,
   "metadata": {},
   "outputs": [],
   "source": [
    "class Seq2SeqRNN_All(nn.Module):\n",
    "    def __init__(self, vecs_enc, itos_enc, em_sz_enc, vecs_dec, itos_dec, em_sz_dec, nh, out_sl, nl=2):\n",
    "        super().__init__()\n",
    "        self.emb_enc = create_emb(vecs_enc, itos_enc, em_sz_enc)\n",
    "        self.nl,self.nh,self.out_sl = nl,nh,out_sl\n",
    "        self.gru_enc = nn.GRU(em_sz_enc, nh, num_layers=nl, dropout=0.25, bidirectional=True)\n",
    "        self.out_enc = nn.Linear(nh*2, em_sz_dec, bias=False)\n",
    "        self.drop_enc = nn.Dropout(0.25)\n",
    "        self.emb_dec = create_emb(vecs_dec, itos_dec, em_sz_dec)\n",
    "        self.gru_dec = nn.GRU(em_sz_dec, em_sz_dec, num_layers=nl, dropout=0.1)\n",
    "        self.emb_enc_drop = nn.Dropout(0.15)\n",
    "        self.out_drop = nn.Dropout(0.35)\n",
    "        self.out = nn.Linear(em_sz_dec, len(itos_dec))\n",
    "        self.out.weight.data = self.emb_dec.weight.data\n",
    "\n",
    "        self.W1 = rand_p(nh*2, em_sz_dec)\n",
    "        self.l2 = nn.Linear(em_sz_dec, em_sz_dec)\n",
    "        self.l3 = nn.Linear(em_sz_dec+nh*2, em_sz_dec)\n",
    "        self.V = rand_p(em_sz_dec)\n",
    "\n",
    "    def forward(self, inp, y=None):\n",
    "        sl,bs = inp.size()\n",
    "        h = self.initHidden(bs)\n",
    "        emb = self.emb_enc_drop(self.emb_enc(inp))\n",
    "        enc_out, h = self.gru_enc(emb, h)\n",
    "        h = h.view(2,2,bs,-1).permute(0,2,1,3).contiguous().view(2,bs,-1)\n",
    "        h = self.out_enc(self.drop_enc(h))\n",
    "\n",
    "        dec_inp = V(torch.zeros(bs).long())\n",
    "        res,attns = [],[]\n",
    "        w1e = enc_out @ self.W1\n",
    "        for i in range(self.out_sl):\n",
    "            w2h = self.l2(h[-1])\n",
    "            u = F.tanh(w1e + w2h)\n",
    "            a = F.softmax(u @ self.V, 0)\n",
    "            attns.append(a)\n",
    "            Xa = (a.unsqueeze(2) * enc_out).sum(0)\n",
    "            emb = self.emb_dec(dec_inp)\n",
    "            wgt_enc = self.l3(torch.cat([emb, Xa], 1))\n",
    "            \n",
    "            outp, h = self.gru_dec(wgt_enc.unsqueeze(0), h)\n",
    "            outp = self.out(self.out_drop(outp[0]))\n",
    "            res.append(outp)\n",
    "            dec_inp = V(outp.data.max(1)[1])\n",
    "            if (dec_inp==1).all(): break\n",
    "            if (y is not None) and (random.random()<self.pr_force):\n",
    "                if i>=len(y): break\n",
    "                dec_inp = y[i]\n",
    "        return torch.stack(res)\n",
    "\n",
    "    def initHidden(self, bs): return V(torch.zeros(self.nl*2, bs, self.nh))"
   ]
  },
  {
   "cell_type": "code",
   "execution_count": 90,
   "metadata": {},
   "outputs": [],
   "source": [
    "#rnn = Seq2SeqRNN_All(fr_vecd, fr_itos, dim_fr_vec, en_vecd, en_itos, dim_en_vec, nh, enlen_90)\n",
    "maxLenSentence = getMaxLenSentence(en_ids)\n",
    "rnn = Seq2SeqRNN_All(fr_vecs, fr_itos, dim_fr_vec, en_vecs, en_itos, dim_en_vec, nh, maxLenSentence) # new implementation\n",
    "learn = RNN_Learner(md, SingleModel(to_gpu(rnn)), opt_fn=opt_fn)\n",
    "learn.crit = seq2seq_loss"
   ]
  },
  {
   "cell_type": "code",
   "execution_count": 92,
   "metadata": {
    "scrolled": true
   },
   "outputs": [
    {
     "data": {
      "application/vnd.jupyter.widget-view+json": {
       "model_id": "67508e7069224470bdb6e8c2ca8057dc",
       "version_major": 2,
       "version_minor": 0
      },
      "text/plain": [
       "HBox(children=(IntProgress(value=0, description='Epoch', max=50), HTML(value='')))"
      ]
     },
     "metadata": {},
     "output_type": "display_data"
    },
    {
     "name": "stdout",
     "output_type": "stream",
     "text": [
      "  1%|          | 1/86 [00:00<00:45,  1.85it/s, loss=31.1] \n"
     ]
    },
    {
     "name": "stderr",
     "output_type": "stream",
     "text": [
      "Exception in thread Thread-62:\n",
      "Traceback (most recent call last):\n",
      "  File \"/home/stoufa/anaconda2/envs/fastai-cpu/lib/python3.6/threading.py\", line 916, in _bootstrap_inner\n",
      "    self.run()\n",
      "  File \"/home/stoufa/anaconda2/envs/fastai-cpu/lib/python3.6/site-packages/tqdm/_tqdm.py\", line 144, in run\n",
      "    for instance in self.tqdm_cls._instances:\n",
      "  File \"/home/stoufa/anaconda2/envs/fastai-cpu/lib/python3.6/_weakrefset.py\", line 60, in __iter__\n",
      "    for itemref in self.data:\n",
      "RuntimeError: Set changed size during iteration\n",
      "\n"
     ]
    },
    {
     "name": "stdout",
     "output_type": "stream",
     "text": [
      "epoch      trn_loss   val_loss                            \n",
      "    0      20.747583  23.754635 \n",
      "    1      21.734942  26.819055                           \n",
      "    2      41.705909  47.69762                            \n",
      "    3      40.685617  38.07177                            \n",
      "    4      42.198275  42.670547                           \n",
      "    5      43.92175   46.869793                           \n",
      "    6      44.144599  40.665845                           \n",
      "    7      42.901063  41.291865                           \n",
      "    8      43.685156  45.55401                            \n",
      "    9      42.153237  42.806808                           \n",
      "    10     37.173446  41.450775                           \n",
      "    11     37.949422  48.568005                           \n",
      "    12     37.752102  43.290563                           \n",
      "    13     36.914385  43.623336                           \n",
      "    14     33.63517   46.592167                           \n",
      "    15     35.546144  43.953029                           \n",
      "    16     32.720374  37.828381                           \n",
      "    17     33.256522  40.697285                           \n",
      "    18     30.983582  40.30966                            \n",
      "    19     30.595356  107.24651                           \n",
      "    20     34.206446  37.297674                           \n",
      "    21     31.585528  41.584774                           \n",
      "    22     30.299307  43.537001                           \n",
      "    23     27.570532  39.152183                           \n",
      "    24     25.199503  39.364039                           \n",
      "    25     24.797909  37.257355                           \n",
      "    26     22.583459  35.168086                           \n",
      "    27     22.137086  35.657256                           \n",
      "    28     21.640692  35.982632                           \n",
      "    29     20.137479  38.087865                           \n",
      "    30     19.184818  36.009848                           \n",
      "    31     18.626572  39.912701                           \n",
      "    32     18.23016   36.124416                           \n",
      "    33     17.13001   32.518638                           \n",
      "    34     15.242015  35.973507                           \n",
      "    35     14.976231  32.902606                           \n",
      "    36     14.360104  32.343511                           \n",
      "    37     13.958003  34.768097                           \n",
      "    38     13.380836  31.830265                           \n",
      "    39     12.713442  30.682205                           \n",
      "    40     12.148648  32.478058                           \n",
      "    41     11.485868  34.681602                           \n",
      "    42     11.020604  32.069301                           \n",
      "    43     10.618244  29.313803                           \n",
      "    44     10.274727  30.803117                           \n",
      "    45     9.804017   30.989262                           \n",
      "    46     9.739702   31.437856                           \n",
      "    47     9.25061    32.13971                            \n",
      "    48     8.98911    30.877722                           \n",
      "    49     8.422854   30.778272                           \n",
      "\n"
     ]
    },
    {
     "data": {
      "text/plain": [
       "[array([30.77827])]"
      ]
     },
     "execution_count": 92,
     "metadata": {},
     "output_type": "execute_result"
    }
   ],
   "source": [
    "#learn.fit(lr, 1, cycle_len=15, use_clr=(20,10), stepper=Seq2SeqStepper)\n",
    "learn.fit(lr, 1, cycle_len=50, use_clr=(20,10), stepper=Seq2SeqStepper)"
   ]
  },
  {
   "cell_type": "markdown",
   "metadata": {},
   "source": [
    "### Test"
   ]
  },
  {
   "cell_type": "code",
   "execution_count": 93,
   "metadata": {},
   "outputs": [
    {
     "name": "stdout",
     "output_type": "stream",
     "text": [
      "tom et mary acceptèrent de travailler ensemble sur le projet . _eos_\n",
      "tom and mary agreed to work together on the project . _eos_\n",
      "_eos_ _eos_ _eos_ _eos_ _eos_ _eos_ _eos_ _eos_ _eos_ _eos_ _eos_ _eos_ _eos_ _eos_ _eos_ _eos_ _eos_\n",
      "\n",
      "je ne pense pas que tu aies fait ceci par toi-même . _eos_\n",
      "i do n't think you did this by yourself . _eos_\n",
      "_eos_ _eos_ _eos_ _eos_ _eos_ _eos_ _eos_ _eos_ _eos_ _eos_ _eos_ _eos_ _eos_ _eos_ _eos_ _eos_ _eos_\n",
      "\n",
      "peut-être que tom peut t' aider à trouver un travail . _eos_\n",
      "perhaps tom can help you find a job . _eos_\n",
      "_eos_ _eos_ _eos_ _eos_ _eos_ _eos_ _eos_ _eos_ _eos_ _eos_ _eos_ _eos_ _eos_ _eos_ _eos_ _eos_ _eos_\n",
      "\n",
      "j' aime prendre un petit déjeuner tardif . _eos_\n",
      "i like to eat a late breakfast . _eos_\n",
      "_eos_ _eos_ _eos_ _eos_ _eos_ _eos_ _eos_ _eos_ _eos_ _eos_ _eos_ _eos_ _eos_ _eos_ _eos_ _eos_ _eos_\n",
      "\n",
      "pourquoi ne discutez - vous pas avec lui ? _eos_\n",
      "why do n't you talk to him ? _eos_\n",
      "_eos_ _eos_ _eos_ _eos_ _eos_ _eos_ _eos_ _eos_ _eos_ _eos_ _eos_ _eos_ _eos_ _eos_ _eos_ _eos_ _eos_\n",
      "\n",
      "ne le ramassez pas . _eos_\n",
      "do n't pick it up . _eos_\n",
      ". . . . . . . . . . . . . . . . .\n",
      "\n",
      "lui et moi sommes instituteurs . _eos_\n",
      "he and i are teachers . _eos_\n",
      "_eos_ _eos_ _eos_ _eos_ _eos_ _eos_ _eos_ _eos_ _eos_ _eos_ _eos_ _eos_ _eos_ _eos_ _eos_ _eos_ _eos_\n",
      "\n",
      "as - tu apporté une arme ? _eos_\n",
      "did you bring a weapon ? _eos_\n",
      "? ? ? ? ? ? ? ? ? ? ? ? ? ? ? ? ?\n",
      "\n",
      "ils n' ont pas écouté . _eos_\n",
      "they did n't listen . _eos_\n",
      "_eos_ _eos_ _eos_ _eos_ _eos_ _eos_ _eos_ _eos_ _eos_ _eos_ _eos_ _eos_ _eos_ _eos_ _eos_ _eos_ _eos_\n",
      "\n",
      "vous connaissez la rengaine . _eos_\n",
      "you know the drill . _eos_\n",
      "the the the the the the the the the the the the the the the the the\n",
      "\n",
      "es - tu bientôt prêt ? _eos_\n",
      "are you almost ready ? _eos_\n",
      "_eos_ _eos_ _eos_ _eos_ _eos_ _eos_ _eos_ _eos_ _eos_ _eos_ _eos_ _eos_ _eos_ _eos_ _eos_ _eos_ _eos_\n",
      "\n",
      "nous petit-déjeunons . _eos_\n",
      "we are having breakfast . _eos_\n",
      "_eos_ _eos_ _eos_ _eos_ _eos_ _eos_ _eos_ _eos_ _eos_ _eos_ _eos_ _eos_ _eos_ _eos_ _eos_ _eos_ _eos_\n",
      "\n",
      "ferme les yeux . _eos_\n",
      "shut your eyes . _eos_\n",
      "_eos_ _eos_ _eos_ _eos_ _eos_ _eos_ _eos_ _eos_ _eos_ _eos_ _eos_ _eos_ _eos_ _eos_ _eos_ _eos_ _eos_\n",
      "\n",
      "attention aux imitations . _eos_\n",
      "beware of imitations . _eos_\n",
      "_eos_ _eos_ _eos_ _eos_ _eos_ _eos_ _eos_ _eos_ _eos_ _eos_ _eos_ _eos_ _eos_ _eos_ _eos_ _eos_ _eos_\n",
      "\n"
     ]
    }
   ],
   "source": [
    "for x,y in iter(val_dl):\n",
    "    #for i in range(180,190):\n",
    "    for i in range(x.shape[1]):\n",
    "        print(' '.join([fr_itos[o] for o in x[:,i] if o != 1]))\n",
    "        print(' '.join([en_itos[o] for o in y[:,i] if o != 1]))\n",
    "        \n",
    "        probs = learn.model(V(x))\n",
    "        preds = to_np(probs.max(2)[1])\n",
    "        print(' '.join([en_itos[o] for o in preds[:,i] if o!=1]))\n",
    "        print()"
   ]
  },
  {
   "cell_type": "code",
   "execution_count": null,
   "metadata": {},
   "outputs": [],
   "source": []
  }
 ],
 "metadata": {
  "kernelspec": {
   "display_name": "Python (fastai-cpu)",
   "language": "python",
   "name": "fastai-cpu"
  },
  "language_info": {
   "codemirror_mode": {
    "name": "ipython",
    "version": 3
   },
   "file_extension": ".py",
   "mimetype": "text/x-python",
   "name": "python",
   "nbconvert_exporter": "python",
   "pygments_lexer": "ipython3",
   "version": "3.6.4"
  },
  "toc": {
   "colors": {
    "hover_highlight": "#DAA520",
    "navigate_num": "#000000",
    "navigate_text": "#333333",
    "running_highlight": "#FF0000",
    "selected_highlight": "#FFD700",
    "sidebar_border": "#EEEEEE",
    "wrapper_background": "#FFFFFF"
   },
   "moveMenuLeft": true,
   "nav_menu": {
    "height": "253px",
    "width": "252px"
   },
   "navigate_menu": true,
   "number_sections": true,
   "sideBar": true,
   "threshold": 4,
   "toc_cell": false,
   "toc_section_display": "block",
   "toc_window_display": false,
   "widenNotebook": false
  }
 },
 "nbformat": 4,
 "nbformat_minor": 2
}
