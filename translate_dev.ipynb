{
 "cells": [
  {
   "cell_type": "code",
   "execution_count": 1,
   "metadata": {},
   "outputs": [],
   "source": [
    "%matplotlib inline\n",
    "%reload_ext autoreload\n",
    "%autoreload 2"
   ]
  },
  {
   "cell_type": "markdown",
   "metadata": {},
   "source": [
    "## Translation files"
   ]
  },
  {
   "cell_type": "markdown",
   "metadata": {},
   "source": [
    "Importing fastai.text"
   ]
  },
  {
   "cell_type": "code",
   "execution_count": 2,
   "metadata": {},
   "outputs": [],
   "source": [
    "from fastai.text import *"
   ]
  },
  {
   "cell_type": "markdown",
   "metadata": {},
   "source": [
    "French/English parallel texts from http://www.statmt.org/wmt15/translation-task.html .  It was created by Chris Callison-Burch, who crawled millions of web pages and then used *a set of simple heuristics to transform French URLs onto English URLs (i.e. replacing \"fr\" with \"en\" and about 40 other hand-written rules), and assume that these documents are translations of each other*."
   ]
  },
  {
   "cell_type": "code",
   "execution_count": 3,
   "metadata": {
    "scrolled": true
   },
   "outputs": [],
   "source": [
    "#!ls data/translate/"
   ]
  },
  {
   "cell_type": "markdown",
   "metadata": {},
   "source": [
    "Each line contains a pair of sentences both in french and in english separated by a tabulation (TSV : Tab Separated Values)"
   ]
  },
  {
   "cell_type": "code",
   "execution_count": 4,
   "metadata": {},
   "outputs": [
    {
     "name": "stdout",
     "output_type": "stream",
     "text": [
      "Go.\tVa !\r\n",
      "Run!\tCours !\r\n",
      "Run!\tCourez !\r\n",
      "Wow!\tÇa alors !\r\n",
      "Fire!\tAu feu !\r\n"
     ]
    }
   ],
   "source": [
    "!head -n 5 data/en-fr.txt"
   ]
  },
  {
   "cell_type": "markdown",
   "metadata": {},
   "source": [
    "The data should be found in the file en-fr.txt in the folder data/  \n",
    "data/tmp will contain temporary files"
   ]
  },
  {
   "cell_type": "code",
   "execution_count": 5,
   "metadata": {},
   "outputs": [],
   "source": [
    "PATH = Path('data')\n",
    "TMP_PATH = PATH/'tmp'\n",
    "TMP_PATH.mkdir(exist_ok=True)\n",
    "fname = PATH/'en-fr.txt'"
   ]
  },
  {
   "cell_type": "markdown",
   "metadata": {},
   "source": [
    "Reading the file with utf-8 encoding"
   ]
  },
  {
   "cell_type": "code",
   "execution_count": 6,
   "metadata": {},
   "outputs": [],
   "source": [
    "lines = list(open(fname, encoding='utf-8'))\n",
    "lines = lines[:50] # the first 50 pairs, comment out this line to train on the whole dataset"
   ]
  },
  {
   "cell_type": "code",
   "execution_count": 7,
   "metadata": {},
   "outputs": [
    {
     "data": {
      "text/plain": [
       "['Go.\\tVa !\\n',\n",
       " 'Run!\\tCours\\u202f!\\n',\n",
       " 'Run!\\tCourez\\u202f!\\n',\n",
       " 'Wow!\\tÇa alors\\u202f!\\n',\n",
       " 'Fire!\\tAu feu !\\n']"
      ]
     },
     "execution_count": 7,
     "metadata": {},
     "output_type": "execute_result"
    }
   ],
   "source": [
    "lines[:5]"
   ]
  },
  {
   "cell_type": "markdown",
   "metadata": {},
   "source": [
    "Separating english and french sentences"
   ]
  },
  {
   "cell_type": "code",
   "execution_count": 8,
   "metadata": {},
   "outputs": [],
   "source": [
    "en = []\n",
    "fr = []\n",
    "for line in lines:\n",
    "    enSentence, frSentence = line.rstrip().split('\\t') # .rstrip() to remove the trailing \\n in each line\n",
    "    en.append(enSentence)\n",
    "    fr.append(frSentence)"
   ]
  },
  {
   "cell_type": "code",
   "execution_count": 9,
   "metadata": {
    "scrolled": true
   },
   "outputs": [
    {
     "data": {
      "text/plain": [
       "[('Go.', 'Va !'),\n",
       " ('Run!', 'Cours\\u202f!'),\n",
       " ('Run!', 'Courez\\u202f!'),\n",
       " ('Wow!', 'Ça alors\\u202f!'),\n",
       " ('Fire!', 'Au feu !')]"
      ]
     },
     "execution_count": 9,
     "metadata": {},
     "output_type": "execute_result"
    }
   ],
   "source": [
    "list(zip(en[:5], fr[:5]))"
   ]
  },
  {
   "cell_type": "markdown",
   "metadata": {},
   "source": [
    "Saving the sentences as pickle files (.pkl)"
   ]
  },
  {
   "cell_type": "code",
   "execution_count": 10,
   "metadata": {},
   "outputs": [],
   "source": [
    "pickle.dump(en, (PATH/'en.pkl').open('wb'))\n",
    "pickle.dump(fr, (PATH/'fr.pkl').open('wb'))"
   ]
  },
  {
   "cell_type": "markdown",
   "metadata": {},
   "source": [
    "Loading the sentences, reading them from pickle files  \n",
    "##### Add some logic before all the previous code, if you find the following files: {en,fr}.pkl, load them directly without doing it all over again"
   ]
  },
  {
   "cell_type": "code",
   "execution_count": 17,
   "metadata": {},
   "outputs": [],
   "source": [
    "en = pickle.load((PATH/'en.pkl').open('rb'))\n",
    "fr = pickle.load((PATH/'fr.pkl').open('rb'))"
   ]
  },
  {
   "cell_type": "code",
   "execution_count": 18,
   "metadata": {},
   "outputs": [
    {
     "data": {
      "text/plain": [
       "([('Go.', 'Va !'),\n",
       "  ('Run!', 'Cours\\u202f!'),\n",
       "  ('Run!', 'Courez\\u202f!'),\n",
       "  ('Wow!', 'Ça alors\\u202f!'),\n",
       "  ('Fire!', 'Au feu !')],\n",
       " 50)"
      ]
     },
     "execution_count": 18,
     "metadata": {},
     "output_type": "execute_result"
    }
   ],
   "source": [
    "list(zip(en[:5], fr[:5])), len(lines)"
   ]
  },
  {
   "cell_type": "markdown",
   "metadata": {},
   "source": [
    "Tokenizing the english sentences, using fastai and spacy"
   ]
  },
  {
   "cell_type": "code",
   "execution_count": 19,
   "metadata": {},
   "outputs": [],
   "source": [
    "en_tok = Tokenizer.proc_all_mp(partition_by_cores(en))"
   ]
  },
  {
   "cell_type": "code",
   "execution_count": 20,
   "metadata": {},
   "outputs": [
    {
     "data": {
      "text/plain": [
       "[['go', '.'], ['run', '!'], ['run', '!'], ['wow', '!'], ['fire', '!']]"
      ]
     },
     "execution_count": 20,
     "metadata": {},
     "output_type": "execute_result"
    }
   ],
   "source": [
    "en_tok[:5]"
   ]
  },
  {
   "cell_type": "code",
   "execution_count": 21,
   "metadata": {
    "scrolled": false
   },
   "outputs": [],
   "source": [
    "#!python -m spacy download fr"
   ]
  },
  {
   "cell_type": "markdown",
   "metadata": {},
   "source": [
    "Tokenizing the french sentences, using fastai and spacy"
   ]
  },
  {
   "cell_type": "code",
   "execution_count": 22,
   "metadata": {
    "scrolled": true
   },
   "outputs": [],
   "source": [
    "fr_tok = Tokenizer.proc_all_mp(partition_by_cores(fr), 'fr')"
   ]
  },
  {
   "cell_type": "code",
   "execution_count": 23,
   "metadata": {},
   "outputs": [
    {
     "data": {
      "text/plain": [
       "[['va', '!'],\n",
       " ['cours', '\\u202f', '!'],\n",
       " ['courez', '\\u202f', '!'],\n",
       " ['ça', 'alors', '\\u202f', '!'],\n",
       " ['au', 'feu', '!']]"
      ]
     },
     "execution_count": 23,
     "metadata": {},
     "output_type": "execute_result"
    }
   ],
   "source": [
    "fr_tok[:5]"
   ]
  },
  {
   "cell_type": "code",
   "execution_count": 24,
   "metadata": {
    "scrolled": true
   },
   "outputs": [
    {
     "data": {
      "text/plain": [
       "(['go', '.'], ['va', '!'])"
      ]
     },
     "execution_count": 24,
     "metadata": {},
     "output_type": "execute_result"
    }
   ],
   "source": [
    "en_tok[0], fr_tok[0]"
   ]
  },
  {
   "cell_type": "code",
   "execution_count": 25,
   "metadata": {},
   "outputs": [],
   "source": [
    "#np.percentile([len(o) for o in en_tok], 90), np.percentile([len(o) for o in fr_tok], 90)"
   ]
  },
  {
   "cell_type": "code",
   "execution_count": 26,
   "metadata": {},
   "outputs": [],
   "source": [
    "#keep = np.array([len(o)<30 for o in en_tok])"
   ]
  },
  {
   "cell_type": "code",
   "execution_count": 27,
   "metadata": {},
   "outputs": [],
   "source": [
    "#en_tok = np.array(en_tok)[keep]\n",
    "#fr_tok = np.array(fr_tok)[keep]"
   ]
  },
  {
   "cell_type": "markdown",
   "metadata": {},
   "source": [
    "Saving the tokenized sentences as pickle files (.pkl)"
   ]
  },
  {
   "cell_type": "code",
   "execution_count": 28,
   "metadata": {},
   "outputs": [],
   "source": [
    "pickle.dump(en_tok, (PATH/'en_tok.pkl').open('wb'))\n",
    "pickle.dump(fr_tok, (PATH/'fr_tok.pkl').open('wb'))"
   ]
  },
  {
   "cell_type": "markdown",
   "metadata": {},
   "source": [
    "Loading the tokenized sentences, reading them from pickle files"
   ]
  },
  {
   "cell_type": "code",
   "execution_count": 29,
   "metadata": {},
   "outputs": [],
   "source": [
    "en_tok = pickle.load((PATH/'en_tok.pkl').open('rb'))\n",
    "fr_tok = pickle.load((PATH/'fr_tok.pkl').open('rb'))"
   ]
  },
  {
   "cell_type": "markdown",
   "metadata": {},
   "source": [
    "The following function will get as arguments the list of tokenized sentences and their language ID  \n",
    "and returns the sentences converted to IDs, and the mappings ID -> token and token -> ID"
   ]
  },
  {
   "cell_type": "code",
   "execution_count": 30,
   "metadata": {
    "scrolled": true
   },
   "outputs": [],
   "source": [
    "def toks2ids(tok,pre):\n",
    "    \"\"\"\n",
    "        Convert tokens to IDs\n",
    "        tok is the list of tokenized sentences\n",
    "        pre is the name of the language, example: 'fr', 'en', ...\n",
    "    \"\"\"\n",
    "    freq = Counter(p for o in tok for p in o) # puts all tokens in Counter(.)\n",
    "    \n",
    "    # for a token, returns its index, int-to-string\n",
    "    itos = [o for o,c in freq.most_common(40000)] # 40K most common tokens, returns tuples (token, frequency)\n",
    "    itos.insert(0, '_bos_') # begining of sentence\n",
    "    itos.insert(1, '_pad_') # padding\n",
    "    itos.insert(2, '_eos_') # end of sentence\n",
    "    itos.insert(3, '_unk_') # unknown\n",
    "    # itos = [_bos_, _pad_, _eos_, _unk_, token1, token2, ...]\n",
    "    \n",
    "    # reverse mapping: string-to-int\n",
    "    # returns 3 '_unk_' if the token isn't found\n",
    "    stoi = collections.defaultdict(lambda: 3, {v:k for k,v in enumerate(itos)})\n",
    "    # stoi = {_bos_:0, _pad_:1, _eos_:2, _unk_:3, token1:4, token2:5, ...}\n",
    "    \n",
    "    # converts the tokenized sentences: replaces the token by its id using stoi\n",
    "    # notice that we've appended 2 (_eos_) at the end of each sentence\n",
    "    ids = np.array([([stoi[o] for o in p] + [2]) for p in tok])\n",
    "    \n",
    "    # saving the ids to a .npy file\n",
    "    np.save(TMP_PATH/f'{pre}_ids.npy', ids)\n",
    "    \n",
    "    # saving the itos mapping to a .pkl file\n",
    "    pickle.dump(itos, open(TMP_PATH/f'{pre}_itos.pkl', 'wb'))\n",
    "    \n",
    "    return ids, itos, stoi"
   ]
  },
  {
   "cell_type": "code",
   "execution_count": 31,
   "metadata": {},
   "outputs": [],
   "source": [
    "en_ids, en_itos, en_stoi = toks2ids(en_tok,'en')\n",
    "fr_ids, fr_itos, fr_stoi = toks2ids(fr_tok,'fr')"
   ]
  },
  {
   "cell_type": "markdown",
   "metadata": {},
   "source": [
    "The following function will load the mappings (saved from the previous function)  \n",
    "and returns the sentences converted to IDs, and the mappings ID -> token and token -> ID"
   ]
  },
  {
   "cell_type": "code",
   "execution_count": 32,
   "metadata": {},
   "outputs": [],
   "source": [
    "def load_ids(pre):\n",
    "    \"\"\"\n",
    "        load saved IDs\n",
    "        pre is the name of the language, example: 'fr', 'en', ...\n",
    "    \"\"\"\n",
    "    ids = np.load(TMP_PATH/f'{pre}_ids.npy')\n",
    "    itos = pickle.load(open(TMP_PATH/f'{pre}_itos.pkl', 'rb'))\n",
    "    stoi = collections.defaultdict(lambda: 3, {v:k for k,v in enumerate(itos)})\n",
    "    return ids, itos, stoi"
   ]
  },
  {
   "cell_type": "code",
   "execution_count": 33,
   "metadata": {},
   "outputs": [],
   "source": [
    "en_ids, en_itos, en_stoi = load_ids('en')\n",
    "fr_ids, fr_itos, fr_stoi = load_ids('fr')"
   ]
  },
  {
   "cell_type": "markdown",
   "metadata": {},
   "source": [
    "The following is how to use the ID -> token mapping to reconstruct the original tokenized sentence"
   ]
  },
  {
   "cell_type": "code",
   "execution_count": 34,
   "metadata": {},
   "outputs": [
    {
     "data": {
      "text/plain": [
       "(['va', '!', '_eos_'], 79)"
      ]
     },
     "execution_count": 34,
     "metadata": {},
     "output_type": "execute_result"
    }
   ],
   "source": [
    "[fr_itos[o] for o in fr_ids[0]], len(fr_itos)"
   ]
  },
  {
   "cell_type": "code",
   "execution_count": 35,
   "metadata": {},
   "outputs": [
    {
     "data": {
      "text/plain": [
       "(['go', '.', '_eos_'], 42)"
      ]
     },
     "execution_count": 35,
     "metadata": {},
     "output_type": "execute_result"
    }
   ],
   "source": [
    "[en_itos[o] for o in en_ids[0]], len(en_itos)"
   ]
  },
  {
   "cell_type": "code",
   "execution_count": 36,
   "metadata": {},
   "outputs": [
    {
     "data": {
      "text/plain": [
       "array([list([7, 4, 2]), list([16, 5, 2]), list([16, 5, 2]), list([28, 5, 2]), list([29, 5, 2])], dtype=object)"
      ]
     },
     "execution_count": 36,
     "metadata": {},
     "output_type": "execute_result"
    }
   ],
   "source": [
    "en_ids[:5]"
   ]
  },
  {
   "cell_type": "markdown",
   "metadata": {},
   "source": [
    "## Word vectors"
   ]
  },
  {
   "cell_type": "markdown",
   "metadata": {},
   "source": [
    "fasttext word vectors available from https://fasttext.cc/docs/en/english-vectors.html"
   ]
  },
  {
   "cell_type": "code",
   "execution_count": 37,
   "metadata": {},
   "outputs": [],
   "source": [
    "# ! pip install git+https://github.com/facebookresearch/fastText.git"
   ]
  },
  {
   "cell_type": "code",
   "execution_count": 38,
   "metadata": {},
   "outputs": [],
   "source": [
    "import fastText as ft"
   ]
  },
  {
   "cell_type": "markdown",
   "metadata": {},
   "source": [
    "To use the fastText library, you'll need to download [fasttext word vectors](https://github.com/facebookresearch/fastText/blob/master/pretrained-vectors.md) for your language (download the 'bin plus text' ones)."
   ]
  },
  {
   "cell_type": "code",
   "execution_count": 39,
   "metadata": {},
   "outputs": [
    {
     "name": "stdout",
     "output_type": "stream",
     "text": [
      "embeddings  en.pkl\tfr.pkl\t    models  wiki.en.pkl\r\n",
      "en-fr.txt   en_tok.pkl\tfr_tok.pkl  tmp     wiki.fr.pkl\r\n"
     ]
    }
   ],
   "source": [
    "!ls data/"
   ]
  },
  {
   "cell_type": "markdown",
   "metadata": {},
   "source": [
    "Loading the embeddings (word vectors), the embeddings used here are trained on the text corpus of the bible  \n",
    "replace them with other embeddings (wikitext for example) to get better results"
   ]
  },
  {
   "cell_type": "code",
   "execution_count": 40,
   "metadata": {},
   "outputs": [],
   "source": [
    "#en_vecs = ft.load_model(str((PATH/'wiki.en.bin')))\n",
    "en_vecs = ft.load_model(str((PATH/'embeddings/en.bin')))"
   ]
  },
  {
   "cell_type": "code",
   "execution_count": 41,
   "metadata": {},
   "outputs": [],
   "source": [
    "#fr_vecs = ft.load_model(str((PATH/'wiki.fr.bin')))\n",
    "fr_vecs = ft.load_model(str((PATH/'embeddings/fr.bin')))"
   ]
  },
  {
   "cell_type": "markdown",
   "metadata": {},
   "source": [
    "Even, if the word isn't found in the embedding Fasttext, find and returns its unique embedding vector"
   ]
  },
  {
   "cell_type": "code",
   "execution_count": 42,
   "metadata": {},
   "outputs": [
    {
     "data": {
      "text/plain": [
       "(array([-0.42811,  0.00472, -0.55592,  0.23108,  0.25022, -0.24158, -0.45753, -0.35123, -0.33665, -0.10807,\n",
       "        -0.08436, -0.25136, -0.56695, -0.84764, -0.1322 ,  0.14316, -0.48988, -0.327  , -0.20238,  0.10418,\n",
       "         0.64037, -0.52406,  0.37063,  0.08053, -0.22075, -0.3133 , -0.16693,  0.27541, -0.83423,  0.72061,\n",
       "         0.26193, -0.26927,  0.33067, -0.29437, -0.18973,  0.24391,  0.21215, -0.18755,  0.08848, -0.49965,\n",
       "         0.66024,  0.34113,  0.05566, -0.03431, -0.08241,  0.18887,  0.10322,  0.30522,  1.01105,  0.70856,\n",
       "        -0.02141, -0.09663, -0.51842,  0.40998,  0.36047,  0.09259,  0.12745,  0.1713 ,  0.67702,  0.51115,\n",
       "         0.59954,  0.11556,  0.1054 , -0.3921 , -0.13521,  0.14449, -0.54714, -0.13172, -0.06877,  0.21863,\n",
       "        -0.00522,  0.24992, -0.22379, -0.1001 ,  0.02345,  0.55127,  0.0052 , -0.47208,  0.02044, -0.11235,\n",
       "        -0.61071,  0.62704, -0.20642, -0.0206 ,  0.05281, -0.07086, -0.25795, -0.68857,  0.2554 , -0.37531,\n",
       "        -0.41069,  0.25751,  0.08411, -0.02867, -0.11942,  0.22636, -0.36852, -0.11474, -0.1757 , -0.28935],\n",
       "       dtype=float32), 100)"
      ]
     },
     "execution_count": 42,
     "metadata": {},
     "output_type": "execute_result"
    }
   ],
   "source": [
    "emb = en_vecs.get_word_vector('word')\n",
    "emb, len(emb)"
   ]
  },
  {
   "cell_type": "code",
   "execution_count": 43,
   "metadata": {},
   "outputs": [
    {
     "data": {
      "text/plain": [
       "(array([-0.07974,  0.08461,  0.35847,  0.18693,  0.0896 ,  0.41236,  0.03115,  0.32625,  0.28907,  0.14129,\n",
       "        -0.33977, -0.14277,  0.09088,  0.03029, -0.27774,  0.04753, -0.09452,  0.27132, -0.22255,  0.38899,\n",
       "        -0.35074, -0.20456, -0.2683 ,  0.32908,  0.01609, -0.23642, -0.14939,  0.16693,  0.00914, -0.2081 ,\n",
       "         0.52242, -0.14854,  0.08188,  0.51043, -0.37571, -0.14249, -0.16533, -0.23474,  0.20654, -0.31629,\n",
       "        -0.1563 , -0.19745, -0.48685,  0.28842, -0.22111, -0.12055, -0.10207,  0.16942,  0.41112,  0.10763,\n",
       "        -0.00341,  0.6312 , -0.06367, -0.29418, -0.09617, -0.12286,  0.02321,  0.5479 ,  0.12541,  0.66944,\n",
       "        -0.04868,  0.71005,  0.36709, -0.00205,  0.29375,  0.15777,  0.08099,  0.0686 ,  0.15842,  0.1739 ,\n",
       "        -0.32733,  0.24166, -0.19596,  0.30417, -0.26513, -0.22868, -0.31623, -0.30047, -0.15973, -0.61035,\n",
       "         0.49594, -0.15864,  0.234  ,  0.58409,  0.22567,  0.04142, -0.24763,  0.18914, -0.05537, -0.62398,\n",
       "         0.30289, -0.13245, -0.31832,  0.22952, -0.25613,  0.14468, -0.26194,  0.33744,  0.2319 ,  0.62623],\n",
       "       dtype=float32), 100)"
      ]
     },
     "execution_count": 43,
     "metadata": {},
     "output_type": "execute_result"
    }
   ],
   "source": [
    "emb = fr_vecs.get_word_vector('mot')\n",
    "emb, len(emb)"
   ]
  },
  {
   "cell_type": "markdown",
   "metadata": {},
   "source": [
    "A better way than using the following function is to use fr_vecs and en_vecs directly  \n",
    "Using a dictionary will trigger a KeyError if we want to get the embedding vector of a word which is not found"
   ]
  },
  {
   "cell_type": "code",
   "execution_count": 44,
   "metadata": {},
   "outputs": [],
   "source": [
    "#def get_vecs(lang, ft_vecs):\n",
    "#    \"\"\"\n",
    "#        Creates a dictionary of {word: word vector} from the fasttext object ft_vecs\n",
    "#        and saving it into a pickle file .pkl\n",
    "#    \"\"\"\n",
    "#    # we can get an error if we want to get the word vector of a word which isn't in this dictionary !\n",
    "#    vecd = {w:ft_vecs.get_word_vector(w) for w in ft_vecs.get_words()}\n",
    "#    \n",
    "#    # saving the vector in a .pkl file\n",
    "#    pickle.dump(vecd, open(PATH/f'wiki.{lang}.pkl','wb'))\n",
    "#    return vecd"
   ]
  },
  {
   "cell_type": "code",
   "execution_count": 45,
   "metadata": {},
   "outputs": [],
   "source": [
    "#en_vecd = get_vecs('en', en_vecs)\n",
    "#fr_vecd = get_vecs('fr', fr_vecs)"
   ]
  },
  {
   "cell_type": "code",
   "execution_count": 46,
   "metadata": {},
   "outputs": [],
   "source": [
    "#en_vecd = pickle.load(open(PATH/'wiki.en.pkl','rb'))\n",
    "#fr_vecd = pickle.load(open(PATH/'wiki.fr.pkl','rb'))"
   ]
  },
  {
   "cell_type": "code",
   "execution_count": 47,
   "metadata": {},
   "outputs": [],
   "source": [
    "#ft_vecs = en_vecs\n",
    "#ft_words = ft_vecs.get_words(include_freq=True)\n",
    "#ft_words[0][:5], ft_words[1][:5]"
   ]
  },
  {
   "cell_type": "code",
   "execution_count": 48,
   "metadata": {},
   "outputs": [],
   "source": [
    "#ft_word_dict = {k:v for k,v in zip(*ft_words)}\n",
    "#ft_word_dict"
   ]
  },
  {
   "cell_type": "code",
   "execution_count": 49,
   "metadata": {},
   "outputs": [],
   "source": [
    "#ft_words = sorted(ft_word_dict.keys(), key=lambda x: ft_word_dict[x])\n",
    "#ft_words"
   ]
  },
  {
   "cell_type": "code",
   "execution_count": 50,
   "metadata": {},
   "outputs": [],
   "source": [
    "#len(ft_words)"
   ]
  },
  {
   "cell_type": "markdown",
   "metadata": {},
   "source": [
    "Using the following functions is a better idea"
   ]
  },
  {
   "cell_type": "code",
   "execution_count": 51,
   "metadata": {},
   "outputs": [],
   "source": [
    "def getFrWordVector(word):\n",
    "    return fr_vecs.get_word_vector(word)"
   ]
  },
  {
   "cell_type": "code",
   "execution_count": 52,
   "metadata": {},
   "outputs": [],
   "source": [
    "def getEnWordVector(word):\n",
    "    return en_vecs.get_word_vector(word)"
   ]
  },
  {
   "cell_type": "code",
   "execution_count": 53,
   "metadata": {},
   "outputs": [
    {
     "data": {
      "text/plain": [
       "(100, 100)"
      ]
     },
     "execution_count": 53,
     "metadata": {},
     "output_type": "execute_result"
    }
   ],
   "source": [
    "dim_en_vec = len(getEnWordVector(','))\n",
    "dim_fr_vec = len(getFrWordVector(','))\n",
    "dim_en_vec, dim_fr_vec"
   ]
  },
  {
   "cell_type": "code",
   "execution_count": 54,
   "metadata": {},
   "outputs": [],
   "source": [
    "#dim_en_vec = len(en_vecd[','] if ',' in en_vecd.keys() else en_vecs.get_word_vector(','))\n",
    "#dim_fr_vec = len(fr_vecd[','] if ',' in fr_vecd.keys() else fr_vecs.get_word_vector(','))\n",
    "#dim_en_vec, dim_fr_vec"
   ]
  },
  {
   "cell_type": "code",
   "execution_count": 55,
   "metadata": {},
   "outputs": [],
   "source": [
    "#en_vecs_np = np.stack(list(en_vecd.values()))\n",
    "#en_vecs_np.mean(), en_vecs_np.std()"
   ]
  },
  {
   "cell_type": "markdown",
   "metadata": {},
   "source": [
    "We need to know the mean and the variance of our word vectors  \n",
    "we can use the following function to do that"
   ]
  },
  {
   "cell_type": "code",
   "execution_count": 56,
   "metadata": {},
   "outputs": [],
   "source": [
    "def getStatistics(fasttextVectors):\n",
    "    vecd = {w:fasttextVectors.get_word_vector(w) for w in fasttextVectors.get_words()}\n",
    "    vecs_np = np.stack(list(vecd.values()))\n",
    "    return vecs_np.mean(), vecs_np.std()"
   ]
  },
  {
   "cell_type": "code",
   "execution_count": 57,
   "metadata": {},
   "outputs": [
    {
     "data": {
      "text/plain": [
       "(0.027238548, 0.30283847)"
      ]
     },
     "execution_count": 57,
     "metadata": {},
     "output_type": "execute_result"
    }
   ],
   "source": [
    "getStatistics(fr_vecs) # (0.027238548, 0.30283847)"
   ]
  },
  {
   "cell_type": "code",
   "execution_count": 58,
   "metadata": {},
   "outputs": [
    {
     "data": {
      "text/plain": [
       "(0.018482028, 0.27999485)"
      ]
     },
     "execution_count": 58,
     "metadata": {},
     "output_type": "execute_result"
    }
   ],
   "source": [
    "getStatistics(en_vecs) # (0.018482028, 0.27999485)"
   ]
  },
  {
   "cell_type": "markdown",
   "metadata": {},
   "source": [
    "Both sets of vectors have rughly the same statistics, about 0 mean and 0.3 standard deviation.  \n",
    "If we multiply the vectors by 0.3, we'll get a new set of vectors (normalized) with mean = 0 and standard deviation = 1"
   ]
  },
  {
   "cell_type": "markdown",
   "metadata": {},
   "source": [
    "## Model data"
   ]
  },
  {
   "cell_type": "markdown",
   "metadata": {},
   "source": [
    "Truncating the data isn't a good idea at all ! we shouldn't alter the data, we have to use as it is !"
   ]
  },
  {
   "cell_type": "code",
   "execution_count": 59,
   "metadata": {},
   "outputs": [],
   "source": [
    "#enlen_90 = int(np.percentile([len(o) for o in en_ids], 99))\n",
    "#frlen_90 = int(np.percentile([len(o) for o in fr_ids], 97))\n",
    "#enlen_90, frlen_90"
   ]
  },
  {
   "cell_type": "code",
   "execution_count": 60,
   "metadata": {},
   "outputs": [],
   "source": [
    "#en_ids_tr = np.array([o[:enlen_90] for o in en_ids])\n",
    "#fr_ids_tr = np.array([o[:frlen_90] for o in fr_ids])\n",
    "#en_ids_tr[:5]"
   ]
  },
  {
   "cell_type": "markdown",
   "metadata": {},
   "source": [
    "The following class is a generic PyTorch dataset, used to prepare the data to be used by PyTorch and fastai"
   ]
  },
  {
   "cell_type": "code",
   "execution_count": 61,
   "metadata": {},
   "outputs": [],
   "source": [
    "class Seq2SeqDataset(Dataset):\n",
    "    def __init__(self, x, y): self.x, self.y = x, y\n",
    "    def __getitem__(self, idx): return A(self.x[idx], self.y[idx])\n",
    "    def __len__(self): return len(self.x)"
   ]
  },
  {
   "cell_type": "markdown",
   "metadata": {},
   "source": [
    "Train-Test split: 90% training / 10% testing"
   ]
  },
  {
   "cell_type": "code",
   "execution_count": 62,
   "metadata": {},
   "outputs": [
    {
     "data": {
      "text/plain": [
       "(45, 5)"
      ]
     },
     "execution_count": 62,
     "metadata": {},
     "output_type": "execute_result"
    }
   ],
   "source": [
    "# train-test split\n",
    "#np.random.seed(42)\n",
    "trn_keep = np.random.rand(len(en_ids)) > 0.1\n",
    "en_trn, fr_trn = en_ids[trn_keep], fr_ids[trn_keep]\n",
    "en_val, fr_val = en_ids[~trn_keep], fr_ids[~trn_keep]\n",
    "len(en_trn),len(en_val)"
   ]
  },
  {
   "cell_type": "markdown",
   "metadata": {},
   "source": [
    "Creating the datasets"
   ]
  },
  {
   "cell_type": "code",
   "execution_count": 63,
   "metadata": {},
   "outputs": [],
   "source": [
    "trn_ds = Seq2SeqDataset(fr_trn, en_trn)\n",
    "val_ds = Seq2SeqDataset(fr_val, en_val)"
   ]
  },
  {
   "cell_type": "markdown",
   "metadata": {},
   "source": [
    "Setting the batch size"
   ]
  },
  {
   "cell_type": "code",
   "execution_count": 64,
   "metadata": {},
   "outputs": [],
   "source": [
    "#bs=125 # batch size\n",
    "bs=10 # batch size"
   ]
  },
  {
   "cell_type": "markdown",
   "metadata": {},
   "source": [
    "**SortishSampler** : Returns an iterator that traverses the data in randomly ordered batches that are approximately the same size. (used for training set)  \n",
    "**SortSampler** : Returns a sorted iterator (used for testing set)  "
   ]
  },
  {
   "cell_type": "code",
   "execution_count": 65,
   "metadata": {},
   "outputs": [],
   "source": [
    "trn_samp = SortishSampler(en_trn, key=lambda x: len(en_trn[x]), bs=bs)\n",
    "val_samp = SortSampler(en_val, key=lambda x: len(en_val[x]))"
   ]
  },
  {
   "cell_type": "code",
   "execution_count": 66,
   "metadata": {},
   "outputs": [],
   "source": [
    "??ModelData"
   ]
  },
  {
   "cell_type": "markdown",
   "metadata": {},
   "source": [
    "**Classifier** → padding in the beginning. Because we want that final token to represent the last word of the movie review.  \n",
    "**Decoder** → padding at the end. As you will see, it actually is going to work out a bit better to have the padding at the end."
   ]
  },
  {
   "cell_type": "code",
   "execution_count": 67,
   "metadata": {},
   "outputs": [],
   "source": [
    "??DataLoader"
   ]
  },
  {
   "cell_type": "code",
   "execution_count": 68,
   "metadata": {},
   "outputs": [],
   "source": [
    "# we don't have any data augmentation tasks, so we can set num_workers to 1\n",
    "# we have to transpose the tensors (why ?!!!)\n",
    "# we use 1 (_pad_) to pad the shortest tensor, so that all the tensors would have the same length\n",
    "#     a tensor must be rectangular\n",
    "# we want our padding to be at the end, not at the start, that's why pre_pad is set to False\n",
    "trn_dl = DataLoader(trn_ds, bs, transpose=True, transpose_y=True, num_workers=1, \n",
    "                    pad_idx=1, pre_pad=False, sampler=trn_samp)\n",
    "\n",
    "# why int(bs*1.6) ?!!!\n",
    "val_dl = DataLoader(val_ds, int(bs*1.6), transpose=True, transpose_y=True, num_workers=1, \n",
    "                    pad_idx=1, pre_pad=False, sampler=val_samp)\n",
    "\n",
    "# PATH is used to save temporary files, models, ...\n",
    "md = ModelData(PATH, trn_dl, val_dl)"
   ]
  },
  {
   "cell_type": "code",
   "execution_count": 69,
   "metadata": {},
   "outputs": [
    {
     "data": {
      "text/plain": [
       "[array([12,  4,  2]), array([7, 4, 2])]"
      ]
     },
     "execution_count": 69,
     "metadata": {},
     "output_type": "execute_result"
    }
   ],
   "source": [
    "trn_ds[0]"
   ]
  },
  {
   "cell_type": "code",
   "execution_count": 70,
   "metadata": {},
   "outputs": [
    {
     "data": {
      "text/plain": [
       "[(7, 4), (6, 4), (5, 3), (8, 5), (4, 3)]"
      ]
     },
     "execution_count": 70,
     "metadata": {},
     "output_type": "execute_result"
    }
   ],
   "source": [
    "it = iter(trn_dl)\n",
    "\n",
    "#for i in it:\n",
    "#    print(i)\n",
    "\n",
    "#print(next(it))\n",
    "\n",
    "\"\"\"\n",
    "The (1)s are the padding characters _pad_\n",
    "The (2)s at the end are the end-of-sentence tokens _eos_\n",
    "[\n",
    "   45     7    61    46    10   123   125    62    13    20\n",
    "    8    42     5     4    26     8     4     5    28    56\n",
    "   16     4     2     2     5    16     2     2     5     6\n",
    "    4     2    (1)   (1)    2     4    (1)   (1)    2     4\n",
    "    2    (1)   (1)   (1)   (1)    2    (1)   (1)   (1)    2\n",
    "[torch.LongTensor of size 5x10]\n",
    ", \n",
    "   23     6    11    10     6    23    10    11     7    24\n",
    "   22    17    12    16    56    22    12    12    31     5\n",
    "    4     4     4     4     4     4     4     4     4     2\n",
    "    2     2     2     2     2     2     2     2     2    (1)\n",
    "[torch.LongTensor of size 4x10]\n",
    "]\n",
    "\"\"\"\n",
    "\n",
    "its = [next(it) for i in range(5)]\n",
    "[(len(x),len(y)) for x,y in its]"
   ]
  },
  {
   "cell_type": "markdown",
   "metadata": {},
   "source": [
    "## Initial model"
   ]
  },
  {
   "cell_type": "code",
   "execution_count": 71,
   "metadata": {},
   "outputs": [],
   "source": [
    "?nn.Embedding"
   ]
  },
  {
   "cell_type": "markdown",
   "metadata": {},
   "source": [
    "The word vectors have a mean around 0 and a variance around 3, that's why we multiplied the vector by 3  \n",
    "The general rule is : word_vector x variance + mean"
   ]
  },
  {
   "cell_type": "code",
   "execution_count": 72,
   "metadata": {},
   "outputs": [],
   "source": [
    "#def create_emb(vecs, itos, em_sz):\n",
    "#    emb = nn.Embedding(len(itos), em_sz, padding_idx=1) # 1: _pad_, dimension: (vocab size x embedding size)\n",
    "#    wgts = emb.weight.data\n",
    "#    miss = []\n",
    "#    for i,w in enumerate(itos):\n",
    "#        try: wgts[i] = torch.from_numpy(vecs[w]*3)\n",
    "#        except: miss.append(w)\n",
    "#    print(len(miss),miss[5:10])\n",
    "#    return emb"
   ]
  },
  {
   "cell_type": "markdown",
   "metadata": {},
   "source": [
    "To make a vector standard normal (have a mean of 0 and a standard deviation of 1)  \n",
    "\n",
    "$$Y = \\frac{X-\\mu}{\\sigma}$$  \n",
    "\n",
    "$\\mu$ is the mean of X, $\\sigma$ is its standard deviation.  \n",
    "We can create a function to do just that ;)"
   ]
  },
  {
   "cell_type": "code",
   "execution_count": 77,
   "metadata": {},
   "outputs": [],
   "source": [
    "def normalize(vector, mean, standardDeviation):\n",
    "    \"\"\"\n",
    "        This function returns the 'normalized' version of vector\n",
    "        by subtracting the mean than dividing by the standard deviation\n",
    "        Hepler function to be used in the function `create_emb`\n",
    "    \"\"\"\n",
    "    return (vector - mean) / standardDeviation"
   ]
  },
  {
   "cell_type": "markdown",
   "metadata": {},
   "source": [
    "This version uses the fasttext object firectly so no mises ! even if the word doesn't exist in the original embeddings, fasttext will generate its unique embedding vector. I don't want to miss any word ! whatever was its frequency !"
   ]
  },
  {
   "cell_type": "code",
   "execution_count": 78,
   "metadata": {},
   "outputs": [],
   "source": [
    "def create_emb(fasttextVectors, itos, em_sz, mean=0, standardDeviation=1): # standardDeviation is 0.3 in our example\n",
    "    emb = nn.Embedding(len(itos), em_sz, padding_idx=1) # 1: _pad_, dimension: (vocab size x embedding size)\n",
    "    wgts = emb.weight.data\n",
    "    #miss = []\n",
    "    for i,w in enumerate(itos):\n",
    "        #assert len(fasttextVectors.get_word_vector(w)) == em_sz\n",
    "        #wgts[i] = torch.from_numpy(fasttextVectors.get_word_vector(w)*standardDeviation)\n",
    "        wgts[i] = torch.from_numpy(normalize(fasttextVectors.get_word_vector(w), mean, standardDeviation))\n",
    "        #try: wgts[i] = torch.from_numpy(fasttextVectors.get_word_vector(w)*standardDeviation)\n",
    "        #except: miss.append(w)\n",
    "    #print(len(miss))\n",
    "    return emb"
   ]
  },
  {
   "cell_type": "code",
   "execution_count": 79,
   "metadata": {},
   "outputs": [
    {
     "data": {
      "text/plain": [
       "Embedding(42, 100, padding_idx=1)"
      ]
     },
     "execution_count": 79,
     "metadata": {},
     "output_type": "execute_result"
    }
   ],
   "source": [
    "create_emb(en_vecs, en_itos, 100, 0.3)"
   ]
  },
  {
   "cell_type": "code",
   "execution_count": 75,
   "metadata": {},
   "outputs": [],
   "source": [
    "nh, nl = 256, 2"
   ]
  },
  {
   "cell_type": "markdown",
   "metadata": {},
   "source": [
    "xxx_enc are encoder's variables, xxx_dec are decoder's variables  \n",
    "out_xxx is what's going to be at the output of the encoder / decoder"
   ]
  },
  {
   "cell_type": "markdown",
   "metadata": {},
   "source": [
    "the GRU computations  \n",
    "$$\n",
    "        \\begin{array}{ll}\n",
    "        r_t = \\mathrm{sigmoid}(W_{ir} x_t + b_{ir} + W_{hr} h_{(t-1)} + b_{hr}) \\\\\n",
    "        z_t = \\mathrm{sigmoid}(W_{iz} x_t + b_{iz} + W_{hz} h_{(t-1)} + b_{hz}) \\\\\n",
    "        n_t = \\tanh(W_{in} x_t + b_{in} + r_t * (W_{hn} h_{(t-1)}+ b_{hn})) \\\\\n",
    "        h_t = (1 - z_t) * n_t + z_t * h_{(t-1)} \\\\\n",
    "        \\end{array}\n",
    "$$"
   ]
  },
  {
   "cell_type": "code",
   "execution_count": 80,
   "metadata": {},
   "outputs": [],
   "source": [
    "?nn.GRU"
   ]
  },
  {
   "cell_type": "code",
   "execution_count": 82,
   "metadata": {},
   "outputs": [],
   "source": [
    "?torch.stack"
   ]
  },
  {
   "cell_type": "code",
   "execution_count": 84,
   "metadata": {},
   "outputs": [],
   "source": [
    "# Returns a new tensor with a dimension of size one inserted at the specified position.\n",
    "?torch.unsqueeze"
   ]
  },
  {
   "cell_type": "code",
   "execution_count": 59,
   "metadata": {},
   "outputs": [],
   "source": [
    "class Seq2SeqRNN(nn.Module):\n",
    "    \"\"\"\n",
    "    * The embedding layers are used to get the fasttext embedding vector from the token's index in the vocabulary\n",
    "    (we can also fine tune the embeddings, they will become learnable parameters, and train them end to end)\n",
    "    * emb_enc: Embeddings for the encoder\n",
    "    * emb_dec: Embeddings for the decoder\n",
    "    * we can use LSTMs instead of GRUs\n",
    "    * The embedding size of pretrained fasttext vectors is 300\n",
    "    * The embeddings can be learnable: they have the attribute weight which is a Variable containing the attribute\n",
    "        data which is a Tensor\n",
    "    * The embeddings are initially random, we go through our vocabulary, if we find the token, we replace the\n",
    "        random vector by its corresponding fasttext embedding, the random vectors have a standard deviation of1\n",
    "        but our fasttext vectors have a standard deviation of 0.3, that's why we've multiplied by 3\n",
    "    \"\"\"\n",
    "    def __init__(self, vecs_enc, itos_enc, em_sz_enc, vecs_dec, itos_dec, em_sz_dec, nh, out_sl, nl=2):\n",
    "        super().__init__()\n",
    "        self.nl, self.nh, self.out_sl = nl, nh, out_sl\n",
    "        self.emb_enc = create_emb(vecs_enc, itos_enc, em_sz_enc)\n",
    "        \n",
    "        # adding dropout prevent overfitting (add visualization of dropout ? in the presentation and report)\n",
    "        # analogy: died neurons in the brain !\n",
    "        self.emb_enc_drop = nn.Dropout(0.15)\n",
    "        \n",
    "        # the RNN cell (GRU, LSTM)\n",
    "        # the input to the RNN is the size of the embedding\n",
    "        # nh is the number of hidden units\n",
    "        # nl is the number of layers\n",
    "        # 0.25 dropout inside the RNN\n",
    "        self.gru_enc = nn.GRU(em_sz_enc, nh, num_layers=nl, dropout=0.25)\n",
    "        \n",
    "        # transform the hidden output (RNN output) into something to be fed to the decoder\n",
    "        # this is a simple transformation, so it should be a matrix multiplication without adding a bias\n",
    "        # this operation is the reverse of the embedding, and the embedding doesn’t have a bias. (jeremy's answer)\n",
    "        # that's why bias is set to False\n",
    "        self.out_enc = nn.Linear(nh, em_sz_dec, bias=False)\n",
    "        \n",
    "        self.emb_dec = create_emb(vecs_dec, itos_dec, em_sz_dec)\n",
    "        self.gru_dec = nn.GRU(em_sz_dec, em_sz_dec, num_layers=nl, dropout=0.1)\n",
    "        self.out_drop = nn.Dropout(0.35)\n",
    "        self.out = nn.Linear(em_sz_dec, len(itos_dec))\n",
    "        self.out.weight.data = self.emb_dec.weight.data\n",
    "        \n",
    "    def forward(self, inp):\n",
    "        # sl: sentence length, bs: batch size\n",
    "        sl, bs = inp.size()\n",
    "        h = self.initHidden(bs)\n",
    "        \n",
    "        # putting the input into the embedding, then through the dropout\n",
    "        emb = self.emb_enc_drop(self.emb_enc(inp))\n",
    "        \n",
    "        # we put the initial hidden state (zeros) and the embedding to the RNN\n",
    "        # which spits out the final hidden state\n",
    "        enc_out, h = self.gru_enc(emb, h)\n",
    "        \n",
    "        # the final hidden state is passing through the linear layer so that we'll\n",
    "        # have something in the right size to feed to our decoder\n",
    "        h = self.out_enc(h)\n",
    "        \n",
    "        # input ---> embedding ---> hidden vector (h, which is the same as s in the figure shown in the course)\n",
    "        # the hidden vector hopefully will learn to contain all the information about what that sentence\n",
    "        # says and how it says it\n",
    "\n",
    "        # the previous translated word, first it is NULL (vector of zeros)\n",
    "        # decoder input, initially zeros\n",
    "        # long because the output should be the indices\n",
    "        dec_inp = V(torch.zeros(bs).long())\n",
    "        res = []\n",
    "        \n",
    "        # self.out_sl is the length of the largest english sentence, because we're translating into english\n",
    "        # it can't be possibly longer than that (at least in our corpus), it we use it on longer sentences\n",
    "        # this will fail, we can pass in a bigger value\n",
    "        # --> why we don't change it to a while loop (while the token isn't _eos_ or _pad_ ?)\n",
    "        for i in range(self.out_sl):           \n",
    "            # the basic idea is the same: we put the input through the embedding\n",
    "            # adding a unit axis / dimension in the specified position using .unsqueeze(0)\n",
    "            emb = self.emb_dec(dec_inp).unsqueeze(0)\n",
    "            \n",
    "            # then through the RNN\n",
    "            outp, h = self.gru_dec(emb, h)\n",
    "            \n",
    "            # stick the output of the RNN through the dropout then through a linear layer\n",
    "            outp = self.out(self.out_drop(outp[0]))\n",
    "            \n",
    "            # append the result to the results list\n",
    "            res.append(outp)\n",
    "            \n",
    "            dec_inp = V(outp.data.max(1)[1])\n",
    "            if (dec_inp==1).all(): break\n",
    "\n",
    "        # at the end, we're going to stack that list up into a single tensor and return it\n",
    "        return torch.stack(res)\n",
    "    \n",
    "    # used to initialize the hidden state vector with zeros\n",
    "    def initHidden(self, bs): return V(torch.zeros(self.nl, bs, self.nh))"
   ]
  },
  {
   "cell_type": "markdown",
   "metadata": {},
   "source": [
    "Normally, a RNN works on a whole sequence at a time but we've got a for loop to go through each part of the sequence separately so we have to add a leading unit access to the start `unsqueeze(0)`"
   ]
  },
  {
   "cell_type": "code",
   "execution_count": 60,
   "metadata": {},
   "outputs": [],
   "source": [
    "def seq2seq_loss(input, target):\n",
    "    sl,bs = target.size()\n",
    "    sl_in,bs_in,nc = input.size()\n",
    "    if sl>sl_in: input = F.pad(input, (0,0,0,0,0,sl-sl_in))\n",
    "    input = input[:sl]\n",
    "    return F.cross_entropy(input.view(-1,nc), target.view(-1))#, ignore_index=1)"
   ]
  },
  {
   "cell_type": "code",
   "execution_count": 147,
   "metadata": {},
   "outputs": [],
   "source": [
    "opt_fn = partial(optim.Adam, betas=(0.8, 0.99))"
   ]
  },
  {
   "cell_type": "code",
   "execution_count": 148,
   "metadata": {
    "scrolled": true
   },
   "outputs": [
    {
     "name": "stdout",
     "output_type": "stream",
     "text": [
      "58 ['.', '\\u202f', '?', \"j'\", \"l'\"]\n",
      "26 ['!', 'i', 'won', '?', 'nice']\n"
     ]
    }
   ],
   "source": [
    "rnn = Seq2SeqRNN(fr_vecd, fr_itos, dim_fr_vec, en_vecd, en_itos, dim_en_vec, nh, enlen_90)\n",
    "learn = RNN_Learner(md, SingleModel(to_gpu(rnn)), opt_fn=opt_fn)\n",
    "learn.crit = seq2seq_loss"
   ]
  },
  {
   "cell_type": "code",
   "execution_count": 149,
   "metadata": {
    "scrolled": true
   },
   "outputs": [],
   "source": [
    "# test jupyter notebook's widgets\n",
    "#from ipywidgets import IntProgress\n",
    "#IntProgress(10,max=100)"
   ]
  },
  {
   "cell_type": "code",
   "execution_count": 64,
   "metadata": {
    "scrolled": false
   },
   "outputs": [
    {
     "data": {
      "application/vnd.jupyter.widget-view+json": {
       "model_id": "ddeb9ed883db46d193a83e2a02ddbef8",
       "version_major": 2,
       "version_minor": 0
      },
      "text/plain": [
       "HBox(children=(IntProgress(value=0, description='Epoch', max=1), HTML(value='')))"
      ]
     },
     "metadata": {},
     "output_type": "display_data"
    },
    {
     "name": "stdout",
     "output_type": "stream",
     "text": [
      " 67%|██████▋   | 58/87 [00:12<00:06,  4.47it/s, loss=20.7]"
     ]
    },
    {
     "data": {
      "image/png": "[encoded data removed]",
      "text/plain": [
       "<matplotlib.figure.Figure at 0x7f3a73b76dd8>"
      ]
     },
     "metadata": {},
     "output_type": "display_data"
    }
   ],
   "source": [
    "learn.lr_find()\n",
    "learn.sched.plot()"
   ]
  },
  {
   "cell_type": "code",
   "execution_count": 150,
   "metadata": {},
   "outputs": [],
   "source": [
    "lr=3e-3"
   ]
  },
  {
   "cell_type": "markdown",
   "metadata": {},
   "source": [
    "We can safely ignore the error 'Set changed size during iteration'  \n",
    "http://forums.fast.ai/t/runtimeerror-set-changed-size-during-iteration/7565"
   ]
  },
  {
   "cell_type": "code",
   "execution_count": 66,
   "metadata": {
    "scrolled": false
   },
   "outputs": [
    {
     "data": {
      "application/vnd.jupyter.widget-view+json": {
       "model_id": "f55d16395d654a7d87fb3807c146e08a",
       "version_major": 2,
       "version_minor": 0
      },
      "text/plain": [
       "HBox(children=(IntProgress(value=0, description='Epoch', max=12), HTML(value='')))"
      ]
     },
     "metadata": {},
     "output_type": "display_data"
    },
    {
     "name": "stdout",
     "output_type": "stream",
     "text": [
      " 41%|████▏     | 36/87 [00:06<00:09,  5.41it/s, loss=3.89]\n",
      " 43%|████▎     | 37/87 [00:06<00:09,  5.40it/s, loss=3.86]"
     ]
    },
    {
     "name": "stderr",
     "output_type": "stream",
     "text": [
      "Exception in thread Thread-6:\n",
      "Traceback (most recent call last):\n",
      "  File \"/home/stoufa/anaconda2/envs/fastai-cpu/lib/python3.6/threading.py\", line 916, in _bootstrap_inner\n",
      "    self.run()\n",
      "  File \"/home/stoufa/anaconda2/envs/fastai-cpu/lib/python3.6/site-packages/tqdm/_tqdm.py\", line 144, in run\n",
      "    for instance in self.tqdm_cls._instances:\n",
      "  File \"/home/stoufa/anaconda2/envs/fastai-cpu/lib/python3.6/_weakrefset.py\", line 60, in __iter__\n",
      "    for itemref in self.data:\n",
      "RuntimeError: Set changed size during iteration\n",
      "\n"
     ]
    },
    {
     "name": "stdout",
     "output_type": "stream",
     "text": [
      "epoch      trn_loss   val_loss                            \n",
      "    0      3.741226   3.32703   \n",
      "    1      3.91051    2.340131                            \n",
      "    2      2.957071   2.818557                            \n",
      "    3      2.509991   2.066287                            \n",
      "    4      2.251053   2.040451                            \n",
      "    5      1.466624   1.569259                            \n",
      "    6      1.270903   2.047033                            \n",
      "    7      1.147333   1.515473                            \n",
      "    8      0.73335    1.559318                             \n",
      "    9      0.553818   1.473312                             \n",
      "    10     0.372714   1.669936                             \n",
      "    11     0.307888   1.40455                              \n",
      "\n"
     ]
    },
    {
     "data": {
      "text/plain": [
       "[array([1.40455])]"
      ]
     },
     "execution_count": 66,
     "metadata": {},
     "output_type": "execute_result"
    }
   ],
   "source": [
    "learn.fit(lr, 1, cycle_len=12, use_clr=(20,10))"
   ]
  },
  {
   "cell_type": "code",
   "execution_count": 67,
   "metadata": {},
   "outputs": [],
   "source": [
    "learn.save('initial')"
   ]
  },
  {
   "cell_type": "code",
   "execution_count": 151,
   "metadata": {},
   "outputs": [],
   "source": [
    "learn.load('initial')"
   ]
  },
  {
   "cell_type": "markdown",
   "metadata": {
    "heading_collapsed": true
   },
   "source": [
    "### Test"
   ]
  },
  {
   "cell_type": "code",
   "execution_count": 152,
   "metadata": {},
   "outputs": [
    {
     "name": "stdout",
     "output_type": "stream",
     "text": [
      "vas-y maintenant . _eos_\n",
      "go now . _eos_\n",
      "i help _eos_ _eos_ _eos_\n",
      "\n",
      "pigé   ? _eos_\n",
      "got it ? _eos_\n",
      "i help _eos_ _eos_ _eos_\n",
      "\n",
      "serre - moi dans tes bras !\n",
      "hug me . _eos_\n",
      "i help _eos_ _eos_ _eos_\n",
      "\n",
      "je suis parti . _eos_\n",
      "i left . _eos_\n",
      "i help _eos_ _eos_ _eos_\n",
      "\n",
      "en aucune manière ! _eos_\n",
      "no way ! _eos_\n",
      "i help _eos_ _eos_ _eos_\n",
      "\n",
      "sois détendu ! _eos_\n",
      "be cool . _eos_\n",
      "i help _eos_ _eos_ _eos_\n",
      "\n",
      "soyez équitable ! _eos_\n",
      "be fair . _eos_\n",
      "i help _eos_ _eos_ _eos_\n",
      "\n",
      "soyez gentille ! _eos_\n",
      "be nice . _eos_\n",
      "i help _eos_ _eos_ _eos_\n",
      "\n",
      "venez ! _eos_\n",
      "come on . _eos_\n",
      "i help _eos_ _eos_ _eos_\n",
      "\n",
      "saute . _eos_\n",
      "jump . _eos_\n",
      "i help _eos_ _eos_ _eos_\n",
      "\n",
      "attends ! _eos_\n",
      "wait ! _eos_\n",
      "i help _eos_ _eos_ _eos_\n",
      "\n",
      "vraiment   ? _eos_\n",
      "really ? _eos_\n",
      "i help _eos_ _eos_ _eos_\n",
      "\n",
      "fantastique   ! _eos_\n",
      "awesome ! _eos_\n",
      "i help _eos_ _eos_ _eos_\n",
      "\n"
     ]
    }
   ],
   "source": [
    "for x,y in iter(val_dl):\n",
    "    #print(x)\n",
    "    for i in range(x.shape[1]):\n",
    "        print(' '.join([fr_itos[o] for o in x[:,i] if o != 1]))\n",
    "        print(' '.join([en_itos[o] for o in y[:,i] if o != 1]))\n",
    "        print(' '.join([en_itos[o] for o in preds[:,i] if o!=1]))\n",
    "        print()"
   ]
  },
  {
   "cell_type": "code",
   "execution_count": 145,
   "metadata": {
    "hidden": true
   },
   "outputs": [
    {
     "name": "stdout",
     "output_type": "stream",
     "text": [
      "torch.Size([4, 1])\n",
      "vas-y maintenant . _eos_\n",
      "go now . _eos_\n",
      "i help _eos_ _eos_ _eos_\n",
      "\n"
     ]
    }
   ],
   "source": [
    "x,y = next(iter(val_dl))\n",
    "probs = learn.model(V(x))\n",
    "preds = to_np(probs.max(2)[1])\n",
    "\n",
    "print(x.shape)\n",
    "\n",
    "#for i in range(180,190):\n",
    "for i in range(1):\n",
    "    print(' '.join([fr_itos[o] for o in x[:,i] if o != 1]))\n",
    "    print(' '.join([en_itos[o] for o in y[:,i] if o != 1]))\n",
    "    print(' '.join([en_itos[o] for o in preds[:,i] if o!=1]))\n",
    "    print()"
   ]
  },
  {
   "cell_type": "markdown",
   "metadata": {
    "heading_collapsed": true
   },
   "source": [
    "## Bidir"
   ]
  },
  {
   "cell_type": "code",
   "execution_count": 75,
   "metadata": {
    "hidden": true
   },
   "outputs": [],
   "source": [
    "class Seq2SeqRNN_Bidir(nn.Module):\n",
    "    def __init__(self, vecs_enc, itos_enc, em_sz_enc, vecs_dec, itos_dec, em_sz_dec, nh, out_sl, nl=2):\n",
    "        super().__init__()\n",
    "        self.emb_enc = create_emb(vecs_enc, itos_enc, em_sz_enc)\n",
    "        self.nl,self.nh,self.out_sl = nl,nh,out_sl\n",
    "        self.gru_enc = nn.GRU(em_sz_enc, nh, num_layers=nl, dropout=0.25, bidirectional=True)\n",
    "        self.out_enc = nn.Linear(nh*2, em_sz_dec, bias=False)\n",
    "        self.drop_enc = nn.Dropout(0.05)\n",
    "        self.emb_dec = create_emb(vecs_dec, itos_dec, em_sz_dec)\n",
    "        self.gru_dec = nn.GRU(em_sz_dec, em_sz_dec, num_layers=nl, dropout=0.1)\n",
    "        self.emb_enc_drop = nn.Dropout(0.15)\n",
    "        self.out_drop = nn.Dropout(0.35)\n",
    "        self.out = nn.Linear(em_sz_dec, len(itos_dec))\n",
    "        self.out.weight.data = self.emb_dec.weight.data\n",
    "        \n",
    "    def forward(self, inp):\n",
    "        sl,bs = inp.size()\n",
    "        h = self.initHidden(bs)\n",
    "        emb = self.emb_enc_drop(self.emb_enc(inp))\n",
    "        enc_out, h = self.gru_enc(emb, h)\n",
    "        h = h.view(2,2,bs,-1).permute(0,2,1,3).contiguous().view(2,bs,-1)\n",
    "        h = self.out_enc(self.drop_enc(h))\n",
    "\n",
    "        dec_inp = V(torch.zeros(bs).long())\n",
    "        res = []\n",
    "        for i in range(self.out_sl):\n",
    "            emb = self.emb_dec(dec_inp).unsqueeze(0)\n",
    "            outp, h = self.gru_dec(emb, h)\n",
    "            outp = self.out(self.out_drop(outp[0]))\n",
    "            res.append(outp)\n",
    "            dec_inp = V(outp.data.max(1)[1])\n",
    "            if (dec_inp==1).all(): break\n",
    "        return torch.stack(res)\n",
    "    \n",
    "    def initHidden(self, bs): return V(torch.zeros(self.nl*2, bs, self.nh))"
   ]
  },
  {
   "cell_type": "code",
   "execution_count": 92,
   "metadata": {
    "hidden": true
   },
   "outputs": [
    {
     "name": "stdout",
     "output_type": "stream",
     "text": [
      "58 ['.', '\\u202f', '?', \"j'\", \"l'\"]\n",
      "26 ['!', 'i', 'won', '?', 'nice']\n"
     ]
    }
   ],
   "source": [
    "rnn = Seq2SeqRNN_Bidir(fr_vecd, fr_itos, dim_fr_vec, en_vecd, en_itos, dim_en_vec, nh, enlen_90)\n",
    "learn = RNN_Learner(md, SingleModel(to_gpu(rnn)), opt_fn=opt_fn)\n",
    "learn.crit = seq2seq_loss"
   ]
  },
  {
   "cell_type": "code",
   "execution_count": 93,
   "metadata": {
    "hidden": true,
    "scrolled": false
   },
   "outputs": [
    {
     "data": {
      "application/vnd.jupyter.widget-view+json": {
       "model_id": "f498418e6f1e408dae54458791acb951",
       "version_major": 2,
       "version_minor": 0
      },
      "text/plain": [
       "HBox(children=(IntProgress(value=0, description='Epoch', max=12), HTML(value='')))"
      ]
     },
     "metadata": {},
     "output_type": "display_data"
    },
    {
     "name": "stdout",
     "output_type": "stream",
     "text": [
      " 28%|██▊       | 24/87 [00:08<00:23,  2.68it/s, loss=4.03] \n",
      " 29%|██▊       | 25/87 [00:09<00:23,  2.58it/s, loss=4]   "
     ]
    },
    {
     "name": "stderr",
     "output_type": "stream",
     "text": [
      "Exception in thread Thread-45:\n",
      "Traceback (most recent call last):\n",
      "  File \"/home/stoufa/anaconda2/envs/fastai-cpu/lib/python3.6/threading.py\", line 916, in _bootstrap_inner\n",
      "    self.run()\n",
      "  File \"/home/stoufa/anaconda2/envs/fastai-cpu/lib/python3.6/site-packages/tqdm/_tqdm.py\", line 144, in run\n",
      "    for instance in self.tqdm_cls._instances:\n",
      "  File \"/home/stoufa/anaconda2/envs/fastai-cpu/lib/python3.6/_weakrefset.py\", line 60, in __iter__\n",
      "    for itemref in self.data:\n",
      "RuntimeError: Set changed size during iteration\n",
      "\n"
     ]
    },
    {
     "name": "stdout",
     "output_type": "stream",
     "text": [
      "epoch      trn_loss   val_loss                            \n",
      "    0      3.437292   2.989171  \n",
      "    1      3.366644   3.10476                             \n",
      "    2      3.39181    2.274079                            \n",
      "    3      2.656666   1.654762                            \n",
      "    4      2.038905   2.214455                            \n",
      "    5      1.536672   2.00998                             \n",
      "    6      1.376155   2.179717                            \n",
      "    7      0.931147   2.026076                             \n",
      "    8      0.696549   1.444683                             \n",
      "    9      0.646661   2.439948                             \n",
      "    10     0.33823    1.990603                             \n",
      "    11     0.327684   1.757529                             \n",
      "\n"
     ]
    },
    {
     "data": {
      "text/plain": [
       "[array([1.75753])]"
      ]
     },
     "execution_count": 93,
     "metadata": {},
     "output_type": "execute_result"
    }
   ],
   "source": [
    "learn.fit(lr, 1, cycle_len=12, use_clr=(20,10))"
   ]
  },
  {
   "cell_type": "code",
   "execution_count": 94,
   "metadata": {
    "hidden": true
   },
   "outputs": [],
   "source": [
    "learn.save('bidir')"
   ]
  },
  {
   "cell_type": "markdown",
   "metadata": {},
   "source": [
    "### Test - Bidir"
   ]
  },
  {
   "cell_type": "code",
   "execution_count": 95,
   "metadata": {},
   "outputs": [
    {
     "name": "stdout",
     "output_type": "stream",
     "text": [
      "torch.Size([4, 1])\n",
      "vas-y maintenant . _eos_\n",
      "go now . _eos_\n",
      "go now . _eos_ _eos_\n",
      "\n"
     ]
    }
   ],
   "source": [
    "learn.load('bidir')\n",
    "x,y = next(iter(val_dl))\n",
    "probs = learn.model(V(x))\n",
    "preds = to_np(probs.max(2)[1])\n",
    "\n",
    "print(x.shape)\n",
    "\n",
    "#for i in range(180,190):\n",
    "for i in range(1):\n",
    "    print(' '.join([fr_itos[o] for o in x[:,i] if o != 1]))\n",
    "    print(' '.join([en_itos[o] for o in y[:,i] if o != 1]))\n",
    "    print(' '.join([en_itos[o] for o in preds[:,i] if o!=1]))\n",
    "    print()"
   ]
  },
  {
   "cell_type": "markdown",
   "metadata": {},
   "source": [
    "## Teacher forcing"
   ]
  },
  {
   "cell_type": "code",
   "execution_count": 96,
   "metadata": {},
   "outputs": [],
   "source": [
    "class Seq2SeqStepper(Stepper):\n",
    "    def step(self, xs, y, epoch):\n",
    "        self.m.pr_force = (10-epoch)*0.1 if epoch<10 else 0\n",
    "        xtra = []\n",
    "        output = self.m(*xs, y)\n",
    "        if isinstance(output,tuple): output,*xtra = output\n",
    "        self.opt.zero_grad()\n",
    "        loss = raw_loss = self.crit(output, y)\n",
    "        if self.reg_fn: loss = self.reg_fn(output, xtra, raw_loss)\n",
    "        loss.backward()\n",
    "        if self.clip:   # Gradient clipping\n",
    "            nn.utils.clip_grad_norm(trainable_params_(self.m), self.clip)\n",
    "        self.opt.step()\n",
    "        return raw_loss.data[0]"
   ]
  },
  {
   "cell_type": "code",
   "execution_count": 97,
   "metadata": {},
   "outputs": [],
   "source": [
    "class Seq2SeqRNN_TeacherForcing(nn.Module):\n",
    "    def __init__(self, vecs_enc, itos_enc, em_sz_enc, vecs_dec, itos_dec, em_sz_dec, nh, out_sl, nl=2):\n",
    "        super().__init__()\n",
    "        self.emb_enc = create_emb(vecs_enc, itos_enc, em_sz_enc)\n",
    "        self.nl,self.nh,self.out_sl = nl,nh,out_sl\n",
    "        self.gru_enc = nn.GRU(em_sz_enc, nh, num_layers=nl, dropout=0.25)\n",
    "        self.out_enc = nn.Linear(nh, em_sz_dec, bias=False)\n",
    "        self.emb_dec = create_emb(vecs_dec, itos_dec, em_sz_dec)\n",
    "        self.gru_dec = nn.GRU(em_sz_dec, em_sz_dec, num_layers=nl, dropout=0.1)\n",
    "        self.emb_enc_drop = nn.Dropout(0.15)\n",
    "        self.out_drop = nn.Dropout(0.35)\n",
    "        self.out = nn.Linear(em_sz_dec, len(itos_dec))\n",
    "        self.out.weight.data = self.emb_dec.weight.data\n",
    "        self.pr_force = 1.\n",
    "        \n",
    "    def forward(self, inp, y=None):\n",
    "        sl,bs = inp.size()\n",
    "        h = self.initHidden(bs)\n",
    "        emb = self.emb_enc_drop(self.emb_enc(inp))\n",
    "        enc_out, h = self.gru_enc(emb, h)\n",
    "        h = self.out_enc(h)\n",
    "\n",
    "        dec_inp = V(torch.zeros(bs).long())\n",
    "        res = []\n",
    "        for i in range(self.out_sl):\n",
    "            emb = self.emb_dec(dec_inp).unsqueeze(0)\n",
    "            outp, h = self.gru_dec(emb, h)\n",
    "            outp = self.out(self.out_drop(outp[0]))\n",
    "            res.append(outp)\n",
    "            dec_inp = V(outp.data.max(1)[1])\n",
    "            if (dec_inp==1).all(): break\n",
    "            if (y is not None) and (random.random()<self.pr_force):\n",
    "                if i>=len(y): break\n",
    "                dec_inp = y[i]\n",
    "        return torch.stack(res)\n",
    "    \n",
    "    def initHidden(self, bs): return V(torch.zeros(self.nl, bs, self.nh))"
   ]
  },
  {
   "cell_type": "code",
   "execution_count": 98,
   "metadata": {},
   "outputs": [
    {
     "name": "stdout",
     "output_type": "stream",
     "text": [
      "58 ['.', '\\u202f', '?', \"j'\", \"l'\"]\n",
      "26 ['!', 'i', 'won', '?', 'nice']\n"
     ]
    }
   ],
   "source": [
    "rnn = Seq2SeqRNN_TeacherForcing(fr_vecd, fr_itos, dim_fr_vec, en_vecd, en_itos, dim_en_vec, nh, enlen_90)\n",
    "learn = RNN_Learner(md, SingleModel(to_gpu(rnn)), opt_fn=opt_fn)\n",
    "learn.crit = seq2seq_loss"
   ]
  },
  {
   "cell_type": "code",
   "execution_count": 99,
   "metadata": {},
   "outputs": [
    {
     "data": {
      "application/vnd.jupyter.widget-view+json": {
       "model_id": "e3758876b0a44520b6c813807ba546c7",
       "version_major": 2,
       "version_minor": 0
      },
      "text/plain": [
       "HBox(children=(IntProgress(value=0, description='Epoch', max=12), HTML(value='')))"
      ]
     },
     "metadata": {},
     "output_type": "display_data"
    },
    {
     "name": "stdout",
     "output_type": "stream",
     "text": [
      "epoch      trn_loss   val_loss                            \n",
      "    0      2.817046   3.009763  \n",
      "    1      2.616116   4.335323                            \n",
      "    2      2.076136   2.87762                             \n",
      "    3      1.699857   2.722105                            \n",
      "    4      1.51282    1.857763                            \n",
      "    5      1.319323   1.642739                            \n",
      "    6      1.095293   2.070943                             \n",
      "    7      0.966708   2.353443                             \n",
      "    8      0.750304   1.516278                             \n",
      "    9      0.607719   1.662743                             \n",
      "    10     0.403238   1.764716                             \n",
      "    11     0.224393   1.923597                             \n",
      "\n"
     ]
    },
    {
     "data": {
      "text/plain": [
       "[array([1.9236])]"
      ]
     },
     "execution_count": 99,
     "metadata": {},
     "output_type": "execute_result"
    }
   ],
   "source": [
    "learn.fit(lr, 1, cycle_len=12, use_clr=(20,10), stepper=Seq2SeqStepper)"
   ]
  },
  {
   "cell_type": "code",
   "execution_count": 100,
   "metadata": {},
   "outputs": [],
   "source": [
    "learn.save('forcing')"
   ]
  },
  {
   "cell_type": "markdown",
   "metadata": {},
   "source": [
    "## Attentional model"
   ]
  },
  {
   "cell_type": "code",
   "execution_count": 101,
   "metadata": {},
   "outputs": [],
   "source": [
    "def rand_t(*sz): return torch.randn(sz)/math.sqrt(sz[0])\n",
    "def rand_p(*sz): return nn.Parameter(rand_t(*sz))"
   ]
  },
  {
   "cell_type": "code",
   "execution_count": 102,
   "metadata": {},
   "outputs": [],
   "source": [
    "class Seq2SeqAttnRNN(nn.Module):\n",
    "    def __init__(self, vecs_enc, itos_enc, em_sz_enc, vecs_dec, itos_dec, em_sz_dec, nh, out_sl, nl=2):\n",
    "        super().__init__()\n",
    "        self.emb_enc = create_emb(vecs_enc, itos_enc, em_sz_enc)\n",
    "        self.nl,self.nh,self.out_sl = nl,nh,out_sl\n",
    "        self.gru_enc = nn.GRU(em_sz_enc, nh, num_layers=nl, dropout=0.25)\n",
    "        self.out_enc = nn.Linear(nh, em_sz_dec, bias=False)\n",
    "        self.emb_dec = create_emb(vecs_dec, itos_dec, em_sz_dec)\n",
    "        self.gru_dec = nn.GRU(em_sz_dec, em_sz_dec, num_layers=nl, dropout=0.1)\n",
    "        self.emb_enc_drop = nn.Dropout(0.15)\n",
    "        self.out_drop = nn.Dropout(0.35)\n",
    "        self.out = nn.Linear(em_sz_dec*2, len(itos_dec))\n",
    "        self.out.weight.data = self.emb_dec.weight.data\n",
    "\n",
    "        self.W1 = rand_p(nh, em_sz_dec)\n",
    "        self.l2 = nn.Linear(em_sz_dec, em_sz_dec)\n",
    "        self.l3 = nn.Linear(em_sz_dec+nh, em_sz_dec)\n",
    "        self.V = rand_p(em_sz_dec)\n",
    "\n",
    "    def forward(self, inp, y=None, ret_attn=False):\n",
    "        sl,bs = inp.size()\n",
    "        h = self.initHidden(bs)\n",
    "        emb = self.emb_enc_drop(self.emb_enc(inp))\n",
    "        enc_out, h = self.gru_enc(emb, h)\n",
    "        h = self.out_enc(h)\n",
    "\n",
    "        dec_inp = V(torch.zeros(bs).long())\n",
    "        res,attns = [],[]\n",
    "        w1e = enc_out @ self.W1\n",
    "        for i in range(self.out_sl):\n",
    "            w2h = self.l2(h[-1])\n",
    "            u = F.tanh(w1e + w2h)\n",
    "            a = F.softmax(u @ self.V, 0)\n",
    "            attns.append(a)\n",
    "            Xa = (a.unsqueeze(2) * enc_out).sum(0)\n",
    "            emb = self.emb_dec(dec_inp)\n",
    "            wgt_enc = self.l3(torch.cat([emb, Xa], 1))\n",
    "            \n",
    "            outp, h = self.gru_dec(wgt_enc.unsqueeze(0), h)\n",
    "            outp = self.out(self.out_drop(outp[0]))\n",
    "            res.append(outp)\n",
    "            dec_inp = V(outp.data.max(1)[1])\n",
    "            if (dec_inp==1).all(): break\n",
    "            if (y is not None) and (random.random()<self.pr_force):\n",
    "                if i>=len(y): break\n",
    "                dec_inp = y[i]\n",
    "\n",
    "        res = torch.stack(res)\n",
    "        if ret_attn: res = res,torch.stack(attns)\n",
    "        return res\n",
    "\n",
    "    def initHidden(self, bs): return V(torch.zeros(self.nl, bs, self.nh))"
   ]
  },
  {
   "cell_type": "code",
   "execution_count": 103,
   "metadata": {},
   "outputs": [
    {
     "name": "stdout",
     "output_type": "stream",
     "text": [
      "58 ['.', '\\u202f', '?', \"j'\", \"l'\"]\n",
      "26 ['!', 'i', 'won', '?', 'nice']\n"
     ]
    }
   ],
   "source": [
    "rnn = Seq2SeqAttnRNN(fr_vecd, fr_itos, dim_fr_vec, en_vecd, en_itos, dim_en_vec, nh, enlen_90)\n",
    "learn = RNN_Learner(md, SingleModel(to_gpu(rnn)), opt_fn=opt_fn)\n",
    "learn.crit = seq2seq_loss"
   ]
  },
  {
   "cell_type": "code",
   "execution_count": 127,
   "metadata": {},
   "outputs": [],
   "source": [
    "#lr=2e-3\n",
    "lr=5e-2"
   ]
  },
  {
   "cell_type": "code",
   "execution_count": 128,
   "metadata": {
    "scrolled": false
   },
   "outputs": [
    {
     "data": {
      "application/vnd.jupyter.widget-view+json": {
       "model_id": "7461cdf4b9244e349e3f56ba30f08713",
       "version_major": 2,
       "version_minor": 0
      },
      "text/plain": [
       "HBox(children=(IntProgress(value=0, description='Epoch', max=15), HTML(value='')))"
      ]
     },
     "metadata": {},
     "output_type": "display_data"
    },
    {
     "name": "stdout",
     "output_type": "stream",
     "text": [
      "epoch      trn_loss   val_loss                             \n",
      "    0      18.29886   20.433093 \n",
      "    1      55.2444    48.008169                           \n",
      "    2      83.057562  152.885664                          \n",
      "    3      61.409234  33.964173                           \n",
      "    4      39.819258  22.943082                           \n",
      "    5      37.192839  28.059798                           \n",
      "    6      43.463258  70.673356                           \n",
      "    7      43.285342  23.680404                           \n",
      "    8      27.678315  22.930672                           \n",
      "    9      21.993609  23.663328                           \n",
      "    10     18.288758  20.058433                           \n",
      "    11     16.890823  17.975592                           \n",
      "    12     14.429924  14.699815                           \n",
      "    13     11.687962  11.828473                           \n",
      "    14     10.4448    11.72763                            \n",
      "\n"
     ]
    },
    {
     "data": {
      "text/plain": [
       "[array([11.72763])]"
      ]
     },
     "execution_count": 128,
     "metadata": {},
     "output_type": "execute_result"
    }
   ],
   "source": [
    "learn.fit(lr, 1, cycle_len=15, use_clr=(20,10), stepper=Seq2SeqStepper)"
   ]
  },
  {
   "cell_type": "code",
   "execution_count": 129,
   "metadata": {},
   "outputs": [],
   "source": [
    "learn.save('attn')"
   ]
  },
  {
   "cell_type": "code",
   "execution_count": 130,
   "metadata": {},
   "outputs": [],
   "source": [
    "learn.load('attn')"
   ]
  },
  {
   "cell_type": "markdown",
   "metadata": {
    "heading_collapsed": true
   },
   "source": [
    "### Test"
   ]
  },
  {
   "cell_type": "code",
   "execution_count": 131,
   "metadata": {
    "hidden": true
   },
   "outputs": [],
   "source": [
    "x,y = next(iter(val_dl))\n",
    "probs,attns = learn.model(V(x),ret_attn=True)\n",
    "preds = to_np(probs.max(2)[1])"
   ]
  },
  {
   "cell_type": "code",
   "execution_count": 132,
   "metadata": {},
   "outputs": [
    {
     "data": {
      "text/plain": [
       "1"
      ]
     },
     "execution_count": 132,
     "metadata": {},
     "output_type": "execute_result"
    }
   ],
   "source": [
    "x.shape[1]"
   ]
  },
  {
   "cell_type": "code",
   "execution_count": 133,
   "metadata": {},
   "outputs": [
    {
     "name": "stdout",
     "output_type": "stream",
     "text": [
      "vas-y maintenant . _eos_\n",
      "go now . _eos_\n",
      "us us us us us\n",
      "\n",
      "pigé   ? _eos_\n",
      "got it ? _eos_\n",
      "us us us us us\n",
      "\n",
      "serre - moi dans tes bras !\n",
      "hug me . _eos_\n",
      "us us us us us\n",
      "\n",
      "je suis parti . _eos_\n",
      "i left . _eos_\n",
      "us us us us us\n",
      "\n",
      "en aucune manière ! _eos_\n",
      "no way ! _eos_\n",
      "us us us us us\n",
      "\n",
      "sois détendu ! _eos_\n",
      "be cool . _eos_\n",
      "us us us us us\n",
      "\n",
      "soyez équitable ! _eos_\n",
      "be fair . _eos_\n",
      "us us us us us\n",
      "\n",
      "soyez gentille ! _eos_\n",
      "be nice . _eos_\n",
      "us us us us us\n",
      "\n",
      "venez ! _eos_\n",
      "come on . _eos_\n",
      "us us us us us\n",
      "\n",
      "saute . _eos_\n",
      "jump . _eos_\n",
      "us us us us us\n",
      "\n",
      "attends ! _eos_\n",
      "wait ! _eos_\n",
      "us us us us us\n",
      "\n",
      "vraiment   ? _eos_\n",
      "really ? _eos_\n",
      "us us us us us\n",
      "\n",
      "fantastique   ! _eos_\n",
      "awesome ! _eos_\n",
      "us us us us us\n",
      "\n"
     ]
    }
   ],
   "source": [
    "for x,y in iter(val_dl):\n",
    "    #print(x)\n",
    "    for i in range(x.shape[1]):\n",
    "        print(' '.join([fr_itos[o] for o in x[:,i] if o != 1]))\n",
    "        print(' '.join([en_itos[o] for o in y[:,i] if o != 1]))\n",
    "        print(' '.join([en_itos[o] for o in preds[:,i] if o!=1]))\n",
    "        print()"
   ]
  },
  {
   "cell_type": "code",
   "execution_count": 134,
   "metadata": {
    "hidden": true
   },
   "outputs": [
    {
     "name": "stdout",
     "output_type": "stream",
     "text": [
      "fantastique   ! _eos_\n",
      "awesome ! _eos_\n",
      "us us us us us\n",
      "\n"
     ]
    }
   ],
   "source": [
    "#for i in range(180,190):\n",
    "for i in range(x.shape[1]):\n",
    "    print(' '.join([fr_itos[o] for o in x[:,i] if o != 1]))\n",
    "    print(' '.join([en_itos[o] for o in y[:,i] if o != 1]))\n",
    "    print(' '.join([en_itos[o] for o in preds[:,i] if o!=1]))\n",
    "    print()"
   ]
  },
  {
   "cell_type": "code",
   "execution_count": 136,
   "metadata": {
    "hidden": true
   },
   "outputs": [],
   "source": [
    "#attn = to_np(attns[...,180])\n",
    "attn = to_np(attns)"
   ]
  },
  {
   "cell_type": "code",
   "execution_count": 137,
   "metadata": {
    "hidden": true
   },
   "outputs": [
    {
     "ename": "IndexError",
     "evalue": "index 5 is out of bounds for axis 0 with size 5",
     "output_type": "error",
     "traceback": [
      "\u001b[0;31m---------------------------------------------------------------------------\u001b[0m",
      "\u001b[0;31mIndexError\u001b[0m                                Traceback (most recent call last)",
      "\u001b[0;32m<ipython-input-137-9aeb92a8e660>\u001b[0m in \u001b[0;36m<module>\u001b[0;34m()\u001b[0m\n\u001b[1;32m      1\u001b[0m \u001b[0mfig\u001b[0m\u001b[0;34m,\u001b[0m \u001b[0maxes\u001b[0m \u001b[0;34m=\u001b[0m \u001b[0mplt\u001b[0m\u001b[0;34m.\u001b[0m\u001b[0msubplots\u001b[0m\u001b[0;34m(\u001b[0m\u001b[0;36m3\u001b[0m\u001b[0;34m,\u001b[0m \u001b[0;36m3\u001b[0m\u001b[0;34m,\u001b[0m \u001b[0mfigsize\u001b[0m\u001b[0;34m=\u001b[0m\u001b[0;34m(\u001b[0m\u001b[0;36m15\u001b[0m\u001b[0;34m,\u001b[0m \u001b[0;36m10\u001b[0m\u001b[0;34m)\u001b[0m\u001b[0;34m)\u001b[0m\u001b[0;34m\u001b[0m\u001b[0m\n\u001b[1;32m      2\u001b[0m \u001b[0;32mfor\u001b[0m \u001b[0mi\u001b[0m\u001b[0;34m,\u001b[0m\u001b[0max\u001b[0m \u001b[0;32min\u001b[0m \u001b[0menumerate\u001b[0m\u001b[0;34m(\u001b[0m\u001b[0maxes\u001b[0m\u001b[0;34m.\u001b[0m\u001b[0mflat\u001b[0m\u001b[0;34m)\u001b[0m\u001b[0;34m:\u001b[0m\u001b[0;34m\u001b[0m\u001b[0m\n\u001b[0;32m----> 3\u001b[0;31m     \u001b[0max\u001b[0m\u001b[0;34m.\u001b[0m\u001b[0mplot\u001b[0m\u001b[0;34m(\u001b[0m\u001b[0mattn\u001b[0m\u001b[0;34m[\u001b[0m\u001b[0mi\u001b[0m\u001b[0;34m]\u001b[0m\u001b[0;34m)\u001b[0m\u001b[0;34m\u001b[0m\u001b[0m\n\u001b[0m",
      "\u001b[0;31mIndexError\u001b[0m: index 5 is out of bounds for axis 0 with size 5"
     ]
    },
    {
     "data": {
      "image/png": "[encoded data removed]",
      "text/plain": [
       "<matplotlib.figure.Figure at 0x7f39f4f314e0>"
      ]
     },
     "metadata": {},
     "output_type": "display_data"
    }
   ],
   "source": [
    "fig, axes = plt.subplots(3, 3, figsize=(15, 10))\n",
    "for i,ax in enumerate(axes.flat):\n",
    "    ax.plot(attn[i])"
   ]
  },
  {
   "cell_type": "markdown",
   "metadata": {},
   "source": [
    "## All"
   ]
  },
  {
   "cell_type": "code",
   "execution_count": 138,
   "metadata": {},
   "outputs": [],
   "source": [
    "class Seq2SeqRNN_All(nn.Module):\n",
    "    def __init__(self, vecs_enc, itos_enc, em_sz_enc, vecs_dec, itos_dec, em_sz_dec, nh, out_sl, nl=2):\n",
    "        super().__init__()\n",
    "        self.emb_enc = create_emb(vecs_enc, itos_enc, em_sz_enc)\n",
    "        self.nl,self.nh,self.out_sl = nl,nh,out_sl\n",
    "        self.gru_enc = nn.GRU(em_sz_enc, nh, num_layers=nl, dropout=0.25, bidirectional=True)\n",
    "        self.out_enc = nn.Linear(nh*2, em_sz_dec, bias=False)\n",
    "        self.drop_enc = nn.Dropout(0.25)\n",
    "        self.emb_dec = create_emb(vecs_dec, itos_dec, em_sz_dec)\n",
    "        self.gru_dec = nn.GRU(em_sz_dec, em_sz_dec, num_layers=nl, dropout=0.1)\n",
    "        self.emb_enc_drop = nn.Dropout(0.15)\n",
    "        self.out_drop = nn.Dropout(0.35)\n",
    "        self.out = nn.Linear(em_sz_dec, len(itos_dec))\n",
    "        self.out.weight.data = self.emb_dec.weight.data\n",
    "\n",
    "        self.W1 = rand_p(nh*2, em_sz_dec)\n",
    "        self.l2 = nn.Linear(em_sz_dec, em_sz_dec)\n",
    "        self.l3 = nn.Linear(em_sz_dec+nh*2, em_sz_dec)\n",
    "        self.V = rand_p(em_sz_dec)\n",
    "\n",
    "    def forward(self, inp, y=None):\n",
    "        sl,bs = inp.size()\n",
    "        h = self.initHidden(bs)\n",
    "        emb = self.emb_enc_drop(self.emb_enc(inp))\n",
    "        enc_out, h = self.gru_enc(emb, h)\n",
    "        h = h.view(2,2,bs,-1).permute(0,2,1,3).contiguous().view(2,bs,-1)\n",
    "        h = self.out_enc(self.drop_enc(h))\n",
    "\n",
    "        dec_inp = V(torch.zeros(bs).long())\n",
    "        res,attns = [],[]\n",
    "        w1e = enc_out @ self.W1\n",
    "        for i in range(self.out_sl):\n",
    "            w2h = self.l2(h[-1])\n",
    "            u = F.tanh(w1e + w2h)\n",
    "            a = F.softmax(u @ self.V, 0)\n",
    "            attns.append(a)\n",
    "            Xa = (a.unsqueeze(2) * enc_out).sum(0)\n",
    "            emb = self.emb_dec(dec_inp)\n",
    "            wgt_enc = self.l3(torch.cat([emb, Xa], 1))\n",
    "            \n",
    "            outp, h = self.gru_dec(wgt_enc.unsqueeze(0), h)\n",
    "            outp = self.out(self.out_drop(outp[0]))\n",
    "            res.append(outp)\n",
    "            dec_inp = V(outp.data.max(1)[1])\n",
    "            if (dec_inp==1).all(): break\n",
    "            if (y is not None) and (random.random()<self.pr_force):\n",
    "                if i>=len(y): break\n",
    "                dec_inp = y[i]\n",
    "        return torch.stack(res)\n",
    "\n",
    "    def initHidden(self, bs): return V(torch.zeros(self.nl*2, bs, self.nh))"
   ]
  },
  {
   "cell_type": "code",
   "execution_count": 139,
   "metadata": {},
   "outputs": [
    {
     "name": "stdout",
     "output_type": "stream",
     "text": [
      "58 ['.', '\\u202f', '?', \"j'\", \"l'\"]\n",
      "26 ['!', 'i', 'won', '?', 'nice']\n"
     ]
    }
   ],
   "source": [
    "rnn = Seq2SeqRNN_All(fr_vecd, fr_itos, dim_fr_vec, en_vecd, en_itos, dim_en_vec, nh, enlen_90)\n",
    "learn = RNN_Learner(md, SingleModel(to_gpu(rnn)), opt_fn=opt_fn)\n",
    "learn.crit = seq2seq_loss"
   ]
  },
  {
   "cell_type": "code",
   "execution_count": 140,
   "metadata": {
    "scrolled": true
   },
   "outputs": [
    {
     "data": {
      "application/vnd.jupyter.widget-view+json": {
       "model_id": "24f064c1befb4915bd0a974a7b828796",
       "version_major": 2,
       "version_minor": 0
      },
      "text/plain": [
       "HBox(children=(IntProgress(value=0, description='Epoch', max=15), HTML(value='')))"
      ]
     },
     "metadata": {},
     "output_type": "display_data"
    },
    {
     "name": "stdout",
     "output_type": "stream",
     "text": [
      "epoch      trn_loss   val_loss                            \n",
      "    0      22.50451   19.135098 \n",
      "    1      167.396686 52.193733                           \n",
      "    2      213.272696 175.169619                         \n",
      "    3      151.853019 113.348848                         \n",
      "    4      104.302165 63.093213                          \n",
      "    5      74.818993  46.885777                           \n",
      "    6      60.612482  33.421799                           \n",
      "    7      47.694162  58.685906                           \n",
      "    8      41.594945  32.12168                            \n",
      "    9      36.003564  45.317002                           \n",
      "    10     32.072617  39.232833                           \n",
      "    11     27.169067  31.440382                           \n",
      "    12     21.159663  27.880654                           \n",
      "    13     22.157123  39.520714                           \n",
      "    14     20.78603   25.013472                           \n",
      "\n"
     ]
    },
    {
     "data": {
      "text/plain": [
       "[array([25.01347])]"
      ]
     },
     "execution_count": 140,
     "metadata": {},
     "output_type": "execute_result"
    }
   ],
   "source": [
    "learn.fit(lr, 1, cycle_len=15, use_clr=(20,10), stepper=Seq2SeqStepper)"
   ]
  },
  {
   "cell_type": "code",
   "execution_count": 141,
   "metadata": {},
   "outputs": [
    {
     "name": "stdout",
     "output_type": "stream",
     "text": [
      "vas-y maintenant . _eos_\n",
      "go now . _eos_\n",
      "us us us us us\n",
      "\n",
      "pigé   ? _eos_\n",
      "got it ? _eos_\n",
      "us us us us us\n",
      "\n",
      "serre - moi dans tes bras !\n",
      "hug me . _eos_\n",
      "us us us us us\n",
      "\n",
      "je suis parti . _eos_\n",
      "i left . _eos_\n",
      "us us us us us\n",
      "\n",
      "en aucune manière ! _eos_\n",
      "no way ! _eos_\n",
      "us us us us us\n",
      "\n",
      "sois détendu ! _eos_\n",
      "be cool . _eos_\n",
      "us us us us us\n",
      "\n",
      "soyez équitable ! _eos_\n",
      "be fair . _eos_\n",
      "us us us us us\n",
      "\n",
      "soyez gentille ! _eos_\n",
      "be nice . _eos_\n",
      "us us us us us\n",
      "\n",
      "venez ! _eos_\n",
      "come on . _eos_\n",
      "us us us us us\n",
      "\n",
      "saute . _eos_\n",
      "jump . _eos_\n",
      "us us us us us\n",
      "\n",
      "attends ! _eos_\n",
      "wait ! _eos_\n",
      "us us us us us\n",
      "\n",
      "vraiment   ? _eos_\n",
      "really ? _eos_\n",
      "us us us us us\n",
      "\n",
      "fantastique   ! _eos_\n",
      "awesome ! _eos_\n",
      "us us us us us\n",
      "\n"
     ]
    }
   ],
   "source": [
    "for x,y in iter(val_dl):\n",
    "    #print(x)\n",
    "    for i in range(x.shape[1]):\n",
    "        print(' '.join([fr_itos[o] for o in x[:,i] if o != 1]))\n",
    "        print(' '.join([en_itos[o] for o in y[:,i] if o != 1]))\n",
    "        print(' '.join([en_itos[o] for o in preds[:,i] if o!=1]))\n",
    "        print()"
   ]
  },
  {
   "cell_type": "markdown",
   "metadata": {},
   "source": [
    "### Test"
   ]
  },
  {
   "cell_type": "code",
   "execution_count": 143,
   "metadata": {},
   "outputs": [
    {
     "name": "stdout",
     "output_type": "stream",
     "text": [
      "vas-y maintenant . _eos_\n",
      "go now . _eos_\n",
      "no _eos_ _eos_ _eos_ _eos_\n",
      "\n"
     ]
    }
   ],
   "source": [
    "x,y = next(iter(val_dl))\n",
    "probs = learn.model(V(x))\n",
    "preds = to_np(probs.max(2)[1])\n",
    "\n",
    "#for i in range(180,190):\n",
    "for i in range(1):\n",
    "    print(' '.join([fr_itos[o] for o in x[:,i] if o != 1]))\n",
    "    print(' '.join([en_itos[o] for o in y[:,i] if o != 1]))\n",
    "    print(' '.join([en_itos[o] for o in preds[:,i] if o!=1]))\n",
    "    print()"
   ]
  },
  {
   "cell_type": "code",
   "execution_count": null,
   "metadata": {},
   "outputs": [],
   "source": []
  }
 ],
 "metadata": {
  "kernelspec": {
   "display_name": "Python (fastai-cpu)",
   "language": "python",
   "name": "fastai-cpu"
  },
  "language_info": {
   "codemirror_mode": {
    "name": "ipython",
    "version": 3
   },
   "file_extension": ".py",
   "mimetype": "text/x-python",
   "name": "python",
   "nbconvert_exporter": "python",
   "pygments_lexer": "ipython3",
   "version": "3.6.4"
  },
  "toc": {
   "colors": {
    "hover_highlight": "#DAA520",
    "navigate_num": "#000000",
    "navigate_text": "#333333",
    "running_highlight": "#FF0000",
    "selected_highlight": "#FFD700",
    "sidebar_border": "#EEEEEE",
    "wrapper_background": "#FFFFFF"
   },
   "moveMenuLeft": true,
   "nav_menu": {
    "height": "253px",
    "width": "252px"
   },
   "navigate_menu": true,
   "number_sections": true,
   "sideBar": true,
   "threshold": 4,
   "toc_cell": false,
   "toc_section_display": "block",
   "toc_window_display": false,
   "widenNotebook": false
  }
 },
 "nbformat": 4,
 "nbformat_minor": 2
}
